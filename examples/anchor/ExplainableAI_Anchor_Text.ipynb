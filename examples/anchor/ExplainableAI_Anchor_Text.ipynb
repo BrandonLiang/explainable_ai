{
  "nbformat": 4,
  "nbformat_minor": 0,
  "metadata": {
    "colab": {
      "name": "ExplainableAI-Anchor-Text.ipynb",
      "provenance": [],
      "collapsed_sections": [],
      "machine_shape": "hm"
    },
    "kernelspec": {
      "name": "python3",
      "display_name": "Python 3"
    },
    "accelerator": "GPU"
  },
  "cells": [
    {
      "cell_type": "markdown",
      "metadata": {
        "id": "eIe-yEV5qv4X"
      },
      "source": [
        "# Text model explanation using Anchor Explanations"
      ]
    },
    {
      "cell_type": "markdown",
      "metadata": {
        "id": "AZ88Qu7_q2LX"
      },
      "source": [
        "### Imports and installs"
      ]
    },
    {
      "cell_type": "code",
      "metadata": {
        "id": "Fp31TrfZVU_7"
      },
      "source": [
        "import os\n",
        "import random\n",
        "import spacy\n",
        "\n",
        "import numpy                 as np\n",
        "import tensorflow            as tf\n",
        "import tensorflow_hub        as hub\n",
        "import tensorflow_datasets   as tfds"
      ],
      "execution_count": 1,
      "outputs": []
    },
    {
      "cell_type": "code",
      "metadata": {
        "id": "7mwVfDaArY1I"
      },
      "source": [
        "random.seed(0)\n",
        "np.random.seed(0)\n",
        "tf.random.set_seed(0)"
      ],
      "execution_count": 2,
      "outputs": []
    },
    {
      "cell_type": "code",
      "metadata": {
        "colab": {
          "base_uri": "https://localhost:8080/"
        },
        "id": "ybCLWyDvVZcC",
        "outputId": "be783de6-361c-474c-cd85-09462496757b"
      },
      "source": [
        "!pip install spacy lime pydictionary\n",
        "!python -m spacy download en_core_web_lg"
      ],
      "execution_count": 3,
      "outputs": [
        {
          "output_type": "stream",
          "text": [
            "Requirement already satisfied: spacy in /usr/local/lib/python3.6/dist-packages (2.2.4)\n",
            "Requirement already satisfied: lime in /usr/local/lib/python3.6/dist-packages (0.2.0.1)\n",
            "Requirement already satisfied: pydictionary in /usr/local/lib/python3.6/dist-packages (2.0.1)\n",
            "Requirement already satisfied: preshed<3.1.0,>=3.0.2 in /usr/local/lib/python3.6/dist-packages (from spacy) (3.0.5)\n",
            "Requirement already satisfied: murmurhash<1.1.0,>=0.28.0 in /usr/local/lib/python3.6/dist-packages (from spacy) (1.0.5)\n",
            "Requirement already satisfied: catalogue<1.1.0,>=0.0.7 in /usr/local/lib/python3.6/dist-packages (from spacy) (1.0.0)\n",
            "Requirement already satisfied: tqdm<5.0.0,>=4.38.0 in /usr/local/lib/python3.6/dist-packages (from spacy) (4.41.1)\n",
            "Requirement already satisfied: cymem<2.1.0,>=2.0.2 in /usr/local/lib/python3.6/dist-packages (from spacy) (2.0.5)\n",
            "Requirement already satisfied: numpy>=1.15.0 in /usr/local/lib/python3.6/dist-packages (from spacy) (1.18.5)\n",
            "Requirement already satisfied: requests<3.0.0,>=2.13.0 in /usr/local/lib/python3.6/dist-packages (from spacy) (2.23.0)\n",
            "Requirement already satisfied: thinc==7.4.0 in /usr/local/lib/python3.6/dist-packages (from spacy) (7.4.0)\n",
            "Requirement already satisfied: blis<0.5.0,>=0.4.0 in /usr/local/lib/python3.6/dist-packages (from spacy) (0.4.1)\n",
            "Requirement already satisfied: srsly<1.1.0,>=1.0.2 in /usr/local/lib/python3.6/dist-packages (from spacy) (1.0.5)\n",
            "Requirement already satisfied: setuptools in /usr/local/lib/python3.6/dist-packages (from spacy) (50.3.2)\n",
            "Requirement already satisfied: wasabi<1.1.0,>=0.4.0 in /usr/local/lib/python3.6/dist-packages (from spacy) (0.8.0)\n",
            "Requirement already satisfied: plac<1.2.0,>=0.9.6 in /usr/local/lib/python3.6/dist-packages (from spacy) (1.1.3)\n",
            "Requirement already satisfied: scikit-image>=0.12 in /usr/local/lib/python3.6/dist-packages (from lime) (0.16.2)\n",
            "Requirement already satisfied: scikit-learn>=0.18 in /usr/local/lib/python3.6/dist-packages (from lime) (0.22.2.post1)\n",
            "Requirement already satisfied: matplotlib in /usr/local/lib/python3.6/dist-packages (from lime) (3.2.2)\n",
            "Requirement already satisfied: scipy in /usr/local/lib/python3.6/dist-packages (from lime) (1.4.1)\n",
            "Requirement already satisfied: bs4 in /usr/local/lib/python3.6/dist-packages (from pydictionary) (0.0.1)\n",
            "Requirement already satisfied: goslate in /usr/local/lib/python3.6/dist-packages (from pydictionary) (1.5.1)\n",
            "Requirement already satisfied: click in /usr/local/lib/python3.6/dist-packages (from pydictionary) (7.1.2)\n",
            "Requirement already satisfied: importlib-metadata>=0.20; python_version < \"3.8\" in /usr/local/lib/python3.6/dist-packages (from catalogue<1.1.0,>=0.0.7->spacy) (3.1.1)\n",
            "Requirement already satisfied: urllib3!=1.25.0,!=1.25.1,<1.26,>=1.21.1 in /usr/local/lib/python3.6/dist-packages (from requests<3.0.0,>=2.13.0->spacy) (1.24.3)\n",
            "Requirement already satisfied: idna<3,>=2.5 in /usr/local/lib/python3.6/dist-packages (from requests<3.0.0,>=2.13.0->spacy) (2.10)\n",
            "Requirement already satisfied: chardet<4,>=3.0.2 in /usr/local/lib/python3.6/dist-packages (from requests<3.0.0,>=2.13.0->spacy) (3.0.4)\n",
            "Requirement already satisfied: certifi>=2017.4.17 in /usr/local/lib/python3.6/dist-packages (from requests<3.0.0,>=2.13.0->spacy) (2020.12.5)\n",
            "Requirement already satisfied: pillow>=4.3.0 in /usr/local/lib/python3.6/dist-packages (from scikit-image>=0.12->lime) (7.0.0)\n",
            "Requirement already satisfied: PyWavelets>=0.4.0 in /usr/local/lib/python3.6/dist-packages (from scikit-image>=0.12->lime) (1.1.1)\n",
            "Requirement already satisfied: networkx>=2.0 in /usr/local/lib/python3.6/dist-packages (from scikit-image>=0.12->lime) (2.5)\n",
            "Requirement already satisfied: imageio>=2.3.0 in /usr/local/lib/python3.6/dist-packages (from scikit-image>=0.12->lime) (2.4.1)\n",
            "Requirement already satisfied: joblib>=0.11 in /usr/local/lib/python3.6/dist-packages (from scikit-learn>=0.18->lime) (0.17.0)\n",
            "Requirement already satisfied: cycler>=0.10 in /usr/local/lib/python3.6/dist-packages (from matplotlib->lime) (0.10.0)\n",
            "Requirement already satisfied: python-dateutil>=2.1 in /usr/local/lib/python3.6/dist-packages (from matplotlib->lime) (2.8.1)\n",
            "Requirement already satisfied: kiwisolver>=1.0.1 in /usr/local/lib/python3.6/dist-packages (from matplotlib->lime) (1.3.1)\n",
            "Requirement already satisfied: pyparsing!=2.0.4,!=2.1.2,!=2.1.6,>=2.0.1 in /usr/local/lib/python3.6/dist-packages (from matplotlib->lime) (2.4.7)\n",
            "Requirement already satisfied: beautifulsoup4 in /usr/local/lib/python3.6/dist-packages (from bs4->pydictionary) (4.6.3)\n",
            "Requirement already satisfied: futures in /usr/local/lib/python3.6/dist-packages (from goslate->pydictionary) (3.1.1)\n",
            "Requirement already satisfied: zipp>=0.5 in /usr/local/lib/python3.6/dist-packages (from importlib-metadata>=0.20; python_version < \"3.8\"->catalogue<1.1.0,>=0.0.7->spacy) (3.4.0)\n",
            "Requirement already satisfied: decorator>=4.3.0 in /usr/local/lib/python3.6/dist-packages (from networkx>=2.0->scikit-image>=0.12->lime) (4.4.2)\n",
            "Requirement already satisfied: six in /usr/local/lib/python3.6/dist-packages (from cycler>=0.10->matplotlib->lime) (1.15.0)\n",
            "Requirement already satisfied: en_core_web_lg==2.2.5 from https://github.com/explosion/spacy-models/releases/download/en_core_web_lg-2.2.5/en_core_web_lg-2.2.5.tar.gz#egg=en_core_web_lg==2.2.5 in /usr/local/lib/python3.6/dist-packages (2.2.5)\n",
            "Requirement already satisfied: spacy>=2.2.2 in /usr/local/lib/python3.6/dist-packages (from en_core_web_lg==2.2.5) (2.2.4)\n",
            "Requirement already satisfied: thinc==7.4.0 in /usr/local/lib/python3.6/dist-packages (from spacy>=2.2.2->en_core_web_lg==2.2.5) (7.4.0)\n",
            "Requirement already satisfied: srsly<1.1.0,>=1.0.2 in /usr/local/lib/python3.6/dist-packages (from spacy>=2.2.2->en_core_web_lg==2.2.5) (1.0.5)\n",
            "Requirement already satisfied: preshed<3.1.0,>=3.0.2 in /usr/local/lib/python3.6/dist-packages (from spacy>=2.2.2->en_core_web_lg==2.2.5) (3.0.5)\n",
            "Requirement already satisfied: wasabi<1.1.0,>=0.4.0 in /usr/local/lib/python3.6/dist-packages (from spacy>=2.2.2->en_core_web_lg==2.2.5) (0.8.0)\n",
            "Requirement already satisfied: tqdm<5.0.0,>=4.38.0 in /usr/local/lib/python3.6/dist-packages (from spacy>=2.2.2->en_core_web_lg==2.2.5) (4.41.1)\n",
            "Requirement already satisfied: plac<1.2.0,>=0.9.6 in /usr/local/lib/python3.6/dist-packages (from spacy>=2.2.2->en_core_web_lg==2.2.5) (1.1.3)\n",
            "Requirement already satisfied: requests<3.0.0,>=2.13.0 in /usr/local/lib/python3.6/dist-packages (from spacy>=2.2.2->en_core_web_lg==2.2.5) (2.23.0)\n",
            "Requirement already satisfied: numpy>=1.15.0 in /usr/local/lib/python3.6/dist-packages (from spacy>=2.2.2->en_core_web_lg==2.2.5) (1.18.5)\n",
            "Requirement already satisfied: catalogue<1.1.0,>=0.0.7 in /usr/local/lib/python3.6/dist-packages (from spacy>=2.2.2->en_core_web_lg==2.2.5) (1.0.0)\n",
            "Requirement already satisfied: setuptools in /usr/local/lib/python3.6/dist-packages (from spacy>=2.2.2->en_core_web_lg==2.2.5) (50.3.2)\n",
            "Requirement already satisfied: blis<0.5.0,>=0.4.0 in /usr/local/lib/python3.6/dist-packages (from spacy>=2.2.2->en_core_web_lg==2.2.5) (0.4.1)\n",
            "Requirement already satisfied: cymem<2.1.0,>=2.0.2 in /usr/local/lib/python3.6/dist-packages (from spacy>=2.2.2->en_core_web_lg==2.2.5) (2.0.5)\n",
            "Requirement already satisfied: murmurhash<1.1.0,>=0.28.0 in /usr/local/lib/python3.6/dist-packages (from spacy>=2.2.2->en_core_web_lg==2.2.5) (1.0.5)\n",
            "Requirement already satisfied: urllib3!=1.25.0,!=1.25.1,<1.26,>=1.21.1 in /usr/local/lib/python3.6/dist-packages (from requests<3.0.0,>=2.13.0->spacy>=2.2.2->en_core_web_lg==2.2.5) (1.24.3)\n",
            "Requirement already satisfied: chardet<4,>=3.0.2 in /usr/local/lib/python3.6/dist-packages (from requests<3.0.0,>=2.13.0->spacy>=2.2.2->en_core_web_lg==2.2.5) (3.0.4)\n",
            "Requirement already satisfied: idna<3,>=2.5 in /usr/local/lib/python3.6/dist-packages (from requests<3.0.0,>=2.13.0->spacy>=2.2.2->en_core_web_lg==2.2.5) (2.10)\n",
            "Requirement already satisfied: certifi>=2017.4.17 in /usr/local/lib/python3.6/dist-packages (from requests<3.0.0,>=2.13.0->spacy>=2.2.2->en_core_web_lg==2.2.5) (2020.12.5)\n",
            "Requirement already satisfied: importlib-metadata>=0.20; python_version < \"3.8\" in /usr/local/lib/python3.6/dist-packages (from catalogue<1.1.0,>=0.0.7->spacy>=2.2.2->en_core_web_lg==2.2.5) (3.1.1)\n",
            "Requirement already satisfied: zipp>=0.5 in /usr/local/lib/python3.6/dist-packages (from importlib-metadata>=0.20; python_version < \"3.8\"->catalogue<1.1.0,>=0.0.7->spacy>=2.2.2->en_core_web_lg==2.2.5) (3.4.0)\n",
            "\u001b[38;5;2m✔ Download and installation successful\u001b[0m\n",
            "You can now load the model via spacy.load('en_core_web_lg')\n"
          ],
          "name": "stdout"
        }
      ]
    },
    {
      "cell_type": "code",
      "metadata": {
        "colab": {
          "base_uri": "https://localhost:8080/"
        },
        "id": "J_RJENzCVgxb",
        "outputId": "3887df85-bb6c-4f99-b68c-0fdca7141a7f"
      },
      "source": [
        "os.environ[\"TFHUB_MODEL_LOAD_FORMAT\"] = \"COMPRESSED\"\n",
        "print(\"Version: \", tf.__version__)\n",
        "print(\"Eager mode: \", tf.executing_eagerly())\n",
        "print(\"Hub version: \", hub.__version__)\n",
        "print(\"GPU is\", \"available\" if tf.config.experimental.list_physical_devices(\"GPU\") else \"NOT AVAILABLE\")"
      ],
      "execution_count": 4,
      "outputs": [
        {
          "output_type": "stream",
          "text": [
            "Version:  2.3.0\n",
            "Eager mode:  True\n",
            "Hub version:  0.10.0\n",
            "GPU is available\n"
          ],
          "name": "stdout"
        }
      ]
    },
    {
      "cell_type": "code",
      "metadata": {
        "colab": {
          "base_uri": "https://localhost:8080/"
        },
        "id": "DfyYWxBXXAwT",
        "outputId": "5cec6bd9-7bbc-45d7-cd2a-70ad799141cd"
      },
      "source": [
        "!rm -rf explainable_ai\n",
        "!git clone https://github.com/kartikparnami/explainable_ai.git\n",
        "from explainable_ai.anchor.anchor_text import AnchorText"
      ],
      "execution_count": 5,
      "outputs": [
        {
          "output_type": "stream",
          "text": [
            "Cloning into 'explainable_ai'...\n",
            "remote: Enumerating objects: 33, done.\u001b[K\n",
            "remote: Counting objects: 100% (33/33), done.\u001b[K\n",
            "remote: Compressing objects: 100% (27/27), done.\u001b[K\n",
            "remote: Total 33 (delta 2), reused 33 (delta 2), pack-reused 0\u001b[K\n",
            "Unpacking objects: 100% (33/33), done.\n",
            "[nltk_data] Downloading package stopwords to /root/nltk_data...\n",
            "[nltk_data]   Package stopwords is already up-to-date!\n"
          ],
          "name": "stdout"
        }
      ]
    },
    {
      "cell_type": "markdown",
      "metadata": {
        "id": "EWUzFkPjq7s7"
      },
      "source": [
        "### Construct model and utilities"
      ]
    },
    {
      "cell_type": "code",
      "metadata": {
        "id": "Q4qwtxkVVmNl"
      },
      "source": [
        "def mask_to_categorical(data, mask):\n",
        "    mask = tf.one_hot(tf.cast(mask, tf.int32), 2)\n",
        "    mask = tf.cast(mask, tf.float32)\n",
        "    return data, mask\n",
        "\n",
        "# Split the training set into 60% and 40%, so we'll end up with 15,000 examples\n",
        "# for training, 10,000 examples for validation and 25,000 examples for testing.\n",
        "train_data, validation_data, test_data = tfds.load(\n",
        "    name=\"yelp_polarity_reviews\", \n",
        "    split=('train[:60%]', 'train[60%:]', 'test'),\n",
        "    as_supervised=True)\n",
        "\n",
        "train_examples_batch, train_labels_batch = next(iter(train_data.batch(10).map(mask_to_categorical)))"
      ],
      "execution_count": 6,
      "outputs": []
    },
    {
      "cell_type": "code",
      "metadata": {
        "colab": {
          "base_uri": "https://localhost:8080/"
        },
        "id": "F6_iKlGxXmKr",
        "outputId": "9a79faef-f658-4ec9-97b1-752b243b4930"
      },
      "source": [
        "embedding = \"https://tfhub.dev/google/nnlm-en-dim50/2\"\n",
        "hub_layer = hub.KerasLayer(embedding, input_shape=[], \n",
        "                           dtype=tf.string, trainable=True)\n",
        "hub_layer(train_examples_batch[:3])\n",
        "\n",
        "model = tf.keras.Sequential()\n",
        "model.add(hub_layer)\n",
        "model.add(tf.keras.layers.Dense(128, activation='relu'))\n",
        "model.add(tf.keras.layers.Dense(64, activation='relu'))\n",
        "model.add(tf.keras.layers.Dense(32, activation='relu'))\n",
        "model.add(tf.keras.layers.Dense(16, activation='relu'))\n",
        "model.add(tf.keras.layers.Dense(2, activation='softmax'))\n",
        "\n",
        "model.compile(optimizer='adam',\n",
        "              loss=tf.keras.losses.BinaryCrossentropy(from_logits=False),\n",
        "              metrics=['accuracy'])\n",
        "\n",
        "history = model.fit(train_data.shuffle(10000).batch(512).map(mask_to_categorical),\n",
        "                    epochs=5,\n",
        "                    validation_data=validation_data.batch(512).map(mask_to_categorical),\n",
        "                    verbose=1)"
      ],
      "execution_count": 7,
      "outputs": [
        {
          "output_type": "stream",
          "text": [
            "Epoch 1/5\n",
            "657/657 [==============================] - 29s 44ms/step - loss: 0.2364 - accuracy: 0.9001 - val_loss: 0.1934 - val_accuracy: 0.9210\n",
            "Epoch 2/5\n",
            "657/657 [==============================] - 27s 42ms/step - loss: 0.1639 - accuracy: 0.9353 - val_loss: 0.1944 - val_accuracy: 0.9223\n",
            "Epoch 3/5\n",
            "657/657 [==============================] - 28s 43ms/step - loss: 0.1381 - accuracy: 0.9462 - val_loss: 0.2022 - val_accuracy: 0.9204\n",
            "Epoch 4/5\n",
            "657/657 [==============================] - 30s 46ms/step - loss: 0.1103 - accuracy: 0.9581 - val_loss: 0.2376 - val_accuracy: 0.9175\n",
            "Epoch 5/5\n",
            "657/657 [==============================] - 29s 44ms/step - loss: 0.0799 - accuracy: 0.9708 - val_loss: 0.3009 - val_accuracy: 0.9146\n"
          ],
          "name": "stdout"
        }
      ]
    },
    {
      "cell_type": "code",
      "metadata": {
        "id": "MxvPIJv0XuqN"
      },
      "source": [
        "def predict_lr_anchor(texts):\n",
        "    preds = model.predict(texts)\n",
        "    return np.array([0 if p[0] > p[1] else 1 for p in preds])"
      ],
      "execution_count": 8,
      "outputs": []
    },
    {
      "cell_type": "markdown",
      "metadata": {
        "id": "7wWZ4gCSq-5r"
      },
      "source": [
        "### Anchor text explanation and visualization"
      ]
    },
    {
      "cell_type": "code",
      "metadata": {
        "id": "pPVQeRKlYpv0"
      },
      "source": [
        "a_text = AnchorText()"
      ],
      "execution_count": 9,
      "outputs": []
    },
    {
      "cell_type": "markdown",
      "metadata": {
        "id": "BkJVGD9KrFUw"
      },
      "source": [
        "#### Real positive examples"
      ]
    },
    {
      "cell_type": "code",
      "metadata": {
        "colab": {
          "base_uri": "https://localhost:8080/",
          "height": 69
        },
        "id": "om3yf5p5gDyH",
        "outputId": "d439f1b2-4248-4406-b52a-484660d5c6e7"
      },
      "source": [
        "######################\n",
        "# Correct Prediction #\n",
        "######################\n",
        "\n",
        "text = \"Cheap and delicious! I eat here about once a week because it fills me up for cheap price and the people who work there are really fun. it\\'s like a subway sandwich restaurant for Mexican food. I love the burrito w/ Cheese, Beans & rice w/ sour cream, less than $5 and best in town for that price.\"\n",
        "exp = a_text.explain_instance(text, predict_lr_anchor)\n",
        "exp.visualize_results(text)"
      ],
      "execution_count": 10,
      "outputs": [
        {
          "output_type": "stream",
          "text": [
            "Anchor: delicious AND 5 AND best AND love AND fills AND fun\n"
          ],
          "name": "stdout"
        },
        {
          "output_type": "execute_result",
          "data": {
            "text/html": [
              "<mark style=background:rgba(50,205,50,0.5)>Cheap </mark><mark style=background:#FFFFFF>and </mark><mark style=background:rgba(0,100,0,1)>delicious </mark><mark style=background:#FFFFFF>! </mark><mark style=background:#FFFFFF>I </mark><mark style=background:rgba(50,205,50,0.5)>eat </mark><mark style=background:#FFFFFF>here </mark><mark style=background:#FFFFFF>about </mark><mark style=background:#FFFFFF>once </mark><mark style=background:#FFFFFF>a </mark><mark style=background:rgba(50,205,50,0.5)>week </mark><mark style=background:#FFFFFF>because </mark><mark style=background:#FFFFFF>it </mark><mark style=background:rgba(0,100,0,1)>fills </mark><mark style=background:#FFFFFF>me </mark><mark style=background:#FFFFFF>up </mark><mark style=background:#FFFFFF>for </mark><mark style=background:rgba(50,205,50,0.5)>cheap </mark><mark style=background:rgba(50,205,50,0.5)>price </mark><mark style=background:#FFFFFF>and </mark><mark style=background:#FFFFFF>the </mark><mark style=background:rgba(50,205,50,0.5)>people </mark><mark style=background:#FFFFFF>who </mark><mark style=background:rgba(50,205,50,0.5)>work </mark><mark style=background:#FFFFFF>there </mark><mark style=background:#FFFFFF>are </mark><mark style=background:rgba(50,205,50,0.5)>really </mark><mark style=background:rgba(0,100,0,1)>fun </mark><mark style=background:#FFFFFF>. </mark><mark style=background:#FFFFFF>it </mark><mark style=background:rgba(50,205,50,0.5)>'s </mark><mark style=background:rgba(50,205,50,0.5)>like </mark><mark style=background:#FFFFFF>a </mark><mark style=background:rgba(50,205,50,0.5)>subway </mark><mark style=background:rgba(50,205,50,0.5)>sandwich </mark><mark style=background:rgba(50,205,50,0.5)>restaurant </mark><mark style=background:#FFFFFF>for </mark><mark style=background:#FFFFFF>Mexican </mark><mark style=background:#FFFFFF>food </mark><mark style=background:#FFFFFF>. </mark><mark style=background:#FFFFFF>I </mark><mark style=background:rgba(0,100,0,1)>love </mark><mark style=background:#FFFFFF>the </mark><mark style=background:#FFFFFF>burrito </mark><mark style=background:#FFFFFF>w/ </mark><mark style=background:#FFFFFF>Cheese </mark><mark style=background:#FFFFFF>, </mark><mark style=background:#FFFFFF>Beans </mark><mark style=background:#FFFFFF>& </mark><mark style=background:#FFFFFF>rice </mark><mark style=background:#FFFFFF>w/ </mark><mark style=background:#FFFFFF>sour </mark><mark style=background:#FFFFFF>cream </mark><mark style=background:#FFFFFF>, </mark><mark style=background:#FFFFFF>less </mark><mark style=background:#FFFFFF>than </mark><mark style=background:#FFFFFF>$ </mark><mark style=background:rgba(0,100,0,1)>5 </mark><mark style=background:#FFFFFF>and </mark><mark style=background:rgba(0,100,0,1)>best </mark><mark style=background:#FFFFFF>in </mark><mark style=background:#FFFFFF>town </mark><mark style=background:#FFFFFF>for </mark><mark style=background:#FFFFFF>that </mark><mark style=background:rgba(50,205,50,0.5)>price </mark><mark style=background:#FFFFFF>. </mark>"
            ],
            "text/plain": [
              "<IPython.core.display.HTML object>"
            ]
          },
          "metadata": {
            "tags": []
          },
          "execution_count": 10
        }
      ]
    },
    {
      "cell_type": "markdown",
      "metadata": {
        "id": "bYwHnEhRslUP"
      },
      "source": [
        "Positive explanation and words that contribute the most towards the prediction. Anchor for the complete explanation is the word combo \"delicious, bes, fun, fills and chees\"."
      ]
    },
    {
      "cell_type": "code",
      "metadata": {
        "colab": {
          "base_uri": "https://localhost:8080/",
          "height": 69
        },
        "id": "J1Rqf9fgFoCs",
        "outputId": "389e14c0-54a4-4223-8b91-fabf3502d7a7"
      },
      "source": [
        "########################\n",
        "# Incorrect Prediction #\n",
        "########################\n",
        "\n",
        "text = \"I hate this place. I hate it because I could be checking out a different restaurant but there I am, always coming back for those freaking nachos! Ok, next time i will try and skip Margaritaville but I won't make any promises!\"\n",
        "exp = a_text.explain_instance(text, predict_lr_anchor)\n",
        "exp.visualize_results(text)"
      ],
      "execution_count": 11,
      "outputs": [
        {
          "output_type": "stream",
          "text": [
            "Anchor: promises\n"
          ],
          "name": "stdout"
        },
        {
          "output_type": "execute_result",
          "data": {
            "text/html": [
              "<mark style=background:#FFFFFF>I </mark><mark style=background:rgba(50,205,50,0.5)>hate </mark><mark style=background:#FFFFFF>this </mark><mark style=background:rgba(50,205,50,0.5)>place </mark><mark style=background:#FFFFFF>. </mark><mark style=background:#FFFFFF>I </mark><mark style=background:rgba(50,205,50,0.5)>hate </mark><mark style=background:#FFFFFF>it </mark><mark style=background:#FFFFFF>because </mark><mark style=background:#FFFFFF>I </mark><mark style=background:rgba(50,205,50,0.5)>could </mark><mark style=background:#FFFFFF>be </mark><mark style=background:rgba(50,205,50,0.5)>checking </mark><mark style=background:#FFFFFF>out </mark><mark style=background:#FFFFFF>a </mark><mark style=background:rgba(50,205,50,0.5)>different </mark><mark style=background:rgba(50,205,50,0.5)>restaurant </mark><mark style=background:#FFFFFF>but </mark><mark style=background:#FFFFFF>there </mark><mark style=background:#FFFFFF>I </mark><mark style=background:#FFFFFF>am </mark><mark style=background:#FFFFFF>, </mark><mark style=background:#FFFFFF>always </mark><mark style=background:#FFFFFF>coming </mark><mark style=background:#FFFFFF>back </mark><mark style=background:#FFFFFF>for </mark><mark style=background:#FFFFFF>those </mark><mark style=background:#FFFFFF>freaking </mark><mark style=background:#FFFFFF>nachos </mark><mark style=background:#FFFFFF>! </mark><mark style=background:#FFFFFF>Ok </mark><mark style=background:#FFFFFF>, </mark><mark style=background:#FFFFFF>next </mark><mark style=background:#FFFFFF>time </mark><mark style=background:#FFFFFF>i </mark><mark style=background:#FFFFFF>will </mark><mark style=background:#FFFFFF>try </mark><mark style=background:#FFFFFF>and </mark><mark style=background:#FFFFFF>skip </mark><mark style=background:#FFFFFF>Margaritaville </mark><mark style=background:#FFFFFF>but </mark><mark style=background:#FFFFFF>I </mark><mark style=background:#FFFFFF>wo </mark><mark style=background:#FFFFFF>n't </mark><mark style=background:#FFFFFF>make </mark><mark style=background:#FFFFFF>any </mark><mark style=background:rgba(0,100,0,1)>promises </mark><mark style=background:#FFFFFF>! </mark>"
            ],
            "text/plain": [
              "<IPython.core.display.HTML object>"
            ]
          },
          "metadata": {
            "tags": []
          },
          "execution_count": 11
        }
      ]
    },
    {
      "cell_type": "markdown",
      "metadata": {
        "id": "xuOT1PHOFvIP"
      },
      "source": [
        "Negative explanation and words that contribute the most towards the prediction even though the real label is positive. Anchor for the complete explanation is the word \"promises\"."
      ]
    },
    {
      "cell_type": "markdown",
      "metadata": {
        "id": "tfFFDuLatC2I"
      },
      "source": [
        "#### Real negative example"
      ]
    },
    {
      "cell_type": "code",
      "metadata": {
        "colab": {
          "base_uri": "https://localhost:8080/",
          "height": 69
        },
        "id": "alFL2_LKjNWX",
        "outputId": "fbdb562e-4c99-43d6-e027-aca9b60d0b0c"
      },
      "source": [
        "######################\n",
        "# Correct Prediction #\n",
        "######################\n",
        "\n",
        "text = \"Perhaps it was an off night, but we were really disappointed in our take-out. My husband's pork fried rice was not fried rice...still don't know what it was. His Gen. Tso's chicken was flat and my cashew chicken was flavorless. In the past it has been good food.\"\n",
        "exp = a_text.explain_instance(text, predict_lr_anchor)\n",
        "exp.visualize_results(text)"
      ],
      "execution_count": 12,
      "outputs": [
        {
          "output_type": "stream",
          "text": [
            "Anchor: food\n"
          ],
          "name": "stdout"
        },
        {
          "output_type": "execute_result",
          "data": {
            "text/html": [
              "<mark style=background:#FFFFFF>Perhaps </mark><mark style=background:#FFFFFF>it </mark><mark style=background:#FFFFFF>was </mark><mark style=background:#FFFFFF>an </mark><mark style=background:#FFFFFF>off </mark><mark style=background:rgba(50,205,50,0.5)>night </mark><mark style=background:#FFFFFF>, </mark><mark style=background:#FFFFFF>but </mark><mark style=background:#FFFFFF>we </mark><mark style=background:#FFFFFF>were </mark><mark style=background:rgba(50,205,50,0.5)>really </mark><mark style=background:rgba(50,205,50,0.5)>disappointed </mark><mark style=background:#FFFFFF>in </mark><mark style=background:#FFFFFF>our </mark><mark style=background:rgba(50,205,50,0.5)>take </mark><mark style=background:#FFFFFF>- </mark><mark style=background:#FFFFFF>out </mark><mark style=background:#FFFFFF>. </mark><mark style=background:#FFFFFF>My </mark><mark style=background:rgba(50,205,50,0.5)>husband </mark><mark style=background:rgba(50,205,50,0.5)>'s </mark><mark style=background:rgba(50,205,50,0.5)>pork </mark><mark style=background:rgba(50,205,50,0.5)>fried </mark><mark style=background:#FFFFFF>rice </mark><mark style=background:#FFFFFF>was </mark><mark style=background:#FFFFFF>not </mark><mark style=background:rgba(50,205,50,0.5)>fried </mark><mark style=background:#FFFFFF>rice </mark><mark style=background:#FFFFFF>... </mark><mark style=background:#FFFFFF>still </mark><mark style=background:#FFFFFF>do </mark><mark style=background:#FFFFFF>n't </mark><mark style=background:#FFFFFF>know </mark><mark style=background:#FFFFFF>what </mark><mark style=background:#FFFFFF>it </mark><mark style=background:#FFFFFF>was </mark><mark style=background:#FFFFFF>. </mark><mark style=background:#FFFFFF>His </mark><mark style=background:#FFFFFF>Gen. </mark><mark style=background:#FFFFFF>Tso </mark><mark style=background:rgba(50,205,50,0.5)>'s </mark><mark style=background:#FFFFFF>chicken </mark><mark style=background:#FFFFFF>was </mark><mark style=background:#FFFFFF>flat </mark><mark style=background:#FFFFFF>and </mark><mark style=background:#FFFFFF>my </mark><mark style=background:#FFFFFF>cashew </mark><mark style=background:#FFFFFF>chicken </mark><mark style=background:#FFFFFF>was </mark><mark style=background:#FFFFFF>flavorless </mark><mark style=background:#FFFFFF>. </mark><mark style=background:#FFFFFF>In </mark><mark style=background:#FFFFFF>the </mark><mark style=background:#FFFFFF>past </mark><mark style=background:#FFFFFF>it </mark><mark style=background:#FFFFFF>has </mark><mark style=background:#FFFFFF>been </mark><mark style=background:#FFFFFF>good </mark><mark style=background:rgba(0,100,0,1)>food </mark><mark style=background:#FFFFFF>. </mark>"
            ],
            "text/plain": [
              "<IPython.core.display.HTML object>"
            ]
          },
          "metadata": {
            "tags": []
          },
          "execution_count": 12
        }
      ]
    },
    {
      "cell_type": "markdown",
      "metadata": {
        "id": "nr7PDbHgrUNl"
      },
      "source": [
        "Negative explanation and words that contribute the most towards the prediction. Anchor for the complete explanation is the word \"food\""
      ]
    },
    {
      "cell_type": "code",
      "metadata": {
        "colab": {
          "base_uri": "https://localhost:8080/",
          "height": 124
        },
        "id": "yuSL7x5JFuwn",
        "outputId": "ae5b2bd7-7935-4f70-f554-661c1ff19b0e"
      },
      "source": [
        "########################\n",
        "# Incorrect Prediction #\n",
        "########################\n",
        "\n",
        "text = \"Definitely would not recommend this restaurant to anyone. The food is overly priced, food is not that good, and the service is slow at best. I do not know why anyone would want to come to this restaurant often or how they could afford it. It is not even really a Dim Sum restaurant, more of an eclectic group of Asian foods. \\\\n\\\\nThe restaurant is located right next to the casino area in the Palazzo. The decor is nice, menu seems nice, but then that is about it. I would recommend anyone wanting Dim Sum to go else where.  There are a few great places located off strip if you are adventurous. Either way, don't go here.\"\n",
        "exp = a_text.explain_instance(text, predict_lr_anchor)\n",
        "exp.visualize_results(text)"
      ],
      "execution_count": 13,
      "outputs": [
        {
          "output_type": "stream",
          "text": [
            "Anchor: nice AND great AND best AND nice AND adventurous AND good AND eclectic AND strip AND Definitely AND right AND often AND recommend AND places AND Dim\n"
          ],
          "name": "stdout"
        },
        {
          "output_type": "execute_result",
          "data": {
            "text/html": [
              "<mark style=background:#FFFFFF>Definitely </mark><mark style=background:#FFFFFF>would </mark><mark style=background:#FFFFFF>not </mark><mark style=background:rgba(0,100,0,1)>recommend </mark><mark style=background:#FFFFFF>this </mark><mark style=background:#FFFFFF>restaurant </mark><mark style=background:#FFFFFF>to </mark><mark style=background:#FFFFFF>anyone </mark><mark style=background:#FFFFFF>. </mark><mark style=background:#FFFFFF>The </mark><mark style=background:#FFFFFF>food </mark><mark style=background:#FFFFFF>is </mark><mark style=background:#FFFFFF>overly </mark><mark style=background:#FFFFFF>priced </mark><mark style=background:#FFFFFF>, </mark><mark style=background:#FFFFFF>food </mark><mark style=background:#FFFFFF>is </mark><mark style=background:#FFFFFF>not </mark><mark style=background:#FFFFFF>that </mark><mark style=background:rgba(0,100,0,1)>good </mark><mark style=background:#FFFFFF>, </mark><mark style=background:#FFFFFF>and </mark><mark style=background:#FFFFFF>the </mark><mark style=background:#FFFFFF>service </mark><mark style=background:#FFFFFF>is </mark><mark style=background:#FFFFFF>slow </mark><mark style=background:#FFFFFF>at </mark><mark style=background:rgba(0,100,0,1)>best </mark><mark style=background:#FFFFFF>. </mark><mark style=background:#FFFFFF>I </mark><mark style=background:#FFFFFF>do </mark><mark style=background:#FFFFFF>not </mark><mark style=background:#FFFFFF>know </mark><mark style=background:#FFFFFF>why </mark><mark style=background:#FFFFFF>anyone </mark><mark style=background:#FFFFFF>would </mark><mark style=background:#FFFFFF>want </mark><mark style=background:#FFFFFF>to </mark><mark style=background:#FFFFFF>come </mark><mark style=background:#FFFFFF>to </mark><mark style=background:#FFFFFF>this </mark><mark style=background:#FFFFFF>restaurant </mark><mark style=background:rgba(0,100,0,1)>often </mark><mark style=background:#FFFFFF>or </mark><mark style=background:#FFFFFF>how </mark><mark style=background:#FFFFFF>they </mark><mark style=background:#FFFFFF>could </mark><mark style=background:#FFFFFF>afford </mark><mark style=background:#FFFFFF>it </mark><mark style=background:#FFFFFF>. </mark><mark style=background:#FFFFFF>It </mark><mark style=background:#FFFFFF>is </mark><mark style=background:#FFFFFF>not </mark><mark style=background:#FFFFFF>even </mark><mark style=background:#FFFFFF>really </mark><mark style=background:#FFFFFF>a </mark><mark style=background:#FFFFFF>Dim </mark><mark style=background:#FFFFFF>Sum </mark><mark style=background:#FFFFFF>restaurant </mark><mark style=background:#FFFFFF>, </mark><mark style=background:#FFFFFF>more </mark><mark style=background:#FFFFFF>of </mark><mark style=background:#FFFFFF>an </mark><mark style=background:rgba(0,100,0,1)>eclectic </mark><mark style=background:#FFFFFF>group </mark><mark style=background:#FFFFFF>of </mark><mark style=background:#FFFFFF>Asian </mark><mark style=background:#FFFFFF>foods </mark><mark style=background:#FFFFFF>. </mark><mark style=background:#FFFFFF>\\n\\nThe </mark><mark style=background:#FFFFFF>restaurant </mark><mark style=background:#FFFFFF>is </mark><mark style=background:rgba(50,205,50,0.5)>located </mark><mark style=background:rgba(0,100,0,1)>right </mark><mark style=background:#FFFFFF>next </mark><mark style=background:#FFFFFF>to </mark><mark style=background:#FFFFFF>the </mark><mark style=background:#FFFFFF>casino </mark><mark style=background:#FFFFFF>area </mark><mark style=background:#FFFFFF>in </mark><mark style=background:#FFFFFF>the </mark><mark style=background:#FFFFFF>Palazzo </mark><mark style=background:#FFFFFF>. </mark><mark style=background:#FFFFFF>The </mark><mark style=background:#FFFFFF>decor </mark><mark style=background:#FFFFFF>is </mark><mark style=background:rgba(0,100,0,1)>nice </mark><mark style=background:#FFFFFF>, </mark><mark style=background:#FFFFFF>menu </mark><mark style=background:#FFFFFF>seems </mark><mark style=background:rgba(0,100,0,1)>nice </mark><mark style=background:#FFFFFF>, </mark><mark style=background:#FFFFFF>but </mark><mark style=background:#FFFFFF>then </mark><mark style=background:#FFFFFF>that </mark><mark style=background:#FFFFFF>is </mark><mark style=background:#FFFFFF>about </mark><mark style=background:#FFFFFF>it </mark><mark style=background:#FFFFFF>. </mark><mark style=background:#FFFFFF>I </mark><mark style=background:#FFFFFF>would </mark><mark style=background:rgba(0,100,0,1)>recommend </mark><mark style=background:#FFFFFF>anyone </mark><mark style=background:#FFFFFF>wanting </mark><mark style=background:#FFFFFF>Dim </mark><mark style=background:#FFFFFF>Sum </mark><mark style=background:#FFFFFF>to </mark><mark style=background:#FFFFFF>go </mark><mark style=background:#FFFFFF>else </mark><mark style=background:#FFFFFF>where </mark><mark style=background:#FFFFFF>. </mark><mark style=background:#FFFFFF>  </mark><mark style=background:#FFFFFF>There </mark><mark style=background:#FFFFFF>are </mark><mark style=background:#FFFFFF>a </mark><mark style=background:#FFFFFF>few </mark><mark style=background:rgba(0,100,0,1)>great </mark><mark style=background:rgba(0,100,0,1)>places </mark><mark style=background:rgba(50,205,50,0.5)>located </mark><mark style=background:#FFFFFF>off </mark><mark style=background:rgba(0,100,0,1)>strip </mark><mark style=background:#FFFFFF>if </mark><mark style=background:#FFFFFF>you </mark><mark style=background:#FFFFFF>are </mark><mark style=background:rgba(0,100,0,1)>adventurous </mark><mark style=background:#FFFFFF>. </mark><mark style=background:#FFFFFF>Either </mark><mark style=background:#FFFFFF>way </mark><mark style=background:#FFFFFF>, </mark><mark style=background:#FFFFFF>do </mark><mark style=background:#FFFFFF>n't </mark><mark style=background:#FFFFFF>go </mark><mark style=background:#FFFFFF>here </mark><mark style=background:#FFFFFF>. </mark>"
            ],
            "text/plain": [
              "<IPython.core.display.HTML object>"
            ]
          },
          "metadata": {
            "tags": []
          },
          "execution_count": 13
        }
      ]
    },
    {
      "cell_type": "markdown",
      "metadata": {
        "id": "iFGgeZrxF-y9"
      },
      "source": [
        "Positive explanation and words that contribute the most towards the prediction even though the real label is negative. Anchor for the complete explanation is the word \"go\"."
      ]
    }
  ]
}