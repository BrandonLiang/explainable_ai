{
  "nbformat": 4,
  "nbformat_minor": 0,
  "metadata": {
    "colab": {
      "name": "ExplainableAI-LimeCounterfactural-Text.ipynb",
      "provenance": [],
      "collapsed_sections": [],
      "machine_shape": "hm"
    },
    "kernelspec": {
      "name": "python3",
      "display_name": "Python 3"
    },
    "accelerator": "GPU"
  },
  "cells": [
    {
      "cell_type": "markdown",
      "metadata": {
        "id": "yIQcVSeYrdLS"
      },
      "source": [
        "# Text model explanation using Lime Counterfactuals"
      ]
    },
    {
      "cell_type": "markdown",
      "metadata": {
        "id": "qFCdDlDgrimh"
      },
      "source": [
        "### Imports and installs"
      ]
    },
    {
      "cell_type": "code",
      "metadata": {
        "id": "EeWtDFZ12XKa"
      },
      "source": [
        "import os\n",
        "import random\n",
        "import spacy\n",
        "\n",
        "import numpy                 as np\n",
        "import tensorflow            as tf\n",
        "import tensorflow_hub        as hub\n",
        "import tensorflow_datasets   as tfds"
      ],
      "execution_count": 1,
      "outputs": []
    },
    {
      "cell_type": "code",
      "metadata": {
        "id": "dR_GiCXGrcIn"
      },
      "source": [
        "random.seed(0)\n",
        "np.random.seed(0)\n",
        "tf.random.set_seed(0)"
      ],
      "execution_count": 2,
      "outputs": []
    },
    {
      "cell_type": "code",
      "metadata": {
        "colab": {
          "base_uri": "https://localhost:8080/"
        },
        "id": "jv0N5dDe2Y2q",
        "outputId": "6996bf7f-3d6e-4f9c-cd27-a5eebf1afac4"
      },
      "source": [
        "!pip install spacy lime pydictionary\n",
        "!python -m spacy download en_core_web_lg"
      ],
      "execution_count": 3,
      "outputs": [
        {
          "output_type": "stream",
          "text": [
            "Requirement already satisfied: spacy in /usr/local/lib/python3.6/dist-packages (2.2.4)\n",
            "Requirement already satisfied: lime in /usr/local/lib/python3.6/dist-packages (0.2.0.1)\n",
            "Requirement already satisfied: pydictionary in /usr/local/lib/python3.6/dist-packages (2.0.1)\n",
            "Requirement already satisfied: numpy>=1.15.0 in /usr/local/lib/python3.6/dist-packages (from spacy) (1.18.5)\n",
            "Requirement already satisfied: requests<3.0.0,>=2.13.0 in /usr/local/lib/python3.6/dist-packages (from spacy) (2.23.0)\n",
            "Requirement already satisfied: murmurhash<1.1.0,>=0.28.0 in /usr/local/lib/python3.6/dist-packages (from spacy) (1.0.5)\n",
            "Requirement already satisfied: blis<0.5.0,>=0.4.0 in /usr/local/lib/python3.6/dist-packages (from spacy) (0.4.1)\n",
            "Requirement already satisfied: cymem<2.1.0,>=2.0.2 in /usr/local/lib/python3.6/dist-packages (from spacy) (2.0.5)\n",
            "Requirement already satisfied: thinc==7.4.0 in /usr/local/lib/python3.6/dist-packages (from spacy) (7.4.0)\n",
            "Requirement already satisfied: wasabi<1.1.0,>=0.4.0 in /usr/local/lib/python3.6/dist-packages (from spacy) (0.8.0)\n",
            "Requirement already satisfied: catalogue<1.1.0,>=0.0.7 in /usr/local/lib/python3.6/dist-packages (from spacy) (1.0.0)\n",
            "Requirement already satisfied: preshed<3.1.0,>=3.0.2 in /usr/local/lib/python3.6/dist-packages (from spacy) (3.0.5)\n",
            "Requirement already satisfied: plac<1.2.0,>=0.9.6 in /usr/local/lib/python3.6/dist-packages (from spacy) (1.1.3)\n",
            "Requirement already satisfied: tqdm<5.0.0,>=4.38.0 in /usr/local/lib/python3.6/dist-packages (from spacy) (4.41.1)\n",
            "Requirement already satisfied: setuptools in /usr/local/lib/python3.6/dist-packages (from spacy) (50.3.2)\n",
            "Requirement already satisfied: srsly<1.1.0,>=1.0.2 in /usr/local/lib/python3.6/dist-packages (from spacy) (1.0.5)\n",
            "Requirement already satisfied: matplotlib in /usr/local/lib/python3.6/dist-packages (from lime) (3.2.2)\n",
            "Requirement already satisfied: scipy in /usr/local/lib/python3.6/dist-packages (from lime) (1.4.1)\n",
            "Requirement already satisfied: scikit-image>=0.12 in /usr/local/lib/python3.6/dist-packages (from lime) (0.16.2)\n",
            "Requirement already satisfied: scikit-learn>=0.18 in /usr/local/lib/python3.6/dist-packages (from lime) (0.22.2.post1)\n",
            "Requirement already satisfied: click in /usr/local/lib/python3.6/dist-packages (from pydictionary) (7.1.2)\n",
            "Requirement already satisfied: goslate in /usr/local/lib/python3.6/dist-packages (from pydictionary) (1.5.1)\n",
            "Requirement already satisfied: bs4 in /usr/local/lib/python3.6/dist-packages (from pydictionary) (0.0.1)\n",
            "Requirement already satisfied: urllib3!=1.25.0,!=1.25.1,<1.26,>=1.21.1 in /usr/local/lib/python3.6/dist-packages (from requests<3.0.0,>=2.13.0->spacy) (1.24.3)\n",
            "Requirement already satisfied: chardet<4,>=3.0.2 in /usr/local/lib/python3.6/dist-packages (from requests<3.0.0,>=2.13.0->spacy) (3.0.4)\n",
            "Requirement already satisfied: certifi>=2017.4.17 in /usr/local/lib/python3.6/dist-packages (from requests<3.0.0,>=2.13.0->spacy) (2020.12.5)\n",
            "Requirement already satisfied: idna<3,>=2.5 in /usr/local/lib/python3.6/dist-packages (from requests<3.0.0,>=2.13.0->spacy) (2.10)\n",
            "Requirement already satisfied: importlib-metadata>=0.20; python_version < \"3.8\" in /usr/local/lib/python3.6/dist-packages (from catalogue<1.1.0,>=0.0.7->spacy) (3.1.1)\n",
            "Requirement already satisfied: python-dateutil>=2.1 in /usr/local/lib/python3.6/dist-packages (from matplotlib->lime) (2.8.1)\n",
            "Requirement already satisfied: cycler>=0.10 in /usr/local/lib/python3.6/dist-packages (from matplotlib->lime) (0.10.0)\n",
            "Requirement already satisfied: kiwisolver>=1.0.1 in /usr/local/lib/python3.6/dist-packages (from matplotlib->lime) (1.3.1)\n",
            "Requirement already satisfied: pyparsing!=2.0.4,!=2.1.2,!=2.1.6,>=2.0.1 in /usr/local/lib/python3.6/dist-packages (from matplotlib->lime) (2.4.7)\n",
            "Requirement already satisfied: PyWavelets>=0.4.0 in /usr/local/lib/python3.6/dist-packages (from scikit-image>=0.12->lime) (1.1.1)\n",
            "Requirement already satisfied: pillow>=4.3.0 in /usr/local/lib/python3.6/dist-packages (from scikit-image>=0.12->lime) (7.0.0)\n",
            "Requirement already satisfied: networkx>=2.0 in /usr/local/lib/python3.6/dist-packages (from scikit-image>=0.12->lime) (2.5)\n",
            "Requirement already satisfied: imageio>=2.3.0 in /usr/local/lib/python3.6/dist-packages (from scikit-image>=0.12->lime) (2.4.1)\n",
            "Requirement already satisfied: joblib>=0.11 in /usr/local/lib/python3.6/dist-packages (from scikit-learn>=0.18->lime) (0.17.0)\n",
            "Requirement already satisfied: futures in /usr/local/lib/python3.6/dist-packages (from goslate->pydictionary) (3.1.1)\n",
            "Requirement already satisfied: beautifulsoup4 in /usr/local/lib/python3.6/dist-packages (from bs4->pydictionary) (4.6.3)\n",
            "Requirement already satisfied: zipp>=0.5 in /usr/local/lib/python3.6/dist-packages (from importlib-metadata>=0.20; python_version < \"3.8\"->catalogue<1.1.0,>=0.0.7->spacy) (3.4.0)\n",
            "Requirement already satisfied: six>=1.5 in /usr/local/lib/python3.6/dist-packages (from python-dateutil>=2.1->matplotlib->lime) (1.15.0)\n",
            "Requirement already satisfied: decorator>=4.3.0 in /usr/local/lib/python3.6/dist-packages (from networkx>=2.0->scikit-image>=0.12->lime) (4.4.2)\n",
            "Requirement already satisfied: en_core_web_lg==2.2.5 from https://github.com/explosion/spacy-models/releases/download/en_core_web_lg-2.2.5/en_core_web_lg-2.2.5.tar.gz#egg=en_core_web_lg==2.2.5 in /usr/local/lib/python3.6/dist-packages (2.2.5)\n",
            "Requirement already satisfied: spacy>=2.2.2 in /usr/local/lib/python3.6/dist-packages (from en_core_web_lg==2.2.5) (2.2.4)\n",
            "Requirement already satisfied: srsly<1.1.0,>=1.0.2 in /usr/local/lib/python3.6/dist-packages (from spacy>=2.2.2->en_core_web_lg==2.2.5) (1.0.5)\n",
            "Requirement already satisfied: requests<3.0.0,>=2.13.0 in /usr/local/lib/python3.6/dist-packages (from spacy>=2.2.2->en_core_web_lg==2.2.5) (2.23.0)\n",
            "Requirement already satisfied: murmurhash<1.1.0,>=0.28.0 in /usr/local/lib/python3.6/dist-packages (from spacy>=2.2.2->en_core_web_lg==2.2.5) (1.0.5)\n",
            "Requirement already satisfied: catalogue<1.1.0,>=0.0.7 in /usr/local/lib/python3.6/dist-packages (from spacy>=2.2.2->en_core_web_lg==2.2.5) (1.0.0)\n",
            "Requirement already satisfied: numpy>=1.15.0 in /usr/local/lib/python3.6/dist-packages (from spacy>=2.2.2->en_core_web_lg==2.2.5) (1.18.5)\n",
            "Requirement already satisfied: plac<1.2.0,>=0.9.6 in /usr/local/lib/python3.6/dist-packages (from spacy>=2.2.2->en_core_web_lg==2.2.5) (1.1.3)\n",
            "Requirement already satisfied: thinc==7.4.0 in /usr/local/lib/python3.6/dist-packages (from spacy>=2.2.2->en_core_web_lg==2.2.5) (7.4.0)\n",
            "Requirement already satisfied: preshed<3.1.0,>=3.0.2 in /usr/local/lib/python3.6/dist-packages (from spacy>=2.2.2->en_core_web_lg==2.2.5) (3.0.5)\n",
            "Requirement already satisfied: tqdm<5.0.0,>=4.38.0 in /usr/local/lib/python3.6/dist-packages (from spacy>=2.2.2->en_core_web_lg==2.2.5) (4.41.1)\n",
            "Requirement already satisfied: wasabi<1.1.0,>=0.4.0 in /usr/local/lib/python3.6/dist-packages (from spacy>=2.2.2->en_core_web_lg==2.2.5) (0.8.0)\n",
            "Requirement already satisfied: cymem<2.1.0,>=2.0.2 in /usr/local/lib/python3.6/dist-packages (from spacy>=2.2.2->en_core_web_lg==2.2.5) (2.0.5)\n",
            "Requirement already satisfied: setuptools in /usr/local/lib/python3.6/dist-packages (from spacy>=2.2.2->en_core_web_lg==2.2.5) (50.3.2)\n",
            "Requirement already satisfied: blis<0.5.0,>=0.4.0 in /usr/local/lib/python3.6/dist-packages (from spacy>=2.2.2->en_core_web_lg==2.2.5) (0.4.1)\n",
            "Requirement already satisfied: certifi>=2017.4.17 in /usr/local/lib/python3.6/dist-packages (from requests<3.0.0,>=2.13.0->spacy>=2.2.2->en_core_web_lg==2.2.5) (2020.12.5)\n",
            "Requirement already satisfied: urllib3!=1.25.0,!=1.25.1,<1.26,>=1.21.1 in /usr/local/lib/python3.6/dist-packages (from requests<3.0.0,>=2.13.0->spacy>=2.2.2->en_core_web_lg==2.2.5) (1.24.3)\n",
            "Requirement already satisfied: chardet<4,>=3.0.2 in /usr/local/lib/python3.6/dist-packages (from requests<3.0.0,>=2.13.0->spacy>=2.2.2->en_core_web_lg==2.2.5) (3.0.4)\n",
            "Requirement already satisfied: idna<3,>=2.5 in /usr/local/lib/python3.6/dist-packages (from requests<3.0.0,>=2.13.0->spacy>=2.2.2->en_core_web_lg==2.2.5) (2.10)\n",
            "Requirement already satisfied: importlib-metadata>=0.20; python_version < \"3.8\" in /usr/local/lib/python3.6/dist-packages (from catalogue<1.1.0,>=0.0.7->spacy>=2.2.2->en_core_web_lg==2.2.5) (3.1.1)\n",
            "Requirement already satisfied: zipp>=0.5 in /usr/local/lib/python3.6/dist-packages (from importlib-metadata>=0.20; python_version < \"3.8\"->catalogue<1.1.0,>=0.0.7->spacy>=2.2.2->en_core_web_lg==2.2.5) (3.4.0)\n",
            "\u001b[38;5;2m✔ Download and installation successful\u001b[0m\n",
            "You can now load the model via spacy.load('en_core_web_lg')\n"
          ],
          "name": "stdout"
        }
      ]
    },
    {
      "cell_type": "code",
      "metadata": {
        "colab": {
          "base_uri": "https://localhost:8080/"
        },
        "id": "cW2Hy_9K2b_Z",
        "outputId": "48c2fab7-805c-40b0-f549-bd149c25af7e"
      },
      "source": [
        "os.environ[\"TFHUB_MODEL_LOAD_FORMAT\"] = \"COMPRESSED\"\n",
        "print(\"Version: \", tf.__version__)\n",
        "print(\"Eager mode: \", tf.executing_eagerly())\n",
        "print(\"Hub version: \", hub.__version__)\n",
        "print(\"GPU is\", \"available\" if tf.config.experimental.list_physical_devices(\"GPU\") else \"NOT AVAILABLE\")"
      ],
      "execution_count": 4,
      "outputs": [
        {
          "output_type": "stream",
          "text": [
            "Version:  2.3.0\n",
            "Eager mode:  True\n",
            "Hub version:  0.10.0\n",
            "GPU is available\n"
          ],
          "name": "stdout"
        }
      ]
    },
    {
      "cell_type": "code",
      "metadata": {
        "colab": {
          "base_uri": "https://localhost:8080/"
        },
        "id": "o9D_U2FA28M7",
        "outputId": "ec3129ed-3885-4b34-a6f8-0b3e8b086c3e"
      },
      "source": [
        "!rm -rf explainable_ai\n",
        "!git clone https://github.com/kartikparnami/explainable_ai.git\n",
        "from explainable_ai.counterfactual.lc_text import LimeCounterfactualText"
      ],
      "execution_count": 5,
      "outputs": [
        {
          "output_type": "stream",
          "text": [
            "Cloning into 'explainable_ai'...\n",
            "remote: Enumerating objects: 33, done.\u001b[K\n",
            "remote: Counting objects: 100% (33/33), done.\u001b[K\n",
            "remote: Compressing objects: 100% (27/27), done.\u001b[K\n",
            "remote: Total 33 (delta 2), reused 33 (delta 2), pack-reused 0\u001b[K\n",
            "Unpacking objects: 100% (33/33), done.\n"
          ],
          "name": "stdout"
        }
      ]
    },
    {
      "cell_type": "markdown",
      "metadata": {
        "id": "sNgbk3zMrnhr"
      },
      "source": [
        "### Construct model and utilities"
      ]
    },
    {
      "cell_type": "code",
      "metadata": {
        "id": "XcKINSsp2do3"
      },
      "source": [
        "def mask_to_categorical(data, mask):\n",
        "    mask = tf.one_hot(tf.cast(mask, tf.int32), 2)\n",
        "    mask = tf.cast(mask, tf.float32)\n",
        "    return data, mask\n",
        "\n",
        "# Split the training set into 60% and 40%, so we'll end up with 15,000 examples\n",
        "# for training, 10,000 examples for validation and 25,000 examples for testing.\n",
        "train_data, validation_data, test_data = tfds.load(\n",
        "    name=\"yelp_polarity_reviews\", \n",
        "    split=('train[:60%]', 'train[60%:]', 'test'),\n",
        "    as_supervised=True)\n",
        "\n",
        "train_examples_batch, train_labels_batch = next(iter(train_data.batch(10).map(mask_to_categorical)))"
      ],
      "execution_count": 6,
      "outputs": []
    },
    {
      "cell_type": "code",
      "metadata": {
        "colab": {
          "base_uri": "https://localhost:8080/"
        },
        "id": "Sg3JT1AK2gMk",
        "outputId": "9b65d6d1-17ad-442c-a403-e79a0ceb0aec"
      },
      "source": [
        "embedding = \"https://tfhub.dev/google/nnlm-en-dim50/2\"\n",
        "hub_layer = hub.KerasLayer(embedding, input_shape=[], \n",
        "                           dtype=tf.string, trainable=True)\n",
        "hub_layer(train_examples_batch[:3])\n",
        "\n",
        "model = tf.keras.Sequential()\n",
        "model.add(hub_layer)\n",
        "model.add(tf.keras.layers.Dense(128, activation='relu'))\n",
        "model.add(tf.keras.layers.Dense(64, activation='relu'))\n",
        "model.add(tf.keras.layers.Dense(32, activation='relu'))\n",
        "model.add(tf.keras.layers.Dense(16, activation='relu'))\n",
        "model.add(tf.keras.layers.Dense(2, activation='softmax'))\n",
        "\n",
        "model.compile(optimizer='adam',\n",
        "              loss=tf.keras.losses.BinaryCrossentropy(from_logits=False),\n",
        "              metrics=['accuracy'])\n",
        "\n",
        "history = model.fit(train_data.shuffle(10000).batch(512).map(mask_to_categorical),\n",
        "                    epochs=5,\n",
        "                    validation_data=validation_data.batch(512).map(mask_to_categorical),\n",
        "                    verbose=1)"
      ],
      "execution_count": 7,
      "outputs": [
        {
          "output_type": "stream",
          "text": [
            "Epoch 1/5\n",
            "657/657 [==============================] - 28s 43ms/step - loss: 0.2364 - accuracy: 0.9000 - val_loss: 0.1937 - val_accuracy: 0.9208\n",
            "Epoch 2/5\n",
            "657/657 [==============================] - 28s 43ms/step - loss: 0.1639 - accuracy: 0.9353 - val_loss: 0.1942 - val_accuracy: 0.9223\n",
            "Epoch 3/5\n",
            "657/657 [==============================] - 28s 43ms/step - loss: 0.1380 - accuracy: 0.9465 - val_loss: 0.2027 - val_accuracy: 0.9205\n",
            "Epoch 4/5\n",
            "657/657 [==============================] - 29s 43ms/step - loss: 0.1102 - accuracy: 0.9581 - val_loss: 0.2383 - val_accuracy: 0.9176\n",
            "Epoch 5/5\n",
            "657/657 [==============================] - 28s 43ms/step - loss: 0.0797 - accuracy: 0.9707 - val_loss: 0.2996 - val_accuracy: 0.9135\n"
          ],
          "name": "stdout"
        }
      ]
    },
    {
      "cell_type": "code",
      "metadata": {
        "id": "FloK73Jq3MUp"
      },
      "source": [
        "def predict_lr_counterfactual(texts):\n",
        "    return model.predict(texts)"
      ],
      "execution_count": 8,
      "outputs": []
    },
    {
      "cell_type": "markdown",
      "metadata": {
        "id": "QzYrPPJBrrd3"
      },
      "source": [
        "### Lime Counterfactual text explanation and visualization"
      ]
    },
    {
      "cell_type": "markdown",
      "metadata": {
        "id": "46ZzAkfIsPym"
      },
      "source": [
        "#### Real positive examples"
      ]
    },
    {
      "cell_type": "code",
      "metadata": {
        "id": "IVEBZwdf3NDs"
      },
      "source": [
        "lc_explainer = LimeCounterfactualText()"
      ],
      "execution_count": 9,
      "outputs": []
    },
    {
      "cell_type": "code",
      "metadata": {
        "colab": {
          "base_uri": "https://localhost:8080/",
          "height": 1000
        },
        "id": "8ISC0MU-3Ok-",
        "outputId": "66314583-5a33-4303-bbce-d67640d38da3"
      },
      "source": [
        "######################\n",
        "# Correct Prediction #\n",
        "######################\n",
        "\n",
        "text = \"Cheap and delicious! I eat here about once a week because it fills me up for cheap price and the people who work there are really fun. it\\'s like a subway sandwich restaurant for Mexican food. I love the burrito w/ Cheese, Beans & rice w/ sour cream, less than $5 and best in town for that price.\"\n",
        "lc_explainer.explain_instance(text, predict_lr_counterfactual)"
      ],
      "execution_count": 10,
      "outputs": [
        {
          "output_type": "stream",
          "text": [
            "/usr/local/lib/python3.6/dist-packages/lime/lime_text.py:114: FutureWarning: split() requires a non-empty pattern match.\n",
            "  self.as_list = [s for s in splitter.split(self.raw) if s]\n",
            "/usr/local/lib/python3.6/dist-packages/lime/lime_text.py:114: FutureWarning: split() requires a non-empty pattern match.\n",
            "  self.as_list = [s for s in splitter.split(self.raw) if s]\n",
            "/usr/local/lib/python3.6/dist-packages/lime/lime_text.py:114: FutureWarning: split() requires a non-empty pattern match.\n",
            "  self.as_list = [s for s in splitter.split(self.raw) if s]\n",
            "/usr/local/lib/python3.6/dist-packages/lime/lime_text.py:114: FutureWarning: split() requires a non-empty pattern match.\n",
            "  self.as_list = [s for s in splitter.split(self.raw) if s]\n",
            "/usr/local/lib/python3.6/dist-packages/lime/lime_text.py:114: FutureWarning: split() requires a non-empty pattern match.\n",
            "  self.as_list = [s for s in splitter.split(self.raw) if s]\n",
            "/usr/local/lib/python3.6/dist-packages/lime/lime_text.py:114: FutureWarning: split() requires a non-empty pattern match.\n",
            "  self.as_list = [s for s in splitter.split(self.raw) if s]\n",
            "/usr/local/lib/python3.6/dist-packages/lime/lime_text.py:114: FutureWarning: split() requires a non-empty pattern match.\n",
            "  self.as_list = [s for s in splitter.split(self.raw) if s]\n",
            "/usr/local/lib/python3.6/dist-packages/lime/lime_text.py:114: FutureWarning: split() requires a non-empty pattern match.\n",
            "  self.as_list = [s for s in splitter.split(self.raw) if s]\n",
            "/usr/local/lib/python3.6/dist-packages/lime/lime_text.py:114: FutureWarning: split() requires a non-empty pattern match.\n",
            "  self.as_list = [s for s in splitter.split(self.raw) if s]\n",
            "/usr/local/lib/python3.6/dist-packages/lime/lime_text.py:114: FutureWarning: split() requires a non-empty pattern match.\n",
            "  self.as_list = [s for s in splitter.split(self.raw) if s]\n",
            "/usr/local/lib/python3.6/dist-packages/lime/lime_text.py:114: FutureWarning: split() requires a non-empty pattern match.\n",
            "  self.as_list = [s for s in splitter.split(self.raw) if s]\n",
            "/usr/local/lib/python3.6/dist-packages/lime/lime_text.py:114: FutureWarning: split() requires a non-empty pattern match.\n",
            "  self.as_list = [s for s in splitter.split(self.raw) if s]\n",
            "/usr/local/lib/python3.6/dist-packages/lime/lime_text.py:114: FutureWarning: split() requires a non-empty pattern match.\n",
            "  self.as_list = [s for s in splitter.split(self.raw) if s]\n",
            "/usr/local/lib/python3.6/dist-packages/lime/lime_text.py:114: FutureWarning: split() requires a non-empty pattern match.\n",
            "  self.as_list = [s for s in splitter.split(self.raw) if s]\n",
            "/usr/local/lib/python3.6/dist-packages/lime/lime_text.py:114: FutureWarning: split() requires a non-empty pattern match.\n",
            "  self.as_list = [s for s in splitter.split(self.raw) if s]\n",
            "/usr/local/lib/python3.6/dist-packages/lime/lime_text.py:114: FutureWarning: split() requires a non-empty pattern match.\n",
            "  self.as_list = [s for s in splitter.split(self.raw) if s]\n",
            "/usr/local/lib/python3.6/dist-packages/lime/lime_text.py:114: FutureWarning: split() requires a non-empty pattern match.\n",
            "  self.as_list = [s for s in splitter.split(self.raw) if s]\n",
            "/usr/local/lib/python3.6/dist-packages/lime/lime_text.py:114: FutureWarning: split() requires a non-empty pattern match.\n",
            "  self.as_list = [s for s in splitter.split(self.raw) if s]\n",
            "/usr/local/lib/python3.6/dist-packages/lime/lime_text.py:114: FutureWarning: split() requires a non-empty pattern match.\n",
            "  self.as_list = [s for s in splitter.split(self.raw) if s]\n",
            "/usr/local/lib/python3.6/dist-packages/lime/lime_text.py:114: FutureWarning: split() requires a non-empty pattern match.\n",
            "  self.as_list = [s for s in splitter.split(self.raw) if s]\n",
            "/usr/local/lib/python3.6/dist-packages/lime/lime_text.py:114: FutureWarning: split() requires a non-empty pattern match.\n",
            "  self.as_list = [s for s in splitter.split(self.raw) if s]\n",
            "/usr/local/lib/python3.6/dist-packages/lime/lime_text.py:114: FutureWarning: split() requires a non-empty pattern match.\n",
            "  self.as_list = [s for s in splitter.split(self.raw) if s]\n",
            "/usr/local/lib/python3.6/dist-packages/lime/lime_text.py:114: FutureWarning: split() requires a non-empty pattern match.\n",
            "  self.as_list = [s for s in splitter.split(self.raw) if s]\n",
            "/usr/local/lib/python3.6/dist-packages/lime/lime_text.py:114: FutureWarning: split() requires a non-empty pattern match.\n",
            "  self.as_list = [s for s in splitter.split(self.raw) if s]\n",
            "/usr/local/lib/python3.6/dist-packages/lime/lime_text.py:114: FutureWarning: split() requires a non-empty pattern match.\n",
            "  self.as_list = [s for s in splitter.split(self.raw) if s]\n",
            "/usr/local/lib/python3.6/dist-packages/lime/lime_text.py:114: FutureWarning: split() requires a non-empty pattern match.\n",
            "  self.as_list = [s for s in splitter.split(self.raw) if s]\n",
            "/usr/local/lib/python3.6/dist-packages/lime/lime_text.py:114: FutureWarning: split() requires a non-empty pattern match.\n",
            "  self.as_list = [s for s in splitter.split(self.raw) if s]\n",
            "/usr/local/lib/python3.6/dist-packages/lime/lime_text.py:114: FutureWarning: split() requires a non-empty pattern match.\n",
            "  self.as_list = [s for s in splitter.split(self.raw) if s]\n",
            "/usr/local/lib/python3.6/dist-packages/lime/lime_text.py:114: FutureWarning: split() requires a non-empty pattern match.\n",
            "  self.as_list = [s for s in splitter.split(self.raw) if s]\n"
          ],
          "name": "stderr"
        },
        {
          "output_type": "execute_result",
          "data": {
            "text/html": [
              "<mark style=background-color:#FFFFFF>Cheap </mark><mark style=background-color:#FFFFFF>and </mark><mark style=background-color:#276419><strike>delicious</strike> UNK </mark><mark style=background-color:#FFFFFF>! </mark><mark style=background-color:#FFFFFF>I </mark><mark style=background-color:#FFFFFF>eat </mark><mark style=background-color:#FFFFFF>here </mark><mark style=background-color:#FFFFFF>about </mark><mark style=background-color:#FFFFFF>once </mark><mark style=background-color:#FFFFFF>a </mark><mark style=background-color:#62a32e><strike>week</strike> UNK </mark><mark style=background-color:#FFFFFF>because </mark><mark style=background-color:#FFFFFF>it </mark><mark style=background-color:#FFFFFF>fills </mark><mark style=background-color:#FFFFFF>me </mark><mark style=background-color:#FFFFFF>up </mark><mark style=background-color:#FFFFFF>for </mark><mark style=background-color:#FFFFFF>cheap </mark><mark style=background-color:#FFFFFF>price </mark><mark style=background-color:#FFFFFF>and </mark><mark style=background-color:#FFFFFF>the </mark><mark style=background-color:#FFFFFF>people </mark><mark style=background-color:#FFFFFF>who </mark><mark style=background-color:#FFFFFF>work </mark><mark style=background-color:#FFFFFF>there </mark><mark style=background-color:#FFFFFF>are </mark><mark style=background-color:#FFFFFF>really </mark><mark style=background-color:#ebf6db><strike>fun</strike> UNK </mark><mark style=background-color:#FFFFFF>. </mark><mark style=background-color:#FFFFFF>it </mark><mark style=background-color:#FFFFFF>'s </mark><mark style=background-color:#FFFFFF>like </mark><mark style=background-color:#FFFFFF>a </mark><mark style=background-color:#FFFFFF>subway </mark><mark style=background-color:#FFFFFF>sandwich </mark><mark style=background-color:#FFFFFF>restaurant </mark><mark style=background-color:#FFFFFF>for </mark><mark style=background-color:#FFFFFF>Mexican </mark><mark style=background-color:#FFFFFF>food </mark><mark style=background-color:#FFFFFF>. </mark><mark style=background-color:#FFFFFF>I </mark><mark style=background-color:#d2ecb0><strike>love</strike> UNK </mark><mark style=background-color:#FFFFFF>the </mark><mark style=background-color:#FFFFFF>burrito </mark><mark style=background-color:#FFFFFF>w/ </mark><mark style=background-color:#FFFFFF>Cheese </mark><mark style=background-color:#FFFFFF>, </mark><mark style=background-color:#FFFFFF>Beans </mark><mark style=background-color:#FFFFFF>& </mark><mark style=background-color:#FFFFFF>rice </mark><mark style=background-color:#FFFFFF>w/ </mark><mark style=background-color:#FFFFFF>sour </mark><mark style=background-color:#FFFFFF>cream </mark><mark style=background-color:#FFFFFF>, </mark><mark style=background-color:#FFFFFF>less </mark><mark style=background-color:#86c049><strike>than</strike> UNK </mark><mark style=background-color:#FFFFFF>$ </mark><mark style=background-color:#b0dc7d><strike>5</strike> UNK </mark><mark style=background-color:#FFFFFF>and </mark><mark style=background-color:#42841f><strike>best</strike> UNK </mark><mark style=background-color:#FFFFFF>in </mark><mark style=background-color:#FFFFFF>town </mark><mark style=background-color:#FFFFFF>for </mark><mark style=background-color:#FFFFFF>that </mark><mark style=background-color:#FFFFFF>price </mark><mark style=background-color:#FFFFFF>. </mark>"
            ],
            "text/plain": [
              "<IPython.core.display.HTML object>"
            ]
          },
          "metadata": {
            "tags": []
          },
          "execution_count": 10
        }
      ]
    },
    {
      "cell_type": "markdown",
      "metadata": {
        "id": "jnvrNWFjsJ5H"
      },
      "source": [
        "The words with the most contribution towards the positive prediction are replaced one-by-one by the baseline to understand their importance to the prediction. Lime is used as the heuristic to get their relative importance."
      ]
    },
    {
      "cell_type": "code",
      "metadata": {
        "colab": {
          "base_uri": "https://localhost:8080/",
          "height": 607
        },
        "id": "aLu5x1_V3QF9",
        "outputId": "94d67d36-4c30-48e7-c36a-11a36d72423d"
      },
      "source": [
        "######################\n",
        "# Correct Prediction #\n",
        "######################\n",
        "\n",
        "text = \"Cheap and delicious! I eat here about once a week because it fills me up for cheap price and the people who work there are really fun. it\\'s like a subway sandwich restaurant for Mexican food. I love the burrito w/ Cheese, Beans & rice w/ sour cream, less than $5 and best in town for that price.\"\n",
        "lc_explainer.explain_instance(text, predict_lr_counterfactual, with_antonyms=True)"
      ],
      "execution_count": 11,
      "outputs": [
        {
          "output_type": "stream",
          "text": [
            "/usr/local/lib/python3.6/dist-packages/lime/lime_text.py:114: FutureWarning: split() requires a non-empty pattern match.\n",
            "  self.as_list = [s for s in splitter.split(self.raw) if s]\n",
            "/usr/local/lib/python3.6/dist-packages/lime/lime_text.py:114: FutureWarning: split() requires a non-empty pattern match.\n",
            "  self.as_list = [s for s in splitter.split(self.raw) if s]\n",
            "/usr/local/lib/python3.6/dist-packages/lime/lime_text.py:114: FutureWarning: split() requires a non-empty pattern match.\n",
            "  self.as_list = [s for s in splitter.split(self.raw) if s]\n",
            "/usr/local/lib/python3.6/dist-packages/lime/lime_text.py:114: FutureWarning: split() requires a non-empty pattern match.\n",
            "  self.as_list = [s for s in splitter.split(self.raw) if s]\n",
            "/usr/local/lib/python3.6/dist-packages/lime/lime_text.py:114: FutureWarning: split() requires a non-empty pattern match.\n",
            "  self.as_list = [s for s in splitter.split(self.raw) if s]\n",
            "/usr/local/lib/python3.6/dist-packages/lime/lime_text.py:114: FutureWarning: split() requires a non-empty pattern match.\n",
            "  self.as_list = [s for s in splitter.split(self.raw) if s]\n",
            "/usr/local/lib/python3.6/dist-packages/lime/lime_text.py:114: FutureWarning: split() requires a non-empty pattern match.\n",
            "  self.as_list = [s for s in splitter.split(self.raw) if s]\n",
            "/usr/local/lib/python3.6/dist-packages/lime/lime_text.py:114: FutureWarning: split() requires a non-empty pattern match.\n",
            "  self.as_list = [s for s in splitter.split(self.raw) if s]\n",
            "/usr/local/lib/python3.6/dist-packages/lime/lime_text.py:114: FutureWarning: split() requires a non-empty pattern match.\n",
            "  self.as_list = [s for s in splitter.split(self.raw) if s]\n",
            "/usr/local/lib/python3.6/dist-packages/lime/lime_text.py:114: FutureWarning: split() requires a non-empty pattern match.\n",
            "  self.as_list = [s for s in splitter.split(self.raw) if s]\n",
            "/usr/local/lib/python3.6/dist-packages/lime/lime_text.py:114: FutureWarning: split() requires a non-empty pattern match.\n",
            "  self.as_list = [s for s in splitter.split(self.raw) if s]\n",
            "/usr/local/lib/python3.6/dist-packages/lime/lime_text.py:114: FutureWarning: split() requires a non-empty pattern match.\n",
            "  self.as_list = [s for s in splitter.split(self.raw) if s]\n",
            "/usr/local/lib/python3.6/dist-packages/lime/lime_text.py:114: FutureWarning: split() requires a non-empty pattern match.\n",
            "  self.as_list = [s for s in splitter.split(self.raw) if s]\n",
            "/usr/local/lib/python3.6/dist-packages/lime/lime_text.py:114: FutureWarning: split() requires a non-empty pattern match.\n",
            "  self.as_list = [s for s in splitter.split(self.raw) if s]\n",
            "/usr/local/lib/python3.6/dist-packages/lime/lime_text.py:114: FutureWarning: split() requires a non-empty pattern match.\n",
            "  self.as_list = [s for s in splitter.split(self.raw) if s]\n",
            "/usr/local/lib/python3.6/dist-packages/lime/lime_text.py:114: FutureWarning: split() requires a non-empty pattern match.\n",
            "  self.as_list = [s for s in splitter.split(self.raw) if s]\n"
          ],
          "name": "stderr"
        },
        {
          "output_type": "execute_result",
          "data": {
            "text/html": [
              "<mark style=background-color:#FFFFFF>Cheap </mark><mark style=background-color:#FFFFFF>and </mark><mark style=background-color:#7fbc41><strike>delicious</strike> displeasing </mark><mark style=background-color:#FFFFFF>! </mark><mark style=background-color:#FFFFFF>I </mark><mark style=background-color:#FFFFFF>eat </mark><mark style=background-color:#FFFFFF>here </mark><mark style=background-color:#FFFFFF>about </mark><mark style=background-color:#FFFFFF>once </mark><mark style=background-color:#FFFFFF>a </mark><mark style=background-color:#4c9121><strike>week</strike> beginning </mark><mark style=background-color:#FFFFFF>because </mark><mark style=background-color:#FFFFFF>it </mark><mark style=background-color:#FFFFFF>fills </mark><mark style=background-color:#FFFFFF>me </mark><mark style=background-color:#FFFFFF>up </mark><mark style=background-color:#FFFFFF>for </mark><mark style=background-color:#FFFFFF>cheap </mark><mark style=background-color:#FFFFFF>price </mark><mark style=background-color:#FFFFFF>and </mark><mark style=background-color:#FFFFFF>the </mark><mark style=background-color:#FFFFFF>people </mark><mark style=background-color:#FFFFFF>who </mark><mark style=background-color:#FFFFFF>work </mark><mark style=background-color:#FFFFFF>there </mark><mark style=background-color:#FFFFFF>are </mark><mark style=background-color:#FFFFFF>really </mark><mark style=background-color:#FFFFFF>fun </mark><mark style=background-color:#FFFFFF>. </mark><mark style=background-color:#FFFFFF>it </mark><mark style=background-color:#FFFFFF>'s </mark><mark style=background-color:#FFFFFF>like </mark><mark style=background-color:#FFFFFF>a </mark><mark style=background-color:#FFFFFF>subway </mark><mark style=background-color:#FFFFFF>sandwich </mark><mark style=background-color:#FFFFFF>restaurant </mark><mark style=background-color:#FFFFFF>for </mark><mark style=background-color:#FFFFFF>Mexican </mark><mark style=background-color:#FFFFFF>food </mark><mark style=background-color:#FFFFFF>. </mark><mark style=background-color:#FFFFFF>I </mark><mark style=background-color:#e6f5d0><strike>love</strike> hate </mark><mark style=background-color:#FFFFFF>the </mark><mark style=background-color:#FFFFFF>burrito </mark><mark style=background-color:#FFFFFF>w/ </mark><mark style=background-color:#FFFFFF>Cheese </mark><mark style=background-color:#FFFFFF>, </mark><mark style=background-color:#FFFFFF>Beans </mark><mark style=background-color:#FFFFFF>& </mark><mark style=background-color:#FFFFFF>rice </mark><mark style=background-color:#FFFFFF>w/ </mark><mark style=background-color:#FFFFFF>sour </mark><mark style=background-color:#FFFFFF>cream </mark><mark style=background-color:#FFFFFF>, </mark><mark style=background-color:#FFFFFF>less </mark><mark style=background-color:#FFFFFF>than </mark><mark style=background-color:#FFFFFF>$ </mark><mark style=background-color:#FFFFFF>5 </mark><mark style=background-color:#FFFFFF>and </mark><mark style=background-color:#276419><strike>best</strike> bad </mark><mark style=background-color:#FFFFFF>in </mark><mark style=background-color:#FFFFFF>town </mark><mark style=background-color:#FFFFFF>for </mark><mark style=background-color:#FFFFFF>that </mark><mark style=background-color:#FFFFFF>price </mark><mark style=background-color:#FFFFFF>. </mark>"
            ],
            "text/plain": [
              "<IPython.core.display.HTML object>"
            ]
          },
          "metadata": {
            "tags": []
          },
          "execution_count": 11
        }
      ]
    },
    {
      "cell_type": "markdown",
      "metadata": {
        "id": "MNxxgBUNsOTP"
      },
      "source": [
        "The words with the most contribution towards the positive prediction are replaced one-by-one by an antonym to understand their importance to the prediction. Lime is used as the heuristic to get their relative importance."
      ]
    },
    {
      "cell_type": "code",
      "metadata": {
        "colab": {
          "base_uri": "https://localhost:8080/",
          "height": 295
        },
        "id": "35HTPwsi6-cK",
        "outputId": "a28514cf-6697-4a67-f82f-bab7b3b87df7"
      },
      "source": [
        "########################\n",
        "# Incorrect Prediction #\n",
        "########################\n",
        "\n",
        "text = \"I hate this place. I hate it because I could be checking out a different restaurant but there I am, always coming back for those freaking nachos! Ok, next time i will try and skip Margaritaville but I won't make any promises!\"\n",
        "lc_explainer.explain_instance(text, predict_lr_counterfactual)"
      ],
      "execution_count": 12,
      "outputs": [
        {
          "output_type": "stream",
          "text": [
            "/usr/local/lib/python3.6/dist-packages/lime/lime_text.py:114: FutureWarning: split() requires a non-empty pattern match.\n",
            "  self.as_list = [s for s in splitter.split(self.raw) if s]\n",
            "/usr/local/lib/python3.6/dist-packages/lime/lime_text.py:114: FutureWarning: split() requires a non-empty pattern match.\n",
            "  self.as_list = [s for s in splitter.split(self.raw) if s]\n",
            "/usr/local/lib/python3.6/dist-packages/lime/lime_text.py:114: FutureWarning: split() requires a non-empty pattern match.\n",
            "  self.as_list = [s for s in splitter.split(self.raw) if s]\n",
            "/usr/local/lib/python3.6/dist-packages/lime/lime_text.py:114: FutureWarning: split() requires a non-empty pattern match.\n",
            "  self.as_list = [s for s in splitter.split(self.raw) if s]\n",
            "/usr/local/lib/python3.6/dist-packages/lime/lime_text.py:114: FutureWarning: split() requires a non-empty pattern match.\n",
            "  self.as_list = [s for s in splitter.split(self.raw) if s]\n",
            "/usr/local/lib/python3.6/dist-packages/lime/lime_text.py:114: FutureWarning: split() requires a non-empty pattern match.\n",
            "  self.as_list = [s for s in splitter.split(self.raw) if s]\n",
            "/usr/local/lib/python3.6/dist-packages/lime/lime_text.py:114: FutureWarning: split() requires a non-empty pattern match.\n",
            "  self.as_list = [s for s in splitter.split(self.raw) if s]\n"
          ],
          "name": "stderr"
        },
        {
          "output_type": "execute_result",
          "data": {
            "text/html": [
              "<mark style=background-color:#FFFFFF>I </mark><mark style=background-color:#276419><strike>hate</strike> UNK </mark><mark style=background-color:#FFFFFF>this </mark><mark style=background-color:#FFFFFF>place </mark><mark style=background-color:#FFFFFF>. </mark><mark style=background-color:#FFFFFF>I </mark><mark style=background-color:#276419><strike>hate</strike> UNK </mark><mark style=background-color:#FFFFFF>it </mark><mark style=background-color:#FFFFFF>because </mark><mark style=background-color:#FFFFFF>I </mark><mark style=background-color:#FFFFFF>could </mark><mark style=background-color:#FFFFFF>be </mark><mark style=background-color:#FFFFFF>checking </mark><mark style=background-color:#FFFFFF>out </mark><mark style=background-color:#FFFFFF>a </mark><mark style=background-color:#FFFFFF>different </mark><mark style=background-color:#FFFFFF>restaurant </mark><mark style=background-color:#FFFFFF>but </mark><mark style=background-color:#FFFFFF>there </mark><mark style=background-color:#FFFFFF>I </mark><mark style=background-color:#FFFFFF>am </mark><mark style=background-color:#FFFFFF>, </mark><mark style=background-color:#FFFFFF>always </mark><mark style=background-color:#FFFFFF>coming </mark><mark style=background-color:#FFFFFF>back </mark><mark style=background-color:#FFFFFF>for </mark><mark style=background-color:#FFFFFF>those </mark><mark style=background-color:#FFFFFF>freaking </mark><mark style=background-color:#FFFFFF>nachos </mark><mark style=background-color:#FFFFFF>! </mark><mark style=background-color:#c7e89f><strike>Ok</strike> UNK </mark><mark style=background-color:#FFFFFF>, </mark><mark style=background-color:#FFFFFF>next </mark><mark style=background-color:#FFFFFF>time </mark><mark style=background-color:#FFFFFF>i </mark><mark style=background-color:#FFFFFF>will </mark><mark style=background-color:#FFFFFF>try </mark><mark style=background-color:#FFFFFF>and </mark><mark style=background-color:#FFFFFF>skip </mark><mark style=background-color:#FFFFFF>Margaritaville </mark><mark style=background-color:#FFFFFF>but </mark><mark style=background-color:#FFFFFF>I </mark><mark style=background-color:#FFFFFF>wo </mark><mark style=background-color:#FFFFFF>n't </mark><mark style=background-color:#FFFFFF>make </mark><mark style=background-color:#FFFFFF>any </mark><mark style=background-color:#6dad36><strike>promises</strike> UNK </mark><mark style=background-color:#FFFFFF>! </mark>"
            ],
            "text/plain": [
              "<IPython.core.display.HTML object>"
            ]
          },
          "metadata": {
            "tags": []
          },
          "execution_count": 12
        }
      ]
    },
    {
      "cell_type": "markdown",
      "metadata": {
        "id": "Mz17vsTE6-rD"
      },
      "source": [
        "The words with the most contribution towards the negative prediction are replaced one-by-one by the baseline to understand their importance to the prediction even though the real label is positive. Lime is used as the heuristic to get their relative importance."
      ]
    },
    {
      "cell_type": "code",
      "metadata": {
        "colab": {
          "base_uri": "https://localhost:8080/",
          "height": 191
        },
        "id": "qr5F8ImN6_60",
        "outputId": "3a34c310-fb8f-4d2e-fab1-656d6dd38e04"
      },
      "source": [
        "########################\n",
        "# Incorrect Prediction #\n",
        "########################\n",
        "\n",
        "text = \"I hate this place. I hate it because I could be checking out a different restaurant but there I am, always coming back for those freaking nachos! Ok, next time i will try and skip Margaritaville but I won't make any promises!\"\n",
        "lc_explainer.explain_instance(text, predict_lr_counterfactual, with_antonyms=True)"
      ],
      "execution_count": 13,
      "outputs": [
        {
          "output_type": "stream",
          "text": [
            "/usr/local/lib/python3.6/dist-packages/lime/lime_text.py:114: FutureWarning: split() requires a non-empty pattern match.\n",
            "  self.as_list = [s for s in splitter.split(self.raw) if s]\n",
            "/usr/local/lib/python3.6/dist-packages/lime/lime_text.py:114: FutureWarning: split() requires a non-empty pattern match.\n",
            "  self.as_list = [s for s in splitter.split(self.raw) if s]\n",
            "/usr/local/lib/python3.6/dist-packages/lime/lime_text.py:114: FutureWarning: split() requires a non-empty pattern match.\n",
            "  self.as_list = [s for s in splitter.split(self.raw) if s]\n",
            "/usr/local/lib/python3.6/dist-packages/lime/lime_text.py:114: FutureWarning: split() requires a non-empty pattern match.\n",
            "  self.as_list = [s for s in splitter.split(self.raw) if s]\n"
          ],
          "name": "stderr"
        },
        {
          "output_type": "execute_result",
          "data": {
            "text/html": [
              "<mark style=background-color:#FFFFFF>I </mark><mark style=background-color:#276419><strike>hate</strike> love </mark><mark style=background-color:#FFFFFF>this </mark><mark style=background-color:#FFFFFF>place </mark><mark style=background-color:#FFFFFF>. </mark><mark style=background-color:#FFFFFF>I </mark><mark style=background-color:#276419><strike>hate</strike> love </mark><mark style=background-color:#FFFFFF>it </mark><mark style=background-color:#FFFFFF>because </mark><mark style=background-color:#FFFFFF>I </mark><mark style=background-color:#FFFFFF>could </mark><mark style=background-color:#FFFFFF>be </mark><mark style=background-color:#FFFFFF>checking </mark><mark style=background-color:#FFFFFF>out </mark><mark style=background-color:#FFFFFF>a </mark><mark style=background-color:#FFFFFF>different </mark><mark style=background-color:#FFFFFF>restaurant </mark><mark style=background-color:#FFFFFF>but </mark><mark style=background-color:#FFFFFF>there </mark><mark style=background-color:#FFFFFF>I </mark><mark style=background-color:#FFFFFF>am </mark><mark style=background-color:#FFFFFF>, </mark><mark style=background-color:#FFFFFF>always </mark><mark style=background-color:#FFFFFF>coming </mark><mark style=background-color:#FFFFFF>back </mark><mark style=background-color:#FFFFFF>for </mark><mark style=background-color:#FFFFFF>those </mark><mark style=background-color:#FFFFFF>freaking </mark><mark style=background-color:#FFFFFF>nachos </mark><mark style=background-color:#FFFFFF>! </mark><mark style=background-color:#FFFFFF>Ok </mark><mark style=background-color:#FFFFFF>, </mark><mark style=background-color:#FFFFFF>next </mark><mark style=background-color:#FFFFFF>time </mark><mark style=background-color:#FFFFFF>i </mark><mark style=background-color:#FFFFFF>will </mark><mark style=background-color:#FFFFFF>try </mark><mark style=background-color:#FFFFFF>and </mark><mark style=background-color:#FFFFFF>skip </mark><mark style=background-color:#FFFFFF>Margaritaville </mark><mark style=background-color:#FFFFFF>but </mark><mark style=background-color:#FFFFFF>I </mark><mark style=background-color:#FFFFFF>wo </mark><mark style=background-color:#FFFFFF>n't </mark><mark style=background-color:#FFFFFF>make </mark><mark style=background-color:#FFFFFF>any </mark><mark style=background-color:#9acd61><strike>promises</strike> contraindicate </mark><mark style=background-color:#FFFFFF>! </mark>"
            ],
            "text/plain": [
              "<IPython.core.display.HTML object>"
            ]
          },
          "metadata": {
            "tags": []
          },
          "execution_count": 13
        }
      ]
    },
    {
      "cell_type": "markdown",
      "metadata": {
        "id": "5k8RI5iD7ARJ"
      },
      "source": [
        "The words with the most contribution towards the negative prediction are replaced one-by-one by an antonym to understand their importance to the prediction even though the real label is positive. Lime is used as the heuristic to get their relative importance."
      ]
    },
    {
      "cell_type": "markdown",
      "metadata": {
        "id": "UfXCA2OjsTx5"
      },
      "source": [
        "#### Real negative examples"
      ]
    },
    {
      "cell_type": "code",
      "metadata": {
        "id": "3vlg03vU3R9G"
      },
      "source": [
        "lc_explainer = LimeCounterfactualText()"
      ],
      "execution_count": 14,
      "outputs": []
    },
    {
      "cell_type": "code",
      "metadata": {
        "colab": {
          "base_uri": "https://localhost:8080/",
          "height": 1000
        },
        "id": "MxtMMCpo3R6q",
        "outputId": "6ae2c200-53d4-42e0-f805-116736a83b1d"
      },
      "source": [
        "######################\n",
        "# Correct Prediction #\n",
        "######################\n",
        "\n",
        "text = \"Perhaps it was an off night, but we were really disappointed in our take-out. My husband's pork fried rice was not fried rice...still don't know what it was. His Gen. Tso's chicken was flat and my cashew chicken was flavorless. In the past it has been good food.\"\n",
        "lc_explainer.explain_instance(text, predict_lr_counterfactual)"
      ],
      "execution_count": 15,
      "outputs": [
        {
          "output_type": "stream",
          "text": [
            "/usr/local/lib/python3.6/dist-packages/lime/lime_text.py:114: FutureWarning: split() requires a non-empty pattern match.\n",
            "  self.as_list = [s for s in splitter.split(self.raw) if s]\n",
            "/usr/local/lib/python3.6/dist-packages/lime/lime_text.py:114: FutureWarning: split() requires a non-empty pattern match.\n",
            "  self.as_list = [s for s in splitter.split(self.raw) if s]\n",
            "/usr/local/lib/python3.6/dist-packages/lime/lime_text.py:114: FutureWarning: split() requires a non-empty pattern match.\n",
            "  self.as_list = [s for s in splitter.split(self.raw) if s]\n",
            "/usr/local/lib/python3.6/dist-packages/lime/lime_text.py:114: FutureWarning: split() requires a non-empty pattern match.\n",
            "  self.as_list = [s for s in splitter.split(self.raw) if s]\n",
            "/usr/local/lib/python3.6/dist-packages/lime/lime_text.py:114: FutureWarning: split() requires a non-empty pattern match.\n",
            "  self.as_list = [s for s in splitter.split(self.raw) if s]\n",
            "/usr/local/lib/python3.6/dist-packages/lime/lime_text.py:114: FutureWarning: split() requires a non-empty pattern match.\n",
            "  self.as_list = [s for s in splitter.split(self.raw) if s]\n",
            "/usr/local/lib/python3.6/dist-packages/lime/lime_text.py:114: FutureWarning: split() requires a non-empty pattern match.\n",
            "  self.as_list = [s for s in splitter.split(self.raw) if s]\n",
            "/usr/local/lib/python3.6/dist-packages/lime/lime_text.py:114: FutureWarning: split() requires a non-empty pattern match.\n",
            "  self.as_list = [s for s in splitter.split(self.raw) if s]\n",
            "/usr/local/lib/python3.6/dist-packages/lime/lime_text.py:114: FutureWarning: split() requires a non-empty pattern match.\n",
            "  self.as_list = [s for s in splitter.split(self.raw) if s]\n",
            "/usr/local/lib/python3.6/dist-packages/lime/lime_text.py:114: FutureWarning: split() requires a non-empty pattern match.\n",
            "  self.as_list = [s for s in splitter.split(self.raw) if s]\n",
            "/usr/local/lib/python3.6/dist-packages/lime/lime_text.py:114: FutureWarning: split() requires a non-empty pattern match.\n",
            "  self.as_list = [s for s in splitter.split(self.raw) if s]\n",
            "/usr/local/lib/python3.6/dist-packages/lime/lime_text.py:114: FutureWarning: split() requires a non-empty pattern match.\n",
            "  self.as_list = [s for s in splitter.split(self.raw) if s]\n",
            "/usr/local/lib/python3.6/dist-packages/lime/lime_text.py:114: FutureWarning: split() requires a non-empty pattern match.\n",
            "  self.as_list = [s for s in splitter.split(self.raw) if s]\n",
            "/usr/local/lib/python3.6/dist-packages/lime/lime_text.py:114: FutureWarning: split() requires a non-empty pattern match.\n",
            "  self.as_list = [s for s in splitter.split(self.raw) if s]\n",
            "/usr/local/lib/python3.6/dist-packages/lime/lime_text.py:114: FutureWarning: split() requires a non-empty pattern match.\n",
            "  self.as_list = [s for s in splitter.split(self.raw) if s]\n",
            "/usr/local/lib/python3.6/dist-packages/lime/lime_text.py:114: FutureWarning: split() requires a non-empty pattern match.\n",
            "  self.as_list = [s for s in splitter.split(self.raw) if s]\n",
            "/usr/local/lib/python3.6/dist-packages/lime/lime_text.py:114: FutureWarning: split() requires a non-empty pattern match.\n",
            "  self.as_list = [s for s in splitter.split(self.raw) if s]\n",
            "/usr/local/lib/python3.6/dist-packages/lime/lime_text.py:114: FutureWarning: split() requires a non-empty pattern match.\n",
            "  self.as_list = [s for s in splitter.split(self.raw) if s]\n",
            "/usr/local/lib/python3.6/dist-packages/lime/lime_text.py:114: FutureWarning: split() requires a non-empty pattern match.\n",
            "  self.as_list = [s for s in splitter.split(self.raw) if s]\n",
            "/usr/local/lib/python3.6/dist-packages/lime/lime_text.py:114: FutureWarning: split() requires a non-empty pattern match.\n",
            "  self.as_list = [s for s in splitter.split(self.raw) if s]\n",
            "/usr/local/lib/python3.6/dist-packages/lime/lime_text.py:114: FutureWarning: split() requires a non-empty pattern match.\n",
            "  self.as_list = [s for s in splitter.split(self.raw) if s]\n",
            "/usr/local/lib/python3.6/dist-packages/lime/lime_text.py:114: FutureWarning: split() requires a non-empty pattern match.\n",
            "  self.as_list = [s for s in splitter.split(self.raw) if s]\n",
            "/usr/local/lib/python3.6/dist-packages/lime/lime_text.py:114: FutureWarning: split() requires a non-empty pattern match.\n",
            "  self.as_list = [s for s in splitter.split(self.raw) if s]\n",
            "/usr/local/lib/python3.6/dist-packages/lime/lime_text.py:114: FutureWarning: split() requires a non-empty pattern match.\n",
            "  self.as_list = [s for s in splitter.split(self.raw) if s]\n",
            "/usr/local/lib/python3.6/dist-packages/lime/lime_text.py:114: FutureWarning: split() requires a non-empty pattern match.\n",
            "  self.as_list = [s for s in splitter.split(self.raw) if s]\n",
            "/usr/local/lib/python3.6/dist-packages/lime/lime_text.py:114: FutureWarning: split() requires a non-empty pattern match.\n",
            "  self.as_list = [s for s in splitter.split(self.raw) if s]\n",
            "/usr/local/lib/python3.6/dist-packages/lime/lime_text.py:114: FutureWarning: split() requires a non-empty pattern match.\n",
            "  self.as_list = [s for s in splitter.split(self.raw) if s]\n",
            "/usr/local/lib/python3.6/dist-packages/lime/lime_text.py:114: FutureWarning: split() requires a non-empty pattern match.\n",
            "  self.as_list = [s for s in splitter.split(self.raw) if s]\n",
            "/usr/local/lib/python3.6/dist-packages/lime/lime_text.py:114: FutureWarning: split() requires a non-empty pattern match.\n",
            "  self.as_list = [s for s in splitter.split(self.raw) if s]\n",
            "/usr/local/lib/python3.6/dist-packages/lime/lime_text.py:114: FutureWarning: split() requires a non-empty pattern match.\n",
            "  self.as_list = [s for s in splitter.split(self.raw) if s]\n",
            "/usr/local/lib/python3.6/dist-packages/lime/lime_text.py:114: FutureWarning: split() requires a non-empty pattern match.\n",
            "  self.as_list = [s for s in splitter.split(self.raw) if s]\n",
            "/usr/local/lib/python3.6/dist-packages/lime/lime_text.py:114: FutureWarning: split() requires a non-empty pattern match.\n",
            "  self.as_list = [s for s in splitter.split(self.raw) if s]\n",
            "/usr/local/lib/python3.6/dist-packages/lime/lime_text.py:114: FutureWarning: split() requires a non-empty pattern match.\n",
            "  self.as_list = [s for s in splitter.split(self.raw) if s]\n",
            "/usr/local/lib/python3.6/dist-packages/lime/lime_text.py:114: FutureWarning: split() requires a non-empty pattern match.\n",
            "  self.as_list = [s for s in splitter.split(self.raw) if s]\n",
            "/usr/local/lib/python3.6/dist-packages/lime/lime_text.py:114: FutureWarning: split() requires a non-empty pattern match.\n",
            "  self.as_list = [s for s in splitter.split(self.raw) if s]\n",
            "/usr/local/lib/python3.6/dist-packages/lime/lime_text.py:114: FutureWarning: split() requires a non-empty pattern match.\n",
            "  self.as_list = [s for s in splitter.split(self.raw) if s]\n",
            "/usr/local/lib/python3.6/dist-packages/lime/lime_text.py:114: FutureWarning: split() requires a non-empty pattern match.\n",
            "  self.as_list = [s for s in splitter.split(self.raw) if s]\n",
            "/usr/local/lib/python3.6/dist-packages/lime/lime_text.py:114: FutureWarning: split() requires a non-empty pattern match.\n",
            "  self.as_list = [s for s in splitter.split(self.raw) if s]\n",
            "/usr/local/lib/python3.6/dist-packages/lime/lime_text.py:114: FutureWarning: split() requires a non-empty pattern match.\n",
            "  self.as_list = [s for s in splitter.split(self.raw) if s]\n",
            "/usr/local/lib/python3.6/dist-packages/lime/lime_text.py:114: FutureWarning: split() requires a non-empty pattern match.\n",
            "  self.as_list = [s for s in splitter.split(self.raw) if s]\n",
            "/usr/local/lib/python3.6/dist-packages/lime/lime_text.py:114: FutureWarning: split() requires a non-empty pattern match.\n",
            "  self.as_list = [s for s in splitter.split(self.raw) if s]\n",
            "/usr/local/lib/python3.6/dist-packages/lime/lime_text.py:114: FutureWarning: split() requires a non-empty pattern match.\n",
            "  self.as_list = [s for s in splitter.split(self.raw) if s]\n",
            "/usr/local/lib/python3.6/dist-packages/lime/lime_text.py:114: FutureWarning: split() requires a non-empty pattern match.\n",
            "  self.as_list = [s for s in splitter.split(self.raw) if s]\n",
            "/usr/local/lib/python3.6/dist-packages/lime/lime_text.py:114: FutureWarning: split() requires a non-empty pattern match.\n",
            "  self.as_list = [s for s in splitter.split(self.raw) if s]\n",
            "/usr/local/lib/python3.6/dist-packages/lime/lime_text.py:114: FutureWarning: split() requires a non-empty pattern match.\n",
            "  self.as_list = [s for s in splitter.split(self.raw) if s]\n",
            "/usr/local/lib/python3.6/dist-packages/lime/lime_text.py:114: FutureWarning: split() requires a non-empty pattern match.\n",
            "  self.as_list = [s for s in splitter.split(self.raw) if s]\n",
            "/usr/local/lib/python3.6/dist-packages/lime/lime_text.py:114: FutureWarning: split() requires a non-empty pattern match.\n",
            "  self.as_list = [s for s in splitter.split(self.raw) if s]\n",
            "/usr/local/lib/python3.6/dist-packages/lime/lime_text.py:114: FutureWarning: split() requires a non-empty pattern match.\n",
            "  self.as_list = [s for s in splitter.split(self.raw) if s]\n",
            "/usr/local/lib/python3.6/dist-packages/lime/lime_text.py:114: FutureWarning: split() requires a non-empty pattern match.\n",
            "  self.as_list = [s for s in splitter.split(self.raw) if s]\n",
            "/usr/local/lib/python3.6/dist-packages/lime/lime_text.py:114: FutureWarning: split() requires a non-empty pattern match.\n",
            "  self.as_list = [s for s in splitter.split(self.raw) if s]\n",
            "/usr/local/lib/python3.6/dist-packages/lime/lime_text.py:114: FutureWarning: split() requires a non-empty pattern match.\n",
            "  self.as_list = [s for s in splitter.split(self.raw) if s]\n",
            "/usr/local/lib/python3.6/dist-packages/lime/lime_text.py:114: FutureWarning: split() requires a non-empty pattern match.\n",
            "  self.as_list = [s for s in splitter.split(self.raw) if s]\n",
            "/usr/local/lib/python3.6/dist-packages/lime/lime_text.py:114: FutureWarning: split() requires a non-empty pattern match.\n",
            "  self.as_list = [s for s in splitter.split(self.raw) if s]\n",
            "/usr/local/lib/python3.6/dist-packages/lime/lime_text.py:114: FutureWarning: split() requires a non-empty pattern match.\n",
            "  self.as_list = [s for s in splitter.split(self.raw) if s]\n",
            "/usr/local/lib/python3.6/dist-packages/lime/lime_text.py:114: FutureWarning: split() requires a non-empty pattern match.\n",
            "  self.as_list = [s for s in splitter.split(self.raw) if s]\n",
            "/usr/local/lib/python3.6/dist-packages/lime/lime_text.py:114: FutureWarning: split() requires a non-empty pattern match.\n",
            "  self.as_list = [s for s in splitter.split(self.raw) if s]\n"
          ],
          "name": "stderr"
        },
        {
          "output_type": "execute_result",
          "data": {
            "text/html": [
              "<mark style=background-color:#b7e085><strike>Perhaps</strike> UNK </mark><mark style=background-color:#FFFFFF>it </mark><mark style=background-color:#4c9121><strike>was</strike> UNK </mark><mark style=background-color:#FFFFFF>an </mark><mark style=background-color:#FFFFFF>off </mark><mark style=background-color:#FFFFFF>night </mark><mark style=background-color:#FFFFFF>, </mark><mark style=background-color:#FFFFFF>but </mark><mark style=background-color:#FFFFFF>we </mark><mark style=background-color:#FFFFFF>were </mark><mark style=background-color:#FFFFFF>really </mark><mark style=background-color:#e6f5d0><strike>disappointed</strike> UNK </mark><mark style=background-color:#FFFFFF>in </mark><mark style=background-color:#FFFFFF>our </mark><mark style=background-color:#FFFFFF>take </mark><mark style=background-color:#FFFFFF>- </mark><mark style=background-color:#FFFFFF>out </mark><mark style=background-color:#FFFFFF>. </mark><mark style=background-color:#FFFFFF>My </mark><mark style=background-color:#FFFFFF>husband </mark><mark style=background-color:#FFFFFF>'s </mark><mark style=background-color:#FFFFFF>pork </mark><mark style=background-color:#FFFFFF>fried </mark><mark style=background-color:#FFFFFF>rice </mark><mark style=background-color:#4c9121><strike>was</strike> UNK </mark><mark style=background-color:#7fbc41><strike>not</strike> UNK </mark><mark style=background-color:#FFFFFF>fried </mark><mark style=background-color:#FFFFFF>rice </mark><mark style=background-color:#FFFFFF>... </mark><mark style=background-color:#FFFFFF>still </mark><mark style=background-color:#FFFFFF>do </mark><mark style=background-color:#FFFFFF>n't </mark><mark style=background-color:#FFFFFF>know </mark><mark style=background-color:#FFFFFF>what </mark><mark style=background-color:#FFFFFF>it </mark><mark style=background-color:#4c9121><strike>was</strike> UNK </mark><mark style=background-color:#FFFFFF>. </mark><mark style=background-color:#FFFFFF>His </mark><mark style=background-color:#FFFFFF>Gen. </mark><mark style=background-color:#FFFFFF>Tso </mark><mark style=background-color:#FFFFFF>'s </mark><mark style=background-color:#FFFFFF>chicken </mark><mark style=background-color:#4c9121><strike>was</strike> UNK </mark><mark style=background-color:#FFFFFF>flat </mark><mark style=background-color:#FFFFFF>and </mark><mark style=background-color:#FFFFFF>my </mark><mark style=background-color:#FFFFFF>cashew </mark><mark style=background-color:#FFFFFF>chicken </mark><mark style=background-color:#4c9121><strike>was</strike> UNK </mark><mark style=background-color:#276419><strike>flavorless</strike> UNK </mark><mark style=background-color:#FFFFFF>. </mark><mark style=background-color:#FFFFFF>In </mark><mark style=background-color:#FFFFFF>the </mark><mark style=background-color:#FFFFFF>past </mark><mark style=background-color:#FFFFFF>it </mark><mark style=background-color:#FFFFFF>has </mark><mark style=background-color:#FFFFFF>been </mark><mark style=background-color:#FFFFFF>good </mark><mark style=background-color:#FFFFFF>food </mark><mark style=background-color:#FFFFFF>. </mark>"
            ],
            "text/plain": [
              "<IPython.core.display.HTML object>"
            ]
          },
          "metadata": {
            "tags": []
          },
          "execution_count": 15
        }
      ]
    },
    {
      "cell_type": "markdown",
      "metadata": {
        "id": "5eG_8-HSsbwG"
      },
      "source": [
        "The words with the most contribution towards the negative prediction are replaced one-by-one by the baseline to understand their importance to the prediction. Lime is used as the heuristic to get their relative importance."
      ]
    },
    {
      "cell_type": "code",
      "metadata": {
        "colab": {
          "base_uri": "https://localhost:8080/",
          "height": 191
        },
        "id": "y2Bf98Fj3R34",
        "outputId": "97058719-8f7d-4663-a041-969c5b04e84d"
      },
      "source": [
        "######################\n",
        "# Correct Prediction #\n",
        "######################\n",
        "\n",
        "text = \"Perhaps it was an off night, but we were really disappointed in our take-out. My husband's pork fried rice was not fried rice...still don't know what it was. His Gen. Tso's chicken was flat and my cashew chicken was flavorless. In the past it has been good food.\"\n",
        "lc_explainer.explain_instance(text, predict_lr_counterfactual, with_antonyms=True)"
      ],
      "execution_count": 16,
      "outputs": [
        {
          "output_type": "stream",
          "text": [
            "/usr/local/lib/python3.6/dist-packages/lime/lime_text.py:114: FutureWarning: split() requires a non-empty pattern match.\n",
            "  self.as_list = [s for s in splitter.split(self.raw) if s]\n",
            "/usr/local/lib/python3.6/dist-packages/lime/lime_text.py:114: FutureWarning: split() requires a non-empty pattern match.\n",
            "  self.as_list = [s for s in splitter.split(self.raw) if s]\n",
            "/usr/local/lib/python3.6/dist-packages/lime/lime_text.py:114: FutureWarning: split() requires a non-empty pattern match.\n",
            "  self.as_list = [s for s in splitter.split(self.raw) if s]\n",
            "/usr/local/lib/python3.6/dist-packages/lime/lime_text.py:114: FutureWarning: split() requires a non-empty pattern match.\n",
            "  self.as_list = [s for s in splitter.split(self.raw) if s]\n"
          ],
          "name": "stderr"
        },
        {
          "output_type": "execute_result",
          "data": {
            "text/html": [
              "<mark style=background-color:#FFFFFF>Perhaps </mark><mark style=background-color:#FFFFFF>it </mark><mark style=background-color:#9acd61><strike>was</strike> change </mark><mark style=background-color:#FFFFFF>an </mark><mark style=background-color:#FFFFFF>off </mark><mark style=background-color:#FFFFFF>night </mark><mark style=background-color:#FFFFFF>, </mark><mark style=background-color:#FFFFFF>but </mark><mark style=background-color:#FFFFFF>we </mark><mark style=background-color:#FFFFFF>were </mark><mark style=background-color:#FFFFFF>really </mark><mark style=background-color:#FFFFFF>disappointed </mark><mark style=background-color:#FFFFFF>in </mark><mark style=background-color:#FFFFFF>our </mark><mark style=background-color:#FFFFFF>take </mark><mark style=background-color:#FFFFFF>- </mark><mark style=background-color:#FFFFFF>out </mark><mark style=background-color:#FFFFFF>. </mark><mark style=background-color:#FFFFFF>My </mark><mark style=background-color:#FFFFFF>husband </mark><mark style=background-color:#FFFFFF>'s </mark><mark style=background-color:#FFFFFF>pork </mark><mark style=background-color:#FFFFFF>fried </mark><mark style=background-color:#FFFFFF>rice </mark><mark style=background-color:#9acd61><strike>was</strike> change </mark><mark style=background-color:#FFFFFF>not </mark><mark style=background-color:#FFFFFF>fried </mark><mark style=background-color:#FFFFFF>rice </mark><mark style=background-color:#FFFFFF>... </mark><mark style=background-color:#FFFFFF>still </mark><mark style=background-color:#FFFFFF>do </mark><mark style=background-color:#FFFFFF>n't </mark><mark style=background-color:#FFFFFF>know </mark><mark style=background-color:#FFFFFF>what </mark><mark style=background-color:#FFFFFF>it </mark><mark style=background-color:#9acd61><strike>was</strike> change </mark><mark style=background-color:#FFFFFF>. </mark><mark style=background-color:#FFFFFF>His </mark><mark style=background-color:#FFFFFF>Gen. </mark><mark style=background-color:#FFFFFF>Tso </mark><mark style=background-color:#FFFFFF>'s </mark><mark style=background-color:#FFFFFF>chicken </mark><mark style=background-color:#9acd61><strike>was</strike> change </mark><mark style=background-color:#FFFFFF>flat </mark><mark style=background-color:#FFFFFF>and </mark><mark style=background-color:#FFFFFF>my </mark><mark style=background-color:#FFFFFF>cashew </mark><mark style=background-color:#FFFFFF>chicken </mark><mark style=background-color:#9acd61><strike>was</strike> change </mark><mark style=background-color:#276419><strike>flavorless</strike> tasty </mark><mark style=background-color:#FFFFFF>. </mark><mark style=background-color:#FFFFFF>In </mark><mark style=background-color:#FFFFFF>the </mark><mark style=background-color:#FFFFFF>past </mark><mark style=background-color:#FFFFFF>it </mark><mark style=background-color:#FFFFFF>has </mark><mark style=background-color:#FFFFFF>been </mark><mark style=background-color:#FFFFFF>good </mark><mark style=background-color:#FFFFFF>food </mark><mark style=background-color:#FFFFFF>. </mark>"
            ],
            "text/plain": [
              "<IPython.core.display.HTML object>"
            ]
          },
          "metadata": {
            "tags": []
          },
          "execution_count": 16
        }
      ]
    },
    {
      "cell_type": "markdown",
      "metadata": {
        "id": "zZEmOnTusehm"
      },
      "source": [
        "The words with the most contribution towards the negative prediction are replaced one-by-one by an antonym to understand their importance to the prediction. Lime is used as the heuristic to get their relative importance."
      ]
    },
    {
      "cell_type": "code",
      "metadata": {
        "colab": {
          "base_uri": "https://localhost:8080/",
          "height": 469
        },
        "id": "UwpHBIWq7JY7",
        "outputId": "b15e9c6c-6c03-4c0b-bd8e-b3b737cbb81b"
      },
      "source": [
        "########################\n",
        "# Incorrect Prediction #\n",
        "########################\n",
        "\n",
        "text = \"On the southwest corner of Sandy Porter and Tryon, you'll find this Food Lion in the strip mall. I've not shopped at many FL's, so I can't tell you if this is bigger or smaller than average. What I can tell you is that the prices here seem higher than Harris-Teeter, Bi-Lo, Wal-Mart and Super Target. While they have everything you need for a full grocery shop, including frozen, dairy, produce, beer, wine and meats, it's not going to be cheap.\\\\n\\\\nIf you do decide to shop with the Lion on a regular basis, pick up one of their MVP shopper loyalty cards - this will save you a good bit.\"\n",
        "lc_explainer.explain_instance(text, predict_lr_counterfactual)"
      ],
      "execution_count": 17,
      "outputs": [
        {
          "output_type": "stream",
          "text": [
            "/usr/local/lib/python3.6/dist-packages/lime/lime_text.py:114: FutureWarning: split() requires a non-empty pattern match.\n",
            "  self.as_list = [s for s in splitter.split(self.raw) if s]\n",
            "/usr/local/lib/python3.6/dist-packages/lime/lime_text.py:114: FutureWarning: split() requires a non-empty pattern match.\n",
            "  self.as_list = [s for s in splitter.split(self.raw) if s]\n",
            "/usr/local/lib/python3.6/dist-packages/lime/lime_text.py:114: FutureWarning: split() requires a non-empty pattern match.\n",
            "  self.as_list = [s for s in splitter.split(self.raw) if s]\n",
            "/usr/local/lib/python3.6/dist-packages/lime/lime_text.py:114: FutureWarning: split() requires a non-empty pattern match.\n",
            "  self.as_list = [s for s in splitter.split(self.raw) if s]\n",
            "/usr/local/lib/python3.6/dist-packages/lime/lime_text.py:114: FutureWarning: split() requires a non-empty pattern match.\n",
            "  self.as_list = [s for s in splitter.split(self.raw) if s]\n",
            "/usr/local/lib/python3.6/dist-packages/lime/lime_text.py:114: FutureWarning: split() requires a non-empty pattern match.\n",
            "  self.as_list = [s for s in splitter.split(self.raw) if s]\n",
            "/usr/local/lib/python3.6/dist-packages/lime/lime_text.py:114: FutureWarning: split() requires a non-empty pattern match.\n",
            "  self.as_list = [s for s in splitter.split(self.raw) if s]\n",
            "/usr/local/lib/python3.6/dist-packages/lime/lime_text.py:114: FutureWarning: split() requires a non-empty pattern match.\n",
            "  self.as_list = [s for s in splitter.split(self.raw) if s]\n",
            "/usr/local/lib/python3.6/dist-packages/lime/lime_text.py:114: FutureWarning: split() requires a non-empty pattern match.\n",
            "  self.as_list = [s for s in splitter.split(self.raw) if s]\n",
            "/usr/local/lib/python3.6/dist-packages/lime/lime_text.py:114: FutureWarning: split() requires a non-empty pattern match.\n",
            "  self.as_list = [s for s in splitter.split(self.raw) if s]\n",
            "/usr/local/lib/python3.6/dist-packages/lime/lime_text.py:114: FutureWarning: split() requires a non-empty pattern match.\n",
            "  self.as_list = [s for s in splitter.split(self.raw) if s]\n"
          ],
          "name": "stderr"
        },
        {
          "output_type": "execute_result",
          "data": {
            "text/html": [
              "<mark style=background-color:#FFFFFF>On </mark><mark style=background-color:#FFFFFF>the </mark><mark style=background-color:#276419><strike>southwest</strike> UNK </mark><mark style=background-color:#FFFFFF>corner </mark><mark style=background-color:#FFFFFF>of </mark><mark style=background-color:#FFFFFF>Sandy </mark><mark style=background-color:#FFFFFF>Porter </mark><mark style=background-color:#FFFFFF>and </mark><mark style=background-color:#FFFFFF>Tryon </mark><mark style=background-color:#FFFFFF>, </mark><mark style=background-color:#9acd61><strike>you</strike> UNK </mark><mark style=background-color:#FFFFFF>'ll </mark><mark style=background-color:#FFFFFF>find </mark><mark style=background-color:#FFFFFF>this </mark><mark style=background-color:#FFFFFF>Food </mark><mark style=background-color:#FFFFFF>Lion </mark><mark style=background-color:#FFFFFF>in </mark><mark style=background-color:#FFFFFF>the </mark><mark style=background-color:#FFFFFF>strip </mark><mark style=background-color:#FFFFFF>mall </mark><mark style=background-color:#FFFFFF>. </mark><mark style=background-color:#FFFFFF>I </mark><mark style=background-color:#FFFFFF>'ve </mark><mark style=background-color:#FFFFFF>not </mark><mark style=background-color:#FFFFFF>shopped </mark><mark style=background-color:#FFFFFF>at </mark><mark style=background-color:#FFFFFF>many </mark><mark style=background-color:#FFFFFF>FL </mark><mark style=background-color:#FFFFFF>'s </mark><mark style=background-color:#FFFFFF>, </mark><mark style=background-color:#FFFFFF>so </mark><mark style=background-color:#FFFFFF>I </mark><mark style=background-color:#FFFFFF>ca </mark><mark style=background-color:#FFFFFF>n't </mark><mark style=background-color:#FFFFFF>tell </mark><mark style=background-color:#9acd61><strike>you</strike> UNK </mark><mark style=background-color:#FFFFFF>if </mark><mark style=background-color:#FFFFFF>this </mark><mark style=background-color:#FFFFFF>is </mark><mark style=background-color:#FFFFFF>bigger </mark><mark style=background-color:#FFFFFF>or </mark><mark style=background-color:#FFFFFF>smaller </mark><mark style=background-color:#d9f0bc><strike>than</strike> UNK </mark><mark style=background-color:#FFFFFF>average </mark><mark style=background-color:#FFFFFF>. </mark><mark style=background-color:#FFFFFF>What </mark><mark style=background-color:#FFFFFF>I </mark><mark style=background-color:#FFFFFF>can </mark><mark style=background-color:#FFFFFF>tell </mark><mark style=background-color:#9acd61><strike>you</strike> UNK </mark><mark style=background-color:#FFFFFF>is </mark><mark style=background-color:#FFFFFF>that </mark><mark style=background-color:#FFFFFF>the </mark><mark style=background-color:#FFFFFF>prices </mark><mark style=background-color:#FFFFFF>here </mark><mark style=background-color:#FFFFFF>seem </mark><mark style=background-color:#FFFFFF>higher </mark><mark style=background-color:#d9f0bc><strike>than</strike> UNK </mark><mark style=background-color:#FFFFFF>Harris </mark><mark style=background-color:#FFFFFF>- </mark><mark style=background-color:#FFFFFF>Teeter </mark><mark style=background-color:#FFFFFF>, </mark><mark style=background-color:#FFFFFF>Bi </mark><mark style=background-color:#FFFFFF>- </mark><mark style=background-color:#FFFFFF>Lo </mark><mark style=background-color:#FFFFFF>, </mark><mark style=background-color:#FFFFFF>Wal </mark><mark style=background-color:#FFFFFF>- </mark><mark style=background-color:#FFFFFF>Mart </mark><mark style=background-color:#FFFFFF>and </mark><mark style=background-color:#FFFFFF>Super </mark><mark style=background-color:#FFFFFF>Target </mark><mark style=background-color:#FFFFFF>. </mark><mark style=background-color:#FFFFFF>While </mark><mark style=background-color:#FFFFFF>they </mark><mark style=background-color:#FFFFFF>have </mark><mark style=background-color:#FFFFFF>everything </mark><mark style=background-color:#9acd61><strike>you</strike> UNK </mark><mark style=background-color:#FFFFFF>need </mark><mark style=background-color:#FFFFFF>for </mark><mark style=background-color:#FFFFFF>a </mark><mark style=background-color:#FFFFFF>full </mark><mark style=background-color:#FFFFFF>grocery </mark><mark style=background-color:#589b28><strike>shop</strike> UNK </mark><mark style=background-color:#FFFFFF>, </mark><mark style=background-color:#FFFFFF>including </mark><mark style=background-color:#FFFFFF>frozen </mark><mark style=background-color:#FFFFFF>, </mark><mark style=background-color:#FFFFFF>dairy </mark><mark style=background-color:#FFFFFF>, </mark><mark style=background-color:#FFFFFF>produce </mark><mark style=background-color:#FFFFFF>, </mark><mark style=background-color:#FFFFFF>beer </mark><mark style=background-color:#FFFFFF>, </mark><mark style=background-color:#FFFFFF>wine </mark><mark style=background-color:#FFFFFF>and </mark><mark style=background-color:#FFFFFF>meats </mark><mark style=background-color:#FFFFFF>, </mark><mark style=background-color:#FFFFFF>it </mark><mark style=background-color:#FFFFFF>'s </mark><mark style=background-color:#FFFFFF>not </mark><mark style=background-color:#FFFFFF>going </mark><mark style=background-color:#FFFFFF>to </mark><mark style=background-color:#FFFFFF>be </mark><mark style=background-color:#FFFFFF>cheap.\\n\\nIf </mark><mark style=background-color:#9acd61><strike>you</strike> UNK </mark><mark style=background-color:#FFFFFF>do </mark><mark style=background-color:#FFFFFF>decide </mark><mark style=background-color:#FFFFFF>to </mark><mark style=background-color:#589b28><strike>shop</strike> UNK </mark><mark style=background-color:#FFFFFF>with </mark><mark style=background-color:#FFFFFF>the </mark><mark style=background-color:#FFFFFF>Lion </mark><mark style=background-color:#FFFFFF>on </mark><mark style=background-color:#FFFFFF>a </mark><mark style=background-color:#FFFFFF>regular </mark><mark style=background-color:#FFFFFF>basis </mark><mark style=background-color:#FFFFFF>, </mark><mark style=background-color:#FFFFFF>pick </mark><mark style=background-color:#FFFFFF>up </mark><mark style=background-color:#FFFFFF>one </mark><mark style=background-color:#FFFFFF>of </mark><mark style=background-color:#FFFFFF>their </mark><mark style=background-color:#FFFFFF>MVP </mark><mark style=background-color:#FFFFFF>shopper </mark><mark style=background-color:#FFFFFF>loyalty </mark><mark style=background-color:#FFFFFF>cards </mark><mark style=background-color:#FFFFFF>- </mark><mark style=background-color:#FFFFFF>this </mark><mark style=background-color:#FFFFFF>will </mark><mark style=background-color:#FFFFFF>save </mark><mark style=background-color:#9acd61><strike>you</strike> UNK </mark><mark style=background-color:#FFFFFF>a </mark><mark style=background-color:#FFFFFF>good </mark><mark style=background-color:#FFFFFF>bit </mark><mark style=background-color:#FFFFFF>. </mark>"
            ],
            "text/plain": [
              "<IPython.core.display.HTML object>"
            ]
          },
          "metadata": {
            "tags": []
          },
          "execution_count": 17
        }
      ]
    },
    {
      "cell_type": "markdown",
      "metadata": {
        "id": "MHO0qSgY7JpK"
      },
      "source": [
        "The words with the most contribution towards the positive prediction are replaced one-by-one by the baseline to understand their importance to the prediction even though the real label is negative. Lime is used as the heuristic to get their relative importance."
      ]
    },
    {
      "cell_type": "code",
      "metadata": {
        "colab": {
          "base_uri": "https://localhost:8080/",
          "height": 851
        },
        "id": "RGa1jJ7D7J_D",
        "outputId": "a4ae0402-74c1-4f50-85c8-3009a0405bfb"
      },
      "source": [
        "########################\n",
        "# Incorrect Prediction #\n",
        "########################\n",
        "\n",
        "text = \"On the southwest corner of Sandy Porter and Tryon, you'll find this Food Lion in the strip mall. I've not shopped at many FL's, so I can't tell you if this is bigger or smaller than average. What I can tell you is that the prices here seem higher than Harris-Teeter, Bi-Lo, Wal-Mart and Super Target. While they have everything you need for a full grocery shop, including frozen, dairy, produce, beer, wine and meats, it's not going to be cheap.\\\\n\\\\nIf you do decide to shop with the Lion on a regular basis, pick up one of their MVP shopper loyalty cards - this will save you a good bit.\"\n",
        "lc_explainer.explain_instance(text, predict_lr_counterfactual, with_antonyms=True)"
      ],
      "execution_count": 18,
      "outputs": [
        {
          "output_type": "stream",
          "text": [
            "/usr/local/lib/python3.6/dist-packages/lime/lime_text.py:114: FutureWarning: split() requires a non-empty pattern match.\n",
            "  self.as_list = [s for s in splitter.split(self.raw) if s]\n",
            "/usr/local/lib/python3.6/dist-packages/lime/lime_text.py:114: FutureWarning: split() requires a non-empty pattern match.\n",
            "  self.as_list = [s for s in splitter.split(self.raw) if s]\n",
            "/usr/local/lib/python3.6/dist-packages/lime/lime_text.py:114: FutureWarning: split() requires a non-empty pattern match.\n",
            "  self.as_list = [s for s in splitter.split(self.raw) if s]\n",
            "/usr/local/lib/python3.6/dist-packages/lime/lime_text.py:114: FutureWarning: split() requires a non-empty pattern match.\n",
            "  self.as_list = [s for s in splitter.split(self.raw) if s]\n",
            "/usr/local/lib/python3.6/dist-packages/lime/lime_text.py:114: FutureWarning: split() requires a non-empty pattern match.\n",
            "  self.as_list = [s for s in splitter.split(self.raw) if s]\n",
            "/usr/local/lib/python3.6/dist-packages/lime/lime_text.py:114: FutureWarning: split() requires a non-empty pattern match.\n",
            "  self.as_list = [s for s in splitter.split(self.raw) if s]\n",
            "/usr/local/lib/python3.6/dist-packages/lime/lime_text.py:114: FutureWarning: split() requires a non-empty pattern match.\n",
            "  self.as_list = [s for s in splitter.split(self.raw) if s]\n",
            "/usr/local/lib/python3.6/dist-packages/lime/lime_text.py:114: FutureWarning: split() requires a non-empty pattern match.\n",
            "  self.as_list = [s for s in splitter.split(self.raw) if s]\n",
            "/usr/local/lib/python3.6/dist-packages/lime/lime_text.py:114: FutureWarning: split() requires a non-empty pattern match.\n",
            "  self.as_list = [s for s in splitter.split(self.raw) if s]\n",
            "/usr/local/lib/python3.6/dist-packages/lime/lime_text.py:114: FutureWarning: split() requires a non-empty pattern match.\n",
            "  self.as_list = [s for s in splitter.split(self.raw) if s]\n",
            "/usr/local/lib/python3.6/dist-packages/lime/lime_text.py:114: FutureWarning: split() requires a non-empty pattern match.\n",
            "  self.as_list = [s for s in splitter.split(self.raw) if s]\n",
            "/usr/local/lib/python3.6/dist-packages/lime/lime_text.py:114: FutureWarning: split() requires a non-empty pattern match.\n",
            "  self.as_list = [s for s in splitter.split(self.raw) if s]\n",
            "/usr/local/lib/python3.6/dist-packages/lime/lime_text.py:114: FutureWarning: split() requires a non-empty pattern match.\n",
            "  self.as_list = [s for s in splitter.split(self.raw) if s]\n",
            "/usr/local/lib/python3.6/dist-packages/lime/lime_text.py:114: FutureWarning: split() requires a non-empty pattern match.\n",
            "  self.as_list = [s for s in splitter.split(self.raw) if s]\n",
            "/usr/local/lib/python3.6/dist-packages/lime/lime_text.py:114: FutureWarning: split() requires a non-empty pattern match.\n",
            "  self.as_list = [s for s in splitter.split(self.raw) if s]\n",
            "/usr/local/lib/python3.6/dist-packages/lime/lime_text.py:114: FutureWarning: split() requires a non-empty pattern match.\n",
            "  self.as_list = [s for s in splitter.split(self.raw) if s]\n",
            "/usr/local/lib/python3.6/dist-packages/lime/lime_text.py:114: FutureWarning: split() requires a non-empty pattern match.\n",
            "  self.as_list = [s for s in splitter.split(self.raw) if s]\n",
            "/usr/local/lib/python3.6/dist-packages/lime/lime_text.py:114: FutureWarning: split() requires a non-empty pattern match.\n",
            "  self.as_list = [s for s in splitter.split(self.raw) if s]\n",
            "/usr/local/lib/python3.6/dist-packages/lime/lime_text.py:114: FutureWarning: split() requires a non-empty pattern match.\n",
            "  self.as_list = [s for s in splitter.split(self.raw) if s]\n",
            "/usr/local/lib/python3.6/dist-packages/lime/lime_text.py:114: FutureWarning: split() requires a non-empty pattern match.\n",
            "  self.as_list = [s for s in splitter.split(self.raw) if s]\n",
            "/usr/local/lib/python3.6/dist-packages/lime/lime_text.py:114: FutureWarning: split() requires a non-empty pattern match.\n",
            "  self.as_list = [s for s in splitter.split(self.raw) if s]\n",
            "/usr/local/lib/python3.6/dist-packages/lime/lime_text.py:114: FutureWarning: split() requires a non-empty pattern match.\n",
            "  self.as_list = [s for s in splitter.split(self.raw) if s]\n"
          ],
          "name": "stderr"
        },
        {
          "output_type": "execute_result",
          "data": {
            "text/html": [
              "<mark style=background-color:#FFFFFF>On </mark><mark style=background-color:#FFFFFF>the </mark><mark style=background-color:#276419><strike>southwest</strike> eastern </mark><mark style=background-color:#FFFFFF>corner </mark><mark style=background-color:#FFFFFF>of </mark><mark style=background-color:#e9f5d6><strike>Sandy</strike> brunet </mark><mark style=background-color:#FFFFFF>Porter </mark><mark style=background-color:#FFFFFF>and </mark><mark style=background-color:#FFFFFF>Tryon </mark><mark style=background-color:#FFFFFF>, </mark><mark style=background-color:#6dad36><strike>you</strike> conventional </mark><mark style=background-color:#FFFFFF>'ll </mark><mark style=background-color:#FFFFFF>find </mark><mark style=background-color:#FFFFFF>this </mark><mark style=background-color:#FFFFFF>Food </mark><mark style=background-color:#FFFFFF>Lion </mark><mark style=background-color:#FFFFFF>in </mark><mark style=background-color:#FFFFFF>the </mark><mark style=background-color:#FFFFFF>strip </mark><mark style=background-color:#FFFFFF>mall </mark><mark style=background-color:#FFFFFF>. </mark><mark style=background-color:#FFFFFF>I </mark><mark style=background-color:#FFFFFF>'ve </mark><mark style=background-color:#FFFFFF>not </mark><mark style=background-color:#FFFFFF>shopped </mark><mark style=background-color:#FFFFFF>at </mark><mark style=background-color:#FFFFFF>many </mark><mark style=background-color:#FFFFFF>FL </mark><mark style=background-color:#FFFFFF>'s </mark><mark style=background-color:#FFFFFF>, </mark><mark style=background-color:#FFFFFF>so </mark><mark style=background-color:#FFFFFF>I </mark><mark style=background-color:#FFFFFF>ca </mark><mark style=background-color:#FFFFFF>n't </mark><mark style=background-color:#FFFFFF>tell </mark><mark style=background-color:#6dad36><strike>you</strike> conventional </mark><mark style=background-color:#FFFFFF>if </mark><mark style=background-color:#FFFFFF>this </mark><mark style=background-color:#FFFFFF>is </mark><mark style=background-color:#FFFFFF>bigger </mark><mark style=background-color:#FFFFFF>or </mark><mark style=background-color:#FFFFFF>smaller </mark><mark style=background-color:#FFFFFF>than </mark><mark style=background-color:#FFFFFF>average </mark><mark style=background-color:#FFFFFF>. </mark><mark style=background-color:#FFFFFF>What </mark><mark style=background-color:#FFFFFF>I </mark><mark style=background-color:#FFFFFF>can </mark><mark style=background-color:#FFFFFF>tell </mark><mark style=background-color:#6dad36><strike>you</strike> conventional </mark><mark style=background-color:#FFFFFF>is </mark><mark style=background-color:#FFFFFF>that </mark><mark style=background-color:#FFFFFF>the </mark><mark style=background-color:#FFFFFF>prices </mark><mark style=background-color:#FFFFFF>here </mark><mark style=background-color:#FFFFFF>seem </mark><mark style=background-color:#FFFFFF>higher </mark><mark style=background-color:#FFFFFF>than </mark><mark style=background-color:#FFFFFF>Harris </mark><mark style=background-color:#FFFFFF>- </mark><mark style=background-color:#FFFFFF>Teeter </mark><mark style=background-color:#FFFFFF>, </mark><mark style=background-color:#FFFFFF>Bi </mark><mark style=background-color:#FFFFFF>- </mark><mark style=background-color:#FFFFFF>Lo </mark><mark style=background-color:#FFFFFF>, </mark><mark style=background-color:#FFFFFF>Wal </mark><mark style=background-color:#FFFFFF>- </mark><mark style=background-color:#FFFFFF>Mart </mark><mark style=background-color:#FFFFFF>and </mark><mark style=background-color:#FFFFFF>Super </mark><mark style=background-color:#FFFFFF>Target </mark><mark style=background-color:#FFFFFF>. </mark><mark style=background-color:#FFFFFF>While </mark><mark style=background-color:#FFFFFF>they </mark><mark style=background-color:#FFFFFF>have </mark><mark style=background-color:#FFFFFF>everything </mark><mark style=background-color:#6dad36><strike>you</strike> conventional </mark><mark style=background-color:#FFFFFF>need </mark><mark style=background-color:#FFFFFF>for </mark><mark style=background-color:#FFFFFF>a </mark><mark style=background-color:#FFFFFF>full </mark><mark style=background-color:#FFFFFF>grocery </mark><mark style=background-color:#468a20><strike>shop</strike> lose </mark><mark style=background-color:#FFFFFF>, </mark><mark style=background-color:#FFFFFF>including </mark><mark style=background-color:#FFFFFF>frozen </mark><mark style=background-color:#FFFFFF>, </mark><mark style=background-color:#FFFFFF>dairy </mark><mark style=background-color:#FFFFFF>, </mark><mark style=background-color:#FFFFFF>produce </mark><mark style=background-color:#FFFFFF>, </mark><mark style=background-color:#FFFFFF>beer </mark><mark style=background-color:#FFFFFF>, </mark><mark style=background-color:#FFFFFF>wine </mark><mark style=background-color:#FFFFFF>and </mark><mark style=background-color:#FFFFFF>meats </mark><mark style=background-color:#FFFFFF>, </mark><mark style=background-color:#FFFFFF>it </mark><mark style=background-color:#FFFFFF>'s </mark><mark style=background-color:#FFFFFF>not </mark><mark style=background-color:#FFFFFF>going </mark><mark style=background-color:#FFFFFF>to </mark><mark style=background-color:#FFFFFF>be </mark><mark style=background-color:#FFFFFF>cheap.\\n\\nIf </mark><mark style=background-color:#6dad36><strike>you</strike> conventional </mark><mark style=background-color:#FFFFFF>do </mark><mark style=background-color:#FFFFFF>decide </mark><mark style=background-color:#FFFFFF>to </mark><mark style=background-color:#468a20><strike>shop</strike> lose </mark><mark style=background-color:#FFFFFF>with </mark><mark style=background-color:#FFFFFF>the </mark><mark style=background-color:#FFFFFF>Lion </mark><mark style=background-color:#FFFFFF>on </mark><mark style=background-color:#FFFFFF>a </mark><mark style=background-color:#FFFFFF>regular </mark><mark style=background-color:#FFFFFF>basis </mark><mark style=background-color:#FFFFFF>, </mark><mark style=background-color:#FFFFFF>pick </mark><mark style=background-color:#FFFFFF>up </mark><mark style=background-color:#FFFFFF>one </mark><mark style=background-color:#FFFFFF>of </mark><mark style=background-color:#FFFFFF>their </mark><mark style=background-color:#FFFFFF>MVP </mark><mark style=background-color:#FFFFFF>shopper </mark><mark style=background-color:#FFFFFF>loyalty </mark><mark style=background-color:#FFFFFF>cards </mark><mark style=background-color:#FFFFFF>- </mark><mark style=background-color:#FFFFFF>this </mark><mark style=background-color:#FFFFFF>will </mark><mark style=background-color:#FFFFFF>save </mark><mark style=background-color:#6dad36><strike>you</strike> conventional </mark><mark style=background-color:#FFFFFF>a </mark><mark style=background-color:#FFFFFF>good </mark><mark style=background-color:#FFFFFF>bit </mark><mark style=background-color:#FFFFFF>. </mark>"
            ],
            "text/plain": [
              "<IPython.core.display.HTML object>"
            ]
          },
          "metadata": {
            "tags": []
          },
          "execution_count": 18
        }
      ]
    },
    {
      "cell_type": "markdown",
      "metadata": {
        "id": "TaYZhcJz7Kdo"
      },
      "source": [
        "The words with the most contribution towards the positive prediction are replaced one-by-one by an antonym to understand their importance to the prediction even though the real label is negative. Lime is used as the heuristic to get their relative importance."
      ]
    }
  ]
}