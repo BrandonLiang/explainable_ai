{
 "cells": [
  {
   "cell_type": "markdown",
   "metadata": {
    "id": "yIQcVSeYrdLS"
   },
   "source": [
    "# Text model explanation using Lime Counterfactuals"
   ]
  },
  {
   "cell_type": "markdown",
   "metadata": {
    "id": "qFCdDlDgrimh"
   },
   "source": [
    "### Imports and installs"
   ]
  },
  {
   "cell_type": "code",
   "execution_count": 1,
   "metadata": {
    "id": "EeWtDFZ12XKa"
   },
   "outputs": [],
   "source": [
    "import os\n",
    "import random\n",
    "import spacy\n",
    "\n",
    "import numpy                 as np\n",
    "import tensorflow            as tf\n",
    "import tensorflow_hub        as hub\n",
    "import tensorflow_datasets   as tfds"
   ]
  },
  {
   "cell_type": "code",
   "execution_count": 2,
   "metadata": {
    "id": "dR_GiCXGrcIn"
   },
   "outputs": [],
   "source": [
    "random.seed(0)\n",
    "np.random.seed(0)\n",
    "tf.random.set_seed(0)"
   ]
  },
  {
   "cell_type": "code",
   "execution_count": 3,
   "metadata": {
    "colab": {
     "base_uri": "https://localhost:8080/"
    },
    "id": "jv0N5dDe2Y2q",
    "outputId": "2abe9cbf-e8f6-4e30-9ca4-aa7d3430b3e4"
   },
   "outputs": [
    {
     "name": "stdout",
     "output_type": "stream",
     "text": [
      "Requirement already satisfied: spacy in /usr/local/lib/python3.6/dist-packages (2.2.4)\n",
      "Requirement already satisfied: lime in /usr/local/lib/python3.6/dist-packages (0.2.0.1)\n",
      "Requirement already satisfied: pydictionary in /usr/local/lib/python3.6/dist-packages (2.0.1)\n",
      "Requirement already satisfied: preshed<3.1.0,>=3.0.2 in /usr/local/lib/python3.6/dist-packages (from spacy) (3.0.5)\n",
      "Requirement already satisfied: blis<0.5.0,>=0.4.0 in /usr/local/lib/python3.6/dist-packages (from spacy) (0.4.1)\n",
      "Requirement already satisfied: setuptools in /usr/local/lib/python3.6/dist-packages (from spacy) (50.3.2)\n",
      "Requirement already satisfied: wasabi<1.1.0,>=0.4.0 in /usr/local/lib/python3.6/dist-packages (from spacy) (0.8.0)\n",
      "Requirement already satisfied: cymem<2.1.0,>=2.0.2 in /usr/local/lib/python3.6/dist-packages (from spacy) (2.0.5)\n",
      "Requirement already satisfied: tqdm<5.0.0,>=4.38.0 in /usr/local/lib/python3.6/dist-packages (from spacy) (4.41.1)\n",
      "Requirement already satisfied: plac<1.2.0,>=0.9.6 in /usr/local/lib/python3.6/dist-packages (from spacy) (1.1.3)\n",
      "Requirement already satisfied: requests<3.0.0,>=2.13.0 in /usr/local/lib/python3.6/dist-packages (from spacy) (2.23.0)\n",
      "Requirement already satisfied: numpy>=1.15.0 in /usr/local/lib/python3.6/dist-packages (from spacy) (1.18.5)\n",
      "Requirement already satisfied: murmurhash<1.1.0,>=0.28.0 in /usr/local/lib/python3.6/dist-packages (from spacy) (1.0.5)\n",
      "Requirement already satisfied: srsly<1.1.0,>=1.0.2 in /usr/local/lib/python3.6/dist-packages (from spacy) (1.0.5)\n",
      "Requirement already satisfied: thinc==7.4.0 in /usr/local/lib/python3.6/dist-packages (from spacy) (7.4.0)\n",
      "Requirement already satisfied: catalogue<1.1.0,>=0.0.7 in /usr/local/lib/python3.6/dist-packages (from spacy) (1.0.0)\n",
      "Requirement already satisfied: scipy in /usr/local/lib/python3.6/dist-packages (from lime) (1.4.1)\n",
      "Requirement already satisfied: scikit-image>=0.12 in /usr/local/lib/python3.6/dist-packages (from lime) (0.16.2)\n",
      "Requirement already satisfied: scikit-learn>=0.18 in /usr/local/lib/python3.6/dist-packages (from lime) (0.22.2.post1)\n",
      "Requirement already satisfied: matplotlib in /usr/local/lib/python3.6/dist-packages (from lime) (3.2.2)\n",
      "Requirement already satisfied: bs4 in /usr/local/lib/python3.6/dist-packages (from pydictionary) (0.0.1)\n",
      "Requirement already satisfied: goslate in /usr/local/lib/python3.6/dist-packages (from pydictionary) (1.5.1)\n",
      "Requirement already satisfied: click in /usr/local/lib/python3.6/dist-packages (from pydictionary) (7.1.2)\n",
      "Requirement already satisfied: certifi>=2017.4.17 in /usr/local/lib/python3.6/dist-packages (from requests<3.0.0,>=2.13.0->spacy) (2020.12.5)\n",
      "Requirement already satisfied: idna<3,>=2.5 in /usr/local/lib/python3.6/dist-packages (from requests<3.0.0,>=2.13.0->spacy) (2.10)\n",
      "Requirement already satisfied: chardet<4,>=3.0.2 in /usr/local/lib/python3.6/dist-packages (from requests<3.0.0,>=2.13.0->spacy) (3.0.4)\n",
      "Requirement already satisfied: urllib3!=1.25.0,!=1.25.1,<1.26,>=1.21.1 in /usr/local/lib/python3.6/dist-packages (from requests<3.0.0,>=2.13.0->spacy) (1.24.3)\n",
      "Requirement already satisfied: importlib-metadata>=0.20; python_version < \"3.8\" in /usr/local/lib/python3.6/dist-packages (from catalogue<1.1.0,>=0.0.7->spacy) (3.1.1)\n",
      "Requirement already satisfied: pillow>=4.3.0 in /usr/local/lib/python3.6/dist-packages (from scikit-image>=0.12->lime) (7.0.0)\n",
      "Requirement already satisfied: networkx>=2.0 in /usr/local/lib/python3.6/dist-packages (from scikit-image>=0.12->lime) (2.5)\n",
      "Requirement already satisfied: imageio>=2.3.0 in /usr/local/lib/python3.6/dist-packages (from scikit-image>=0.12->lime) (2.4.1)\n",
      "Requirement already satisfied: PyWavelets>=0.4.0 in /usr/local/lib/python3.6/dist-packages (from scikit-image>=0.12->lime) (1.1.1)\n",
      "Requirement already satisfied: joblib>=0.11 in /usr/local/lib/python3.6/dist-packages (from scikit-learn>=0.18->lime) (0.17.0)\n",
      "Requirement already satisfied: kiwisolver>=1.0.1 in /usr/local/lib/python3.6/dist-packages (from matplotlib->lime) (1.3.1)\n",
      "Requirement already satisfied: pyparsing!=2.0.4,!=2.1.2,!=2.1.6,>=2.0.1 in /usr/local/lib/python3.6/dist-packages (from matplotlib->lime) (2.4.7)\n",
      "Requirement already satisfied: cycler>=0.10 in /usr/local/lib/python3.6/dist-packages (from matplotlib->lime) (0.10.0)\n",
      "Requirement already satisfied: python-dateutil>=2.1 in /usr/local/lib/python3.6/dist-packages (from matplotlib->lime) (2.8.1)\n",
      "Requirement already satisfied: beautifulsoup4 in /usr/local/lib/python3.6/dist-packages (from bs4->pydictionary) (4.6.3)\n",
      "Requirement already satisfied: futures in /usr/local/lib/python3.6/dist-packages (from goslate->pydictionary) (3.1.1)\n",
      "Requirement already satisfied: zipp>=0.5 in /usr/local/lib/python3.6/dist-packages (from importlib-metadata>=0.20; python_version < \"3.8\"->catalogue<1.1.0,>=0.0.7->spacy) (3.4.0)\n",
      "Requirement already satisfied: decorator>=4.3.0 in /usr/local/lib/python3.6/dist-packages (from networkx>=2.0->scikit-image>=0.12->lime) (4.4.2)\n",
      "Requirement already satisfied: six in /usr/local/lib/python3.6/dist-packages (from cycler>=0.10->matplotlib->lime) (1.15.0)\n",
      "Requirement already satisfied: en_core_web_lg==2.2.5 from https://github.com/explosion/spacy-models/releases/download/en_core_web_lg-2.2.5/en_core_web_lg-2.2.5.tar.gz#egg=en_core_web_lg==2.2.5 in /usr/local/lib/python3.6/dist-packages (2.2.5)\n",
      "Requirement already satisfied: spacy>=2.2.2 in /usr/local/lib/python3.6/dist-packages (from en_core_web_lg==2.2.5) (2.2.4)\n",
      "Requirement already satisfied: wasabi<1.1.0,>=0.4.0 in /usr/local/lib/python3.6/dist-packages (from spacy>=2.2.2->en_core_web_lg==2.2.5) (0.8.0)\n",
      "Requirement already satisfied: preshed<3.1.0,>=3.0.2 in /usr/local/lib/python3.6/dist-packages (from spacy>=2.2.2->en_core_web_lg==2.2.5) (3.0.5)\n",
      "Requirement already satisfied: blis<0.5.0,>=0.4.0 in /usr/local/lib/python3.6/dist-packages (from spacy>=2.2.2->en_core_web_lg==2.2.5) (0.4.1)\n",
      "Requirement already satisfied: murmurhash<1.1.0,>=0.28.0 in /usr/local/lib/python3.6/dist-packages (from spacy>=2.2.2->en_core_web_lg==2.2.5) (1.0.5)\n",
      "Requirement already satisfied: setuptools in /usr/local/lib/python3.6/dist-packages (from spacy>=2.2.2->en_core_web_lg==2.2.5) (50.3.2)\n",
      "Requirement already satisfied: numpy>=1.15.0 in /usr/local/lib/python3.6/dist-packages (from spacy>=2.2.2->en_core_web_lg==2.2.5) (1.18.5)\n",
      "Requirement already satisfied: plac<1.2.0,>=0.9.6 in /usr/local/lib/python3.6/dist-packages (from spacy>=2.2.2->en_core_web_lg==2.2.5) (1.1.3)\n",
      "Requirement already satisfied: srsly<1.1.0,>=1.0.2 in /usr/local/lib/python3.6/dist-packages (from spacy>=2.2.2->en_core_web_lg==2.2.5) (1.0.5)\n",
      "Requirement already satisfied: catalogue<1.1.0,>=0.0.7 in /usr/local/lib/python3.6/dist-packages (from spacy>=2.2.2->en_core_web_lg==2.2.5) (1.0.0)\n",
      "Requirement already satisfied: requests<3.0.0,>=2.13.0 in /usr/local/lib/python3.6/dist-packages (from spacy>=2.2.2->en_core_web_lg==2.2.5) (2.23.0)\n",
      "Requirement already satisfied: thinc==7.4.0 in /usr/local/lib/python3.6/dist-packages (from spacy>=2.2.2->en_core_web_lg==2.2.5) (7.4.0)\n",
      "Requirement already satisfied: tqdm<5.0.0,>=4.38.0 in /usr/local/lib/python3.6/dist-packages (from spacy>=2.2.2->en_core_web_lg==2.2.5) (4.41.1)\n",
      "Requirement already satisfied: cymem<2.1.0,>=2.0.2 in /usr/local/lib/python3.6/dist-packages (from spacy>=2.2.2->en_core_web_lg==2.2.5) (2.0.5)\n",
      "Requirement already satisfied: importlib-metadata>=0.20; python_version < \"3.8\" in /usr/local/lib/python3.6/dist-packages (from catalogue<1.1.0,>=0.0.7->spacy>=2.2.2->en_core_web_lg==2.2.5) (3.1.1)\n",
      "Requirement already satisfied: chardet<4,>=3.0.2 in /usr/local/lib/python3.6/dist-packages (from requests<3.0.0,>=2.13.0->spacy>=2.2.2->en_core_web_lg==2.2.5) (3.0.4)\n",
      "Requirement already satisfied: certifi>=2017.4.17 in /usr/local/lib/python3.6/dist-packages (from requests<3.0.0,>=2.13.0->spacy>=2.2.2->en_core_web_lg==2.2.5) (2020.12.5)\n",
      "Requirement already satisfied: idna<3,>=2.5 in /usr/local/lib/python3.6/dist-packages (from requests<3.0.0,>=2.13.0->spacy>=2.2.2->en_core_web_lg==2.2.5) (2.10)\n",
      "Requirement already satisfied: urllib3!=1.25.0,!=1.25.1,<1.26,>=1.21.1 in /usr/local/lib/python3.6/dist-packages (from requests<3.0.0,>=2.13.0->spacy>=2.2.2->en_core_web_lg==2.2.5) (1.24.3)\n",
      "Requirement already satisfied: zipp>=0.5 in /usr/local/lib/python3.6/dist-packages (from importlib-metadata>=0.20; python_version < \"3.8\"->catalogue<1.1.0,>=0.0.7->spacy>=2.2.2->en_core_web_lg==2.2.5) (3.4.0)\n",
      "\u001b[38;5;2m✔ Download and installation successful\u001b[0m\n",
      "You can now load the model via spacy.load('en_core_web_lg')\n"
     ]
    }
   ],
   "source": [
    "!pip install spacy lime pydictionary\n",
    "!python -m spacy download en_core_web_lg"
   ]
  },
  {
   "cell_type": "code",
   "execution_count": 4,
   "metadata": {
    "colab": {
     "base_uri": "https://localhost:8080/"
    },
    "id": "cW2Hy_9K2b_Z",
    "outputId": "7868c63a-84a1-4672-b384-4dcc4c462c22"
   },
   "outputs": [
    {
     "name": "stdout",
     "output_type": "stream",
     "text": [
      "Version:  2.3.0\n",
      "Eager mode:  True\n",
      "Hub version:  0.10.0\n",
      "GPU is available\n"
     ]
    }
   ],
   "source": [
    "os.environ[\"TFHUB_MODEL_LOAD_FORMAT\"] = \"COMPRESSED\"\n",
    "print(\"Version: \", tf.__version__)\n",
    "print(\"Eager mode: \", tf.executing_eagerly())\n",
    "print(\"Hub version: \", hub.__version__)\n",
    "print(\"GPU is\", \"available\" if tf.config.experimental.list_physical_devices(\"GPU\") else \"NOT AVAILABLE\")"
   ]
  },
  {
   "cell_type": "code",
   "execution_count": 5,
   "metadata": {
    "colab": {
     "base_uri": "https://localhost:8080/"
    },
    "id": "o9D_U2FA28M7",
    "outputId": "c4d571a5-1840-43ed-91d2-6079667648a9"
   },
   "outputs": [
    {
     "name": "stdout",
     "output_type": "stream",
     "text": [
      "Cloning into 'explainable_ai'...\n",
      "remote: Enumerating objects: 18, done.\u001b[K\n",
      "remote: Counting objects: 100% (18/18), done.\u001b[K\n",
      "remote: Compressing objects: 100% (14/14), done.\u001b[K\n",
      "remote: Total 18 (delta 0), reused 18 (delta 0), pack-reused 0\u001b[K\n",
      "Unpacking objects: 100% (18/18), done.\n"
     ]
    }
   ],
   "source": [
    "!rm -rf explainable_ai\n",
    "!git clone https://github.com/kartikparnami/explainable_ai.git\n",
    "from explainable_ai.counterfactual.lc_text import LimeCounterfactualText"
   ]
  },
  {
   "cell_type": "markdown",
   "metadata": {
    "id": "sNgbk3zMrnhr"
   },
   "source": [
    "### Construct model and utilities"
   ]
  },
  {
   "cell_type": "code",
   "execution_count": 6,
   "metadata": {
    "id": "XcKINSsp2do3"
   },
   "outputs": [],
   "source": [
    "def mask_to_categorical(data, mask):\n",
    "    mask = tf.one_hot(tf.cast(mask, tf.int32), 2)\n",
    "    mask = tf.cast(mask, tf.float32)\n",
    "    return data, mask\n",
    "\n",
    "# Split the training set into 60% and 40%, so we'll end up with 15,000 examples\n",
    "# for training, 10,000 examples for validation and 25,000 examples for testing.\n",
    "train_data, validation_data, test_data = tfds.load(\n",
    "    name=\"yelp_polarity_reviews\", \n",
    "    split=('train[:60%]', 'train[60%:]', 'test'),\n",
    "    as_supervised=True)\n",
    "\n",
    "train_examples_batch, train_labels_batch = next(iter(train_data.batch(10).map(mask_to_categorical)))"
   ]
  },
  {
   "cell_type": "code",
   "execution_count": 7,
   "metadata": {
    "colab": {
     "base_uri": "https://localhost:8080/"
    },
    "id": "Sg3JT1AK2gMk",
    "outputId": "635406e2-7cd3-477c-a5d3-5cc37a20a61a"
   },
   "outputs": [
    {
     "name": "stdout",
     "output_type": "stream",
     "text": [
      "657/657 [==============================] - 30s 45ms/step - loss: 0.2364 - accuracy: 0.9000 - val_loss: 0.1937 - val_accuracy: 0.9209\n"
     ]
    }
   ],
   "source": [
    "embedding = \"https://tfhub.dev/google/nnlm-en-dim50/2\"\n",
    "hub_layer = hub.KerasLayer(embedding, input_shape=[], \n",
    "                           dtype=tf.string, trainable=True)\n",
    "hub_layer(train_examples_batch[:3])\n",
    "\n",
    "model = tf.keras.Sequential()\n",
    "model.add(hub_layer)\n",
    "model.add(tf.keras.layers.Dense(128, activation='relu'))\n",
    "model.add(tf.keras.layers.Dense(64, activation='relu'))\n",
    "model.add(tf.keras.layers.Dense(32, activation='relu'))\n",
    "model.add(tf.keras.layers.Dense(16, activation='relu'))\n",
    "model.add(tf.keras.layers.Dense(2, activation='softmax'))\n",
    "\n",
    "model.compile(optimizer='adam',\n",
    "              loss=tf.keras.losses.BinaryCrossentropy(from_logits=False),\n",
    "              metrics=['accuracy'])\n",
    "\n",
    "history = model.fit(train_data.shuffle(10000).batch(512).map(mask_to_categorical),\n",
    "                    epochs=1,\n",
    "                    validation_data=validation_data.batch(512).map(mask_to_categorical),\n",
    "                    verbose=1)"
   ]
  },
  {
   "cell_type": "code",
   "execution_count": 8,
   "metadata": {
    "id": "FloK73Jq3MUp"
   },
   "outputs": [],
   "source": [
    "def predict_lr_counterfactual(texts):\n",
    "    return model.predict(texts)"
   ]
  },
  {
   "cell_type": "markdown",
   "metadata": {
    "id": "QzYrPPJBrrd3"
   },
   "source": [
    "### Lime Counterfactual text explanation and visualization"
   ]
  },
  {
   "cell_type": "markdown",
   "metadata": {
    "id": "46ZzAkfIsPym"
   },
   "source": [
    "#### Positive prediction example"
   ]
  },
  {
   "cell_type": "code",
   "execution_count": 9,
   "metadata": {
    "id": "IVEBZwdf3NDs"
   },
   "outputs": [],
   "source": [
    "text = \"Cheap and delicious! I eat here about once a week because it fills me up for cheap price and the people who work there are really fun. it\\'s like a subway sandwich restaurant for Mexican food. I love the burrito w/ Cheese, Beans & rice w/ sour cream, less than $5 and best in town for that price.\"\n",
    "lc_explainer = LimeCounterfactualText()"
   ]
  },
  {
   "cell_type": "code",
   "execution_count": 10,
   "metadata": {
    "colab": {
     "base_uri": "https://localhost:8080/",
     "height": 1000
    },
    "id": "8ISC0MU-3Ok-",
    "outputId": "a6bac258-5189-477a-a267-e256410aef02"
   },
   "outputs": [
    {
     "name": "stderr",
     "output_type": "stream",
     "text": [
      "/usr/local/lib/python3.6/dist-packages/lime/lime_text.py:114: FutureWarning: split() requires a non-empty pattern match.\n",
      "  self.as_list = [s for s in splitter.split(self.raw) if s]\n",
      "/usr/local/lib/python3.6/dist-packages/lime/lime_text.py:114: FutureWarning: split() requires a non-empty pattern match.\n",
      "  self.as_list = [s for s in splitter.split(self.raw) if s]\n",
      "/usr/local/lib/python3.6/dist-packages/lime/lime_text.py:114: FutureWarning: split() requires a non-empty pattern match.\n",
      "  self.as_list = [s for s in splitter.split(self.raw) if s]\n",
      "/usr/local/lib/python3.6/dist-packages/lime/lime_text.py:114: FutureWarning: split() requires a non-empty pattern match.\n",
      "  self.as_list = [s for s in splitter.split(self.raw) if s]\n",
      "/usr/local/lib/python3.6/dist-packages/lime/lime_text.py:114: FutureWarning: split() requires a non-empty pattern match.\n",
      "  self.as_list = [s for s in splitter.split(self.raw) if s]\n",
      "/usr/local/lib/python3.6/dist-packages/lime/lime_text.py:114: FutureWarning: split() requires a non-empty pattern match.\n",
      "  self.as_list = [s for s in splitter.split(self.raw) if s]\n",
      "/usr/local/lib/python3.6/dist-packages/lime/lime_text.py:114: FutureWarning: split() requires a non-empty pattern match.\n",
      "  self.as_list = [s for s in splitter.split(self.raw) if s]\n",
      "/usr/local/lib/python3.6/dist-packages/lime/lime_text.py:114: FutureWarning: split() requires a non-empty pattern match.\n",
      "  self.as_list = [s for s in splitter.split(self.raw) if s]\n",
      "/usr/local/lib/python3.6/dist-packages/lime/lime_text.py:114: FutureWarning: split() requires a non-empty pattern match.\n",
      "  self.as_list = [s for s in splitter.split(self.raw) if s]\n",
      "/usr/local/lib/python3.6/dist-packages/lime/lime_text.py:114: FutureWarning: split() requires a non-empty pattern match.\n",
      "  self.as_list = [s for s in splitter.split(self.raw) if s]\n",
      "/usr/local/lib/python3.6/dist-packages/lime/lime_text.py:114: FutureWarning: split() requires a non-empty pattern match.\n",
      "  self.as_list = [s for s in splitter.split(self.raw) if s]\n",
      "/usr/local/lib/python3.6/dist-packages/lime/lime_text.py:114: FutureWarning: split() requires a non-empty pattern match.\n",
      "  self.as_list = [s for s in splitter.split(self.raw) if s]\n",
      "/usr/local/lib/python3.6/dist-packages/lime/lime_text.py:114: FutureWarning: split() requires a non-empty pattern match.\n",
      "  self.as_list = [s for s in splitter.split(self.raw) if s]\n",
      "/usr/local/lib/python3.6/dist-packages/lime/lime_text.py:114: FutureWarning: split() requires a non-empty pattern match.\n",
      "  self.as_list = [s for s in splitter.split(self.raw) if s]\n",
      "/usr/local/lib/python3.6/dist-packages/lime/lime_text.py:114: FutureWarning: split() requires a non-empty pattern match.\n",
      "  self.as_list = [s for s in splitter.split(self.raw) if s]\n",
      "/usr/local/lib/python3.6/dist-packages/lime/lime_text.py:114: FutureWarning: split() requires a non-empty pattern match.\n",
      "  self.as_list = [s for s in splitter.split(self.raw) if s]\n",
      "/usr/local/lib/python3.6/dist-packages/lime/lime_text.py:114: FutureWarning: split() requires a non-empty pattern match.\n",
      "  self.as_list = [s for s in splitter.split(self.raw) if s]\n",
      "/usr/local/lib/python3.6/dist-packages/lime/lime_text.py:114: FutureWarning: split() requires a non-empty pattern match.\n",
      "  self.as_list = [s for s in splitter.split(self.raw) if s]\n",
      "/usr/local/lib/python3.6/dist-packages/lime/lime_text.py:114: FutureWarning: split() requires a non-empty pattern match.\n",
      "  self.as_list = [s for s in splitter.split(self.raw) if s]\n",
      "/usr/local/lib/python3.6/dist-packages/lime/lime_text.py:114: FutureWarning: split() requires a non-empty pattern match.\n",
      "  self.as_list = [s for s in splitter.split(self.raw) if s]\n",
      "/usr/local/lib/python3.6/dist-packages/lime/lime_text.py:114: FutureWarning: split() requires a non-empty pattern match.\n",
      "  self.as_list = [s for s in splitter.split(self.raw) if s]\n",
      "/usr/local/lib/python3.6/dist-packages/lime/lime_text.py:114: FutureWarning: split() requires a non-empty pattern match.\n",
      "  self.as_list = [s for s in splitter.split(self.raw) if s]\n",
      "/usr/local/lib/python3.6/dist-packages/lime/lime_text.py:114: FutureWarning: split() requires a non-empty pattern match.\n",
      "  self.as_list = [s for s in splitter.split(self.raw) if s]\n",
      "/usr/local/lib/python3.6/dist-packages/lime/lime_text.py:114: FutureWarning: split() requires a non-empty pattern match.\n",
      "  self.as_list = [s for s in splitter.split(self.raw) if s]\n",
      "/usr/local/lib/python3.6/dist-packages/lime/lime_text.py:114: FutureWarning: split() requires a non-empty pattern match.\n",
      "  self.as_list = [s for s in splitter.split(self.raw) if s]\n",
      "/usr/local/lib/python3.6/dist-packages/lime/lime_text.py:114: FutureWarning: split() requires a non-empty pattern match.\n",
      "  self.as_list = [s for s in splitter.split(self.raw) if s]\n",
      "/usr/local/lib/python3.6/dist-packages/lime/lime_text.py:114: FutureWarning: split() requires a non-empty pattern match.\n",
      "  self.as_list = [s for s in splitter.split(self.raw) if s]\n",
      "/usr/local/lib/python3.6/dist-packages/lime/lime_text.py:114: FutureWarning: split() requires a non-empty pattern match.\n",
      "  self.as_list = [s for s in splitter.split(self.raw) if s]\n",
      "/usr/local/lib/python3.6/dist-packages/lime/lime_text.py:114: FutureWarning: split() requires a non-empty pattern match.\n",
      "  self.as_list = [s for s in splitter.split(self.raw) if s]\n"
     ]
    },
    {
     "data": {
      "text/html": [
       "<mark style=background-color:#FFFFFF>Cheap </mark><mark style=background-color:#d2ecb0><strike>and</strike> UNK </mark><mark style=background-color:#276419><strike>delicious</strike> UNK </mark><mark style=background-color:#FFFFFF>! </mark><mark style=background-color:#FFFFFF>I </mark><mark style=background-color:#FFFFFF>eat </mark><mark style=background-color:#FFFFFF>here </mark><mark style=background-color:#FFFFFF>about </mark><mark style=background-color:#FFFFFF>once </mark><mark style=background-color:#FFFFFF>a </mark><mark style=background-color:#FFFFFF>week </mark><mark style=background-color:#FFFFFF>because </mark><mark style=background-color:#FFFFFF>it </mark><mark style=background-color:#FFFFFF>fills </mark><mark style=background-color:#FFFFFF>me </mark><mark style=background-color:#FFFFFF>up </mark><mark style=background-color:#FFFFFF>for </mark><mark style=background-color:#FFFFFF>cheap </mark><mark style=background-color:#FFFFFF>price </mark><mark style=background-color:#d2ecb0><strike>and</strike> UNK </mark><mark style=background-color:#FFFFFF>the </mark><mark style=background-color:#FFFFFF>people </mark><mark style=background-color:#FFFFFF>who </mark><mark style=background-color:#FFFFFF>work </mark><mark style=background-color:#FFFFFF>there </mark><mark style=background-color:#FFFFFF>are </mark><mark style=background-color:#FFFFFF>really </mark><mark style=background-color:#b0dc7d><strike>fun</strike> UNK </mark><mark style=background-color:#FFFFFF>. </mark><mark style=background-color:#FFFFFF>it </mark><mark style=background-color:#FFFFFF>'s </mark><mark style=background-color:#FFFFFF>like </mark><mark style=background-color:#FFFFFF>a </mark><mark style=background-color:#FFFFFF>subway </mark><mark style=background-color:#FFFFFF>sandwich </mark><mark style=background-color:#FFFFFF>restaurant </mark><mark style=background-color:#FFFFFF>for </mark><mark style=background-color:#FFFFFF>Mexican </mark><mark style=background-color:#FFFFFF>food </mark><mark style=background-color:#FFFFFF>. </mark><mark style=background-color:#FFFFFF>I </mark><mark style=background-color:#62a32e><strike>love</strike> UNK </mark><mark style=background-color:#FFFFFF>the </mark><mark style=background-color:#FFFFFF>burrito </mark><mark style=background-color:#FFFFFF>w/ </mark><mark style=background-color:#FFFFFF>Cheese </mark><mark style=background-color:#FFFFFF>, </mark><mark style=background-color:#FFFFFF>Beans </mark><mark style=background-color:#FFFFFF>& </mark><mark style=background-color:#FFFFFF>rice </mark><mark style=background-color:#FFFFFF>w/ </mark><mark style=background-color:#FFFFFF>sour </mark><mark style=background-color:#FFFFFF>cream </mark><mark style=background-color:#FFFFFF>, </mark><mark style=background-color:#FFFFFF>less </mark><mark style=background-color:#ebf6db><strike>than</strike> UNK </mark><mark style=background-color:#FFFFFF>$ </mark><mark style=background-color:#86c049><strike>5</strike> UNK </mark><mark style=background-color:#d2ecb0><strike>and</strike> UNK </mark><mark style=background-color:#42841f><strike>best</strike> UNK </mark><mark style=background-color:#FFFFFF>in </mark><mark style=background-color:#FFFFFF>town </mark><mark style=background-color:#FFFFFF>for </mark><mark style=background-color:#FFFFFF>that </mark><mark style=background-color:#FFFFFF>price </mark><mark style=background-color:#FFFFFF>. </mark>"
      ],
      "text/plain": [
       "<IPython.core.display.HTML object>"
      ]
     },
     "execution_count": 10,
     "metadata": {
      "tags": []
     },
     "output_type": "execute_result"
    }
   ],
   "source": [
    "lc_explainer.explain_instance(text, predict_lr_counterfactual)"
   ]
  },
  {
   "cell_type": "markdown",
   "metadata": {
    "id": "jnvrNWFjsJ5H"
   },
   "source": [
    "The words with the most contribution towards the prediction are replaced one-by-one by baseline to understand their importance to the prediction. Lime is used as the heuristic to get their relative importance."
   ]
  },
  {
   "cell_type": "code",
   "execution_count": 11,
   "metadata": {
    "colab": {
     "base_uri": "https://localhost:8080/",
     "height": 295
    },
    "id": "aLu5x1_V3QF9",
    "outputId": "5ab2413e-8f1b-4b29-f569-5698e1e47523"
   },
   "outputs": [
    {
     "name": "stderr",
     "output_type": "stream",
     "text": [
      "/usr/local/lib/python3.6/dist-packages/lime/lime_text.py:114: FutureWarning: split() requires a non-empty pattern match.\n",
      "  self.as_list = [s for s in splitter.split(self.raw) if s]\n",
      "/usr/local/lib/python3.6/dist-packages/lime/lime_text.py:114: FutureWarning: split() requires a non-empty pattern match.\n",
      "  self.as_list = [s for s in splitter.split(self.raw) if s]\n",
      "/usr/local/lib/python3.6/dist-packages/lime/lime_text.py:114: FutureWarning: split() requires a non-empty pattern match.\n",
      "  self.as_list = [s for s in splitter.split(self.raw) if s]\n",
      "/usr/local/lib/python3.6/dist-packages/lime/lime_text.py:114: FutureWarning: split() requires a non-empty pattern match.\n",
      "  self.as_list = [s for s in splitter.split(self.raw) if s]\n",
      "/usr/local/lib/python3.6/dist-packages/lime/lime_text.py:114: FutureWarning: split() requires a non-empty pattern match.\n",
      "  self.as_list = [s for s in splitter.split(self.raw) if s]\n",
      "/usr/local/lib/python3.6/dist-packages/lime/lime_text.py:114: FutureWarning: split() requires a non-empty pattern match.\n",
      "  self.as_list = [s for s in splitter.split(self.raw) if s]\n",
      "/usr/local/lib/python3.6/dist-packages/lime/lime_text.py:114: FutureWarning: split() requires a non-empty pattern match.\n",
      "  self.as_list = [s for s in splitter.split(self.raw) if s]\n"
     ]
    },
    {
     "data": {
      "text/html": [
       "<mark style=background-color:#FFFFFF>Cheap </mark><mark style=background-color:#FFFFFF>and </mark><mark style=background-color:#276419><strike>delicious</strike> displeasing </mark><mark style=background-color:#FFFFFF>! </mark><mark style=background-color:#FFFFFF>I </mark><mark style=background-color:#FFFFFF>eat </mark><mark style=background-color:#FFFFFF>here </mark><mark style=background-color:#FFFFFF>about </mark><mark style=background-color:#FFFFFF>once </mark><mark style=background-color:#FFFFFF>a </mark><mark style=background-color:#FFFFFF>week </mark><mark style=background-color:#FFFFFF>because </mark><mark style=background-color:#FFFFFF>it </mark><mark style=background-color:#FFFFFF>fills </mark><mark style=background-color:#FFFFFF>me </mark><mark style=background-color:#FFFFFF>up </mark><mark style=background-color:#FFFFFF>for </mark><mark style=background-color:#FFFFFF>cheap </mark><mark style=background-color:#FFFFFF>price </mark><mark style=background-color:#FFFFFF>and </mark><mark style=background-color:#FFFFFF>the </mark><mark style=background-color:#FFFFFF>people </mark><mark style=background-color:#FFFFFF>who </mark><mark style=background-color:#FFFFFF>work </mark><mark style=background-color:#FFFFFF>there </mark><mark style=background-color:#FFFFFF>are </mark><mark style=background-color:#FFFFFF>really </mark><mark style=background-color:#FFFFFF>fun </mark><mark style=background-color:#FFFFFF>. </mark><mark style=background-color:#FFFFFF>it </mark><mark style=background-color:#FFFFFF>'s </mark><mark style=background-color:#FFFFFF>like </mark><mark style=background-color:#FFFFFF>a </mark><mark style=background-color:#FFFFFF>subway </mark><mark style=background-color:#FFFFFF>sandwich </mark><mark style=background-color:#FFFFFF>restaurant </mark><mark style=background-color:#FFFFFF>for </mark><mark style=background-color:#FFFFFF>Mexican </mark><mark style=background-color:#FFFFFF>food </mark><mark style=background-color:#FFFFFF>. </mark><mark style=background-color:#FFFFFF>I </mark><mark style=background-color:#c7e89f><strike>love</strike> hate </mark><mark style=background-color:#FFFFFF>the </mark><mark style=background-color:#FFFFFF>burrito </mark><mark style=background-color:#FFFFFF>w/ </mark><mark style=background-color:#FFFFFF>Cheese </mark><mark style=background-color:#FFFFFF>, </mark><mark style=background-color:#FFFFFF>Beans </mark><mark style=background-color:#FFFFFF>& </mark><mark style=background-color:#FFFFFF>rice </mark><mark style=background-color:#FFFFFF>w/ </mark><mark style=background-color:#FFFFFF>sour </mark><mark style=background-color:#FFFFFF>cream </mark><mark style=background-color:#FFFFFF>, </mark><mark style=background-color:#FFFFFF>less </mark><mark style=background-color:#FFFFFF>than </mark><mark style=background-color:#FFFFFF>$ </mark><mark style=background-color:#FFFFFF>5 </mark><mark style=background-color:#FFFFFF>and </mark><mark style=background-color:#6dad36><strike>best</strike> bad </mark><mark style=background-color:#FFFFFF>in </mark><mark style=background-color:#FFFFFF>town </mark><mark style=background-color:#FFFFFF>for </mark><mark style=background-color:#FFFFFF>that </mark><mark style=background-color:#FFFFFF>price </mark><mark style=background-color:#FFFFFF>. </mark>"
      ],
      "text/plain": [
       "<IPython.core.display.HTML object>"
      ]
     },
     "execution_count": 11,
     "metadata": {
      "tags": []
     },
     "output_type": "execute_result"
    }
   ],
   "source": [
    "lc_explainer.explain_instance(text, predict_lr_counterfactual, with_antonyms=True)"
   ]
  },
  {
   "cell_type": "markdown",
   "metadata": {
    "id": "MNxxgBUNsOTP"
   },
   "source": [
    "The words with the most contribution towards the prediction are replaced one-by-one by an antonym to understand their importance to the prediction. Lime is used as the heuristic to get their relative importance."
   ]
  },
  {
   "cell_type": "markdown",
   "metadata": {
    "id": "UfXCA2OjsTx5"
   },
   "source": [
    "#### Negative prediction example"
   ]
  },
  {
   "cell_type": "code",
   "execution_count": 12,
   "metadata": {
    "id": "3vlg03vU3R9G"
   },
   "outputs": [],
   "source": [
    "text = \"Perhaps it was an off night, but we were really disappointed in our take-out. My husband's pork fried rice was not fried rice...still don't know what it was. His Gen. Tso's chicken was flat and my cashew chicken was flavorless. In the past it has been good food.\"\n",
    "lc_explainer = LimeCounterfactualText()"
   ]
  },
  {
   "cell_type": "code",
   "execution_count": 13,
   "metadata": {
    "colab": {
     "base_uri": "https://localhost:8080/",
     "height": 1000
    },
    "id": "MxtMMCpo3R6q",
    "outputId": "1358b28f-01ce-4080-e512-38b90f99b9eb"
   },
   "outputs": [
    {
     "name": "stderr",
     "output_type": "stream",
     "text": [
      "/usr/local/lib/python3.6/dist-packages/lime/lime_text.py:114: FutureWarning: split() requires a non-empty pattern match.\n",
      "  self.as_list = [s for s in splitter.split(self.raw) if s]\n",
      "/usr/local/lib/python3.6/dist-packages/lime/lime_text.py:114: FutureWarning: split() requires a non-empty pattern match.\n",
      "  self.as_list = [s for s in splitter.split(self.raw) if s]\n",
      "/usr/local/lib/python3.6/dist-packages/lime/lime_text.py:114: FutureWarning: split() requires a non-empty pattern match.\n",
      "  self.as_list = [s for s in splitter.split(self.raw) if s]\n",
      "/usr/local/lib/python3.6/dist-packages/lime/lime_text.py:114: FutureWarning: split() requires a non-empty pattern match.\n",
      "  self.as_list = [s for s in splitter.split(self.raw) if s]\n",
      "/usr/local/lib/python3.6/dist-packages/lime/lime_text.py:114: FutureWarning: split() requires a non-empty pattern match.\n",
      "  self.as_list = [s for s in splitter.split(self.raw) if s]\n",
      "/usr/local/lib/python3.6/dist-packages/lime/lime_text.py:114: FutureWarning: split() requires a non-empty pattern match.\n",
      "  self.as_list = [s for s in splitter.split(self.raw) if s]\n",
      "/usr/local/lib/python3.6/dist-packages/lime/lime_text.py:114: FutureWarning: split() requires a non-empty pattern match.\n",
      "  self.as_list = [s for s in splitter.split(self.raw) if s]\n",
      "/usr/local/lib/python3.6/dist-packages/lime/lime_text.py:114: FutureWarning: split() requires a non-empty pattern match.\n",
      "  self.as_list = [s for s in splitter.split(self.raw) if s]\n",
      "/usr/local/lib/python3.6/dist-packages/lime/lime_text.py:114: FutureWarning: split() requires a non-empty pattern match.\n",
      "  self.as_list = [s for s in splitter.split(self.raw) if s]\n",
      "/usr/local/lib/python3.6/dist-packages/lime/lime_text.py:114: FutureWarning: split() requires a non-empty pattern match.\n",
      "  self.as_list = [s for s in splitter.split(self.raw) if s]\n",
      "/usr/local/lib/python3.6/dist-packages/lime/lime_text.py:114: FutureWarning: split() requires a non-empty pattern match.\n",
      "  self.as_list = [s for s in splitter.split(self.raw) if s]\n",
      "/usr/local/lib/python3.6/dist-packages/lime/lime_text.py:114: FutureWarning: split() requires a non-empty pattern match.\n",
      "  self.as_list = [s for s in splitter.split(self.raw) if s]\n",
      "/usr/local/lib/python3.6/dist-packages/lime/lime_text.py:114: FutureWarning: split() requires a non-empty pattern match.\n",
      "  self.as_list = [s for s in splitter.split(self.raw) if s]\n",
      "/usr/local/lib/python3.6/dist-packages/lime/lime_text.py:114: FutureWarning: split() requires a non-empty pattern match.\n",
      "  self.as_list = [s for s in splitter.split(self.raw) if s]\n",
      "/usr/local/lib/python3.6/dist-packages/lime/lime_text.py:114: FutureWarning: split() requires a non-empty pattern match.\n",
      "  self.as_list = [s for s in splitter.split(self.raw) if s]\n",
      "/usr/local/lib/python3.6/dist-packages/lime/lime_text.py:114: FutureWarning: split() requires a non-empty pattern match.\n",
      "  self.as_list = [s for s in splitter.split(self.raw) if s]\n",
      "/usr/local/lib/python3.6/dist-packages/lime/lime_text.py:114: FutureWarning: split() requires a non-empty pattern match.\n",
      "  self.as_list = [s for s in splitter.split(self.raw) if s]\n",
      "/usr/local/lib/python3.6/dist-packages/lime/lime_text.py:114: FutureWarning: split() requires a non-empty pattern match.\n",
      "  self.as_list = [s for s in splitter.split(self.raw) if s]\n",
      "/usr/local/lib/python3.6/dist-packages/lime/lime_text.py:114: FutureWarning: split() requires a non-empty pattern match.\n",
      "  self.as_list = [s for s in splitter.split(self.raw) if s]\n",
      "/usr/local/lib/python3.6/dist-packages/lime/lime_text.py:114: FutureWarning: split() requires a non-empty pattern match.\n",
      "  self.as_list = [s for s in splitter.split(self.raw) if s]\n",
      "/usr/local/lib/python3.6/dist-packages/lime/lime_text.py:114: FutureWarning: split() requires a non-empty pattern match.\n",
      "  self.as_list = [s for s in splitter.split(self.raw) if s]\n",
      "/usr/local/lib/python3.6/dist-packages/lime/lime_text.py:114: FutureWarning: split() requires a non-empty pattern match.\n",
      "  self.as_list = [s for s in splitter.split(self.raw) if s]\n",
      "/usr/local/lib/python3.6/dist-packages/lime/lime_text.py:114: FutureWarning: split() requires a non-empty pattern match.\n",
      "  self.as_list = [s for s in splitter.split(self.raw) if s]\n",
      "/usr/local/lib/python3.6/dist-packages/lime/lime_text.py:114: FutureWarning: split() requires a non-empty pattern match.\n",
      "  self.as_list = [s for s in splitter.split(self.raw) if s]\n",
      "/usr/local/lib/python3.6/dist-packages/lime/lime_text.py:114: FutureWarning: split() requires a non-empty pattern match.\n",
      "  self.as_list = [s for s in splitter.split(self.raw) if s]\n",
      "/usr/local/lib/python3.6/dist-packages/lime/lime_text.py:114: FutureWarning: split() requires a non-empty pattern match.\n",
      "  self.as_list = [s for s in splitter.split(self.raw) if s]\n",
      "/usr/local/lib/python3.6/dist-packages/lime/lime_text.py:114: FutureWarning: split() requires a non-empty pattern match.\n",
      "  self.as_list = [s for s in splitter.split(self.raw) if s]\n",
      "/usr/local/lib/python3.6/dist-packages/lime/lime_text.py:114: FutureWarning: split() requires a non-empty pattern match.\n",
      "  self.as_list = [s for s in splitter.split(self.raw) if s]\n",
      "/usr/local/lib/python3.6/dist-packages/lime/lime_text.py:114: FutureWarning: split() requires a non-empty pattern match.\n",
      "  self.as_list = [s for s in splitter.split(self.raw) if s]\n",
      "/usr/local/lib/python3.6/dist-packages/lime/lime_text.py:114: FutureWarning: split() requires a non-empty pattern match.\n",
      "  self.as_list = [s for s in splitter.split(self.raw) if s]\n",
      "/usr/local/lib/python3.6/dist-packages/lime/lime_text.py:114: FutureWarning: split() requires a non-empty pattern match.\n",
      "  self.as_list = [s for s in splitter.split(self.raw) if s]\n",
      "/usr/local/lib/python3.6/dist-packages/lime/lime_text.py:114: FutureWarning: split() requires a non-empty pattern match.\n",
      "  self.as_list = [s for s in splitter.split(self.raw) if s]\n",
      "/usr/local/lib/python3.6/dist-packages/lime/lime_text.py:114: FutureWarning: split() requires a non-empty pattern match.\n",
      "  self.as_list = [s for s in splitter.split(self.raw) if s]\n",
      "/usr/local/lib/python3.6/dist-packages/lime/lime_text.py:114: FutureWarning: split() requires a non-empty pattern match.\n",
      "  self.as_list = [s for s in splitter.split(self.raw) if s]\n",
      "/usr/local/lib/python3.6/dist-packages/lime/lime_text.py:114: FutureWarning: split() requires a non-empty pattern match.\n",
      "  self.as_list = [s for s in splitter.split(self.raw) if s]\n",
      "/usr/local/lib/python3.6/dist-packages/lime/lime_text.py:114: FutureWarning: split() requires a non-empty pattern match.\n",
      "  self.as_list = [s for s in splitter.split(self.raw) if s]\n",
      "/usr/local/lib/python3.6/dist-packages/lime/lime_text.py:114: FutureWarning: split() requires a non-empty pattern match.\n",
      "  self.as_list = [s for s in splitter.split(self.raw) if s]\n",
      "/usr/local/lib/python3.6/dist-packages/lime/lime_text.py:114: FutureWarning: split() requires a non-empty pattern match.\n",
      "  self.as_list = [s for s in splitter.split(self.raw) if s]\n",
      "/usr/local/lib/python3.6/dist-packages/lime/lime_text.py:114: FutureWarning: split() requires a non-empty pattern match.\n",
      "  self.as_list = [s for s in splitter.split(self.raw) if s]\n",
      "/usr/local/lib/python3.6/dist-packages/lime/lime_text.py:114: FutureWarning: split() requires a non-empty pattern match.\n",
      "  self.as_list = [s for s in splitter.split(self.raw) if s]\n",
      "/usr/local/lib/python3.6/dist-packages/lime/lime_text.py:114: FutureWarning: split() requires a non-empty pattern match.\n",
      "  self.as_list = [s for s in splitter.split(self.raw) if s]\n",
      "/usr/local/lib/python3.6/dist-packages/lime/lime_text.py:114: FutureWarning: split() requires a non-empty pattern match.\n",
      "  self.as_list = [s for s in splitter.split(self.raw) if s]\n",
      "/usr/local/lib/python3.6/dist-packages/lime/lime_text.py:114: FutureWarning: split() requires a non-empty pattern match.\n",
      "  self.as_list = [s for s in splitter.split(self.raw) if s]\n",
      "/usr/local/lib/python3.6/dist-packages/lime/lime_text.py:114: FutureWarning: split() requires a non-empty pattern match.\n",
      "  self.as_list = [s for s in splitter.split(self.raw) if s]\n",
      "/usr/local/lib/python3.6/dist-packages/lime/lime_text.py:114: FutureWarning: split() requires a non-empty pattern match.\n",
      "  self.as_list = [s for s in splitter.split(self.raw) if s]\n",
      "/usr/local/lib/python3.6/dist-packages/lime/lime_text.py:114: FutureWarning: split() requires a non-empty pattern match.\n",
      "  self.as_list = [s for s in splitter.split(self.raw) if s]\n",
      "/usr/local/lib/python3.6/dist-packages/lime/lime_text.py:114: FutureWarning: split() requires a non-empty pattern match.\n",
      "  self.as_list = [s for s in splitter.split(self.raw) if s]\n",
      "/usr/local/lib/python3.6/dist-packages/lime/lime_text.py:114: FutureWarning: split() requires a non-empty pattern match.\n",
      "  self.as_list = [s for s in splitter.split(self.raw) if s]\n",
      "/usr/local/lib/python3.6/dist-packages/lime/lime_text.py:114: FutureWarning: split() requires a non-empty pattern match.\n",
      "  self.as_list = [s for s in splitter.split(self.raw) if s]\n",
      "/usr/local/lib/python3.6/dist-packages/lime/lime_text.py:114: FutureWarning: split() requires a non-empty pattern match.\n",
      "  self.as_list = [s for s in splitter.split(self.raw) if s]\n",
      "/usr/local/lib/python3.6/dist-packages/lime/lime_text.py:114: FutureWarning: split() requires a non-empty pattern match.\n",
      "  self.as_list = [s for s in splitter.split(self.raw) if s]\n",
      "/usr/local/lib/python3.6/dist-packages/lime/lime_text.py:114: FutureWarning: split() requires a non-empty pattern match.\n",
      "  self.as_list = [s for s in splitter.split(self.raw) if s]\n",
      "/usr/local/lib/python3.6/dist-packages/lime/lime_text.py:114: FutureWarning: split() requires a non-empty pattern match.\n",
      "  self.as_list = [s for s in splitter.split(self.raw) if s]\n",
      "/usr/local/lib/python3.6/dist-packages/lime/lime_text.py:114: FutureWarning: split() requires a non-empty pattern match.\n",
      "  self.as_list = [s for s in splitter.split(self.raw) if s]\n",
      "/usr/local/lib/python3.6/dist-packages/lime/lime_text.py:114: FutureWarning: split() requires a non-empty pattern match.\n",
      "  self.as_list = [s for s in splitter.split(self.raw) if s]\n",
      "/usr/local/lib/python3.6/dist-packages/lime/lime_text.py:114: FutureWarning: split() requires a non-empty pattern match.\n",
      "  self.as_list = [s for s in splitter.split(self.raw) if s]\n"
     ]
    },
    {
     "data": {
      "text/html": [
       "<mark style=background-color:#b7e085><strike>Perhaps</strike> UNK </mark><mark style=background-color:#FFFFFF>it </mark><mark style=background-color:#7fbc41><strike>was</strike> UNK </mark><mark style=background-color:#FFFFFF>an </mark><mark style=background-color:#FFFFFF>off </mark><mark style=background-color:#FFFFFF>night </mark><mark style=background-color:#FFFFFF>, </mark><mark style=background-color:#FFFFFF>but </mark><mark style=background-color:#FFFFFF>we </mark><mark style=background-color:#FFFFFF>were </mark><mark style=background-color:#FFFFFF>really </mark><mark style=background-color:#4c9121><strike>disappointed</strike> UNK </mark><mark style=background-color:#FFFFFF>in </mark><mark style=background-color:#FFFFFF>our </mark><mark style=background-color:#FFFFFF>take </mark><mark style=background-color:#FFFFFF>- </mark><mark style=background-color:#FFFFFF>out </mark><mark style=background-color:#FFFFFF>. </mark><mark style=background-color:#FFFFFF>My </mark><mark style=background-color:#FFFFFF>husband </mark><mark style=background-color:#FFFFFF>'s </mark><mark style=background-color:#FFFFFF>pork </mark><mark style=background-color:#FFFFFF>fried </mark><mark style=background-color:#FFFFFF>rice </mark><mark style=background-color:#7fbc41><strike>was</strike> UNK </mark><mark style=background-color:#e6f5d0><strike>not</strike> UNK </mark><mark style=background-color:#FFFFFF>fried </mark><mark style=background-color:#FFFFFF>rice </mark><mark style=background-color:#FFFFFF>... </mark><mark style=background-color:#FFFFFF>still </mark><mark style=background-color:#FFFFFF>do </mark><mark style=background-color:#FFFFFF>n't </mark><mark style=background-color:#FFFFFF>know </mark><mark style=background-color:#FFFFFF>what </mark><mark style=background-color:#FFFFFF>it </mark><mark style=background-color:#7fbc41><strike>was</strike> UNK </mark><mark style=background-color:#FFFFFF>. </mark><mark style=background-color:#FFFFFF>His </mark><mark style=background-color:#FFFFFF>Gen. </mark><mark style=background-color:#FFFFFF>Tso </mark><mark style=background-color:#FFFFFF>'s </mark><mark style=background-color:#FFFFFF>chicken </mark><mark style=background-color:#7fbc41><strike>was</strike> UNK </mark><mark style=background-color:#FFFFFF>flat </mark><mark style=background-color:#FFFFFF>and </mark><mark style=background-color:#FFFFFF>my </mark><mark style=background-color:#FFFFFF>cashew </mark><mark style=background-color:#FFFFFF>chicken </mark><mark style=background-color:#7fbc41><strike>was</strike> UNK </mark><mark style=background-color:#276419><strike>flavorless</strike> UNK </mark><mark style=background-color:#FFFFFF>. </mark><mark style=background-color:#FFFFFF>In </mark><mark style=background-color:#FFFFFF>the </mark><mark style=background-color:#FFFFFF>past </mark><mark style=background-color:#FFFFFF>it </mark><mark style=background-color:#FFFFFF>has </mark><mark style=background-color:#FFFFFF>been </mark><mark style=background-color:#FFFFFF>good </mark><mark style=background-color:#FFFFFF>food </mark><mark style=background-color:#FFFFFF>. </mark>"
      ],
      "text/plain": [
       "<IPython.core.display.HTML object>"
      ]
     },
     "execution_count": 13,
     "metadata": {
      "tags": []
     },
     "output_type": "execute_result"
    }
   ],
   "source": [
    "lc_explainer.explain_instance(text, predict_lr_counterfactual)"
   ]
  },
  {
   "cell_type": "markdown",
   "metadata": {
    "id": "5eG_8-HSsbwG"
   },
   "source": [
    "The words with the most contribution towards the prediction are replaced one-by-one by teh baseline to understand their importance to the prediction. Lime is used as the heuristic to get their relative importance."
   ]
  },
  {
   "cell_type": "code",
   "execution_count": 14,
   "metadata": {
    "colab": {
     "base_uri": "https://localhost:8080/",
     "height": 607
    },
    "id": "y2Bf98Fj3R34",
    "outputId": "4b5c7128-02c5-42b4-f9f7-becf4a0fdd6d"
   },
   "outputs": [
    {
     "name": "stderr",
     "output_type": "stream",
     "text": [
      "/usr/local/lib/python3.6/dist-packages/lime/lime_text.py:114: FutureWarning: split() requires a non-empty pattern match.\n",
      "  self.as_list = [s for s in splitter.split(self.raw) if s]\n",
      "/usr/local/lib/python3.6/dist-packages/lime/lime_text.py:114: FutureWarning: split() requires a non-empty pattern match.\n",
      "  self.as_list = [s for s in splitter.split(self.raw) if s]\n",
      "/usr/local/lib/python3.6/dist-packages/lime/lime_text.py:114: FutureWarning: split() requires a non-empty pattern match.\n",
      "  self.as_list = [s for s in splitter.split(self.raw) if s]\n",
      "/usr/local/lib/python3.6/dist-packages/lime/lime_text.py:114: FutureWarning: split() requires a non-empty pattern match.\n",
      "  self.as_list = [s for s in splitter.split(self.raw) if s]\n",
      "/usr/local/lib/python3.6/dist-packages/lime/lime_text.py:114: FutureWarning: split() requires a non-empty pattern match.\n",
      "  self.as_list = [s for s in splitter.split(self.raw) if s]\n",
      "/usr/local/lib/python3.6/dist-packages/lime/lime_text.py:114: FutureWarning: split() requires a non-empty pattern match.\n",
      "  self.as_list = [s for s in splitter.split(self.raw) if s]\n",
      "/usr/local/lib/python3.6/dist-packages/lime/lime_text.py:114: FutureWarning: split() requires a non-empty pattern match.\n",
      "  self.as_list = [s for s in splitter.split(self.raw) if s]\n",
      "/usr/local/lib/python3.6/dist-packages/lime/lime_text.py:114: FutureWarning: split() requires a non-empty pattern match.\n",
      "  self.as_list = [s for s in splitter.split(self.raw) if s]\n",
      "/usr/local/lib/python3.6/dist-packages/lime/lime_text.py:114: FutureWarning: split() requires a non-empty pattern match.\n",
      "  self.as_list = [s for s in splitter.split(self.raw) if s]\n",
      "/usr/local/lib/python3.6/dist-packages/lime/lime_text.py:114: FutureWarning: split() requires a non-empty pattern match.\n",
      "  self.as_list = [s for s in splitter.split(self.raw) if s]\n",
      "/usr/local/lib/python3.6/dist-packages/lime/lime_text.py:114: FutureWarning: split() requires a non-empty pattern match.\n",
      "  self.as_list = [s for s in splitter.split(self.raw) if s]\n",
      "/usr/local/lib/python3.6/dist-packages/lime/lime_text.py:114: FutureWarning: split() requires a non-empty pattern match.\n",
      "  self.as_list = [s for s in splitter.split(self.raw) if s]\n",
      "/usr/local/lib/python3.6/dist-packages/lime/lime_text.py:114: FutureWarning: split() requires a non-empty pattern match.\n",
      "  self.as_list = [s for s in splitter.split(self.raw) if s]\n",
      "/usr/local/lib/python3.6/dist-packages/lime/lime_text.py:114: FutureWarning: split() requires a non-empty pattern match.\n",
      "  self.as_list = [s for s in splitter.split(self.raw) if s]\n",
      "/usr/local/lib/python3.6/dist-packages/lime/lime_text.py:114: FutureWarning: split() requires a non-empty pattern match.\n",
      "  self.as_list = [s for s in splitter.split(self.raw) if s]\n",
      "/usr/local/lib/python3.6/dist-packages/lime/lime_text.py:114: FutureWarning: split() requires a non-empty pattern match.\n",
      "  self.as_list = [s for s in splitter.split(self.raw) if s]\n"
     ]
    },
    {
     "data": {
      "text/html": [
       "<mark style=background-color:#b7e085><strike>Perhaps</strike> certainty </mark><mark style=background-color:#FFFFFF>it </mark><mark style=background-color:#7fbc41><strike>was</strike> change </mark><mark style=background-color:#FFFFFF>an </mark><mark style=background-color:#FFFFFF>off </mark><mark style=background-color:#FFFFFF>night </mark><mark style=background-color:#FFFFFF>, </mark><mark style=background-color:#FFFFFF>but </mark><mark style=background-color:#FFFFFF>we </mark><mark style=background-color:#FFFFFF>were </mark><mark style=background-color:#FFFFFF>really </mark><mark style=background-color:#4c9121><strike>disappointed</strike> successful </mark><mark style=background-color:#FFFFFF>in </mark><mark style=background-color:#FFFFFF>our </mark><mark style=background-color:#FFFFFF>take </mark><mark style=background-color:#FFFFFF>- </mark><mark style=background-color:#FFFFFF>out </mark><mark style=background-color:#FFFFFF>. </mark><mark style=background-color:#FFFFFF>My </mark><mark style=background-color:#FFFFFF>husband </mark><mark style=background-color:#FFFFFF>'s </mark><mark style=background-color:#FFFFFF>pork </mark><mark style=background-color:#FFFFFF>fried </mark><mark style=background-color:#FFFFFF>rice </mark><mark style=background-color:#7fbc41><strike>was</strike> change </mark><mark style=background-color:#e6f5d0><strike>not</strike> commercial </mark><mark style=background-color:#FFFFFF>fried </mark><mark style=background-color:#FFFFFF>rice </mark><mark style=background-color:#FFFFFF>... </mark><mark style=background-color:#FFFFFF>still </mark><mark style=background-color:#FFFFFF>do </mark><mark style=background-color:#FFFFFF>n't </mark><mark style=background-color:#FFFFFF>know </mark><mark style=background-color:#FFFFFF>what </mark><mark style=background-color:#FFFFFF>it </mark><mark style=background-color:#7fbc41><strike>was</strike> change </mark><mark style=background-color:#FFFFFF>. </mark><mark style=background-color:#FFFFFF>His </mark><mark style=background-color:#FFFFFF>Gen. </mark><mark style=background-color:#FFFFFF>Tso </mark><mark style=background-color:#FFFFFF>'s </mark><mark style=background-color:#FFFFFF>chicken </mark><mark style=background-color:#7fbc41><strike>was</strike> change </mark><mark style=background-color:#FFFFFF>flat </mark><mark style=background-color:#FFFFFF>and </mark><mark style=background-color:#FFFFFF>my </mark><mark style=background-color:#FFFFFF>cashew </mark><mark style=background-color:#FFFFFF>chicken </mark><mark style=background-color:#7fbc41><strike>was</strike> change </mark><mark style=background-color:#276419><strike>flavorless</strike> tasty </mark><mark style=background-color:#FFFFFF>. </mark><mark style=background-color:#FFFFFF>In </mark><mark style=background-color:#FFFFFF>the </mark><mark style=background-color:#FFFFFF>past </mark><mark style=background-color:#FFFFFF>it </mark><mark style=background-color:#FFFFFF>has </mark><mark style=background-color:#FFFFFF>been </mark><mark style=background-color:#FFFFFF>good </mark><mark style=background-color:#FFFFFF>food </mark><mark style=background-color:#FFFFFF>. </mark>"
      ],
      "text/plain": [
       "<IPython.core.display.HTML object>"
      ]
     },
     "execution_count": 14,
     "metadata": {
      "tags": []
     },
     "output_type": "execute_result"
    }
   ],
   "source": [
    "lc_explainer.explain_instance(text, predict_lr_counterfactual, with_antonyms=True)"
   ]
  },
  {
   "cell_type": "markdown",
   "metadata": {
    "id": "zZEmOnTusehm"
   },
   "source": [
    "The words with the most contribution towards the prediction are replaced one-by-one by an antonym to understand their importance to the prediction. Lime is used as the heuristic to get their relative importance."
   ]
  }
 ],
 "metadata": {
  "accelerator": "GPU",
  "colab": {
   "collapsed_sections": [],
   "machine_shape": "hm",
   "name": "ExplainableAI-LimeCounterfactural-Text.ipynb",
   "provenance": []
  },
  "kernelspec": {
   "display_name": "Python 3",
   "language": "python",
   "name": "python3"
  },
  "language_info": {
   "codemirror_mode": {
    "name": "ipython",
    "version": 3
   },
   "file_extension": ".py",
   "mimetype": "text/x-python",
   "name": "python",
   "nbconvert_exporter": "python",
   "pygments_lexer": "ipython3",
   "version": "3.7.3"
  }
 },
 "nbformat": 4,
 "nbformat_minor": 1
}
