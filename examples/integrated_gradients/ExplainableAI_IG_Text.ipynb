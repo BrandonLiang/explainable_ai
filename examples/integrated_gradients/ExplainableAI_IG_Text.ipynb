{
 "cells": [
  {
   "cell_type": "markdown",
   "metadata": {
    "id": "vN4D_S3r4Uij"
   },
   "source": [
    "# Text model explanation using Integrated Gradients"
   ]
  },
  {
   "cell_type": "markdown",
   "metadata": {
    "id": "8YefO7K8w1Tl"
   },
   "source": [
    "### Imports and installs"
   ]
  },
  {
   "cell_type": "code",
   "execution_count": 1,
   "metadata": {
    "id": "9u-KZTlpF2yA"
   },
   "outputs": [],
   "source": [
    "import random\n",
    "\n",
    "import matplotlib.pyplot as plt\n",
    "import numpy             as np\n",
    "import tensorflow        as tf\n",
    "\n",
    "from tensorflow.keras.datasets      import imdb\n",
    "from tensorflow.keras.layers        import (Conv1D,\n",
    "                                            Dense,\n",
    "                                            Dropout,\n",
    "                                            Embedding,\n",
    "                                            GlobalMaxPooling1D,\n",
    "                                            Input)\n",
    "from tensorflow.keras.models        import Model\n",
    "from tensorflow.keras.preprocessing import sequence\n",
    "from tensorflow.keras.utils         import to_categorical"
   ]
  },
  {
   "cell_type": "code",
   "execution_count": 2,
   "metadata": {
    "id": "bB1hgm3Tf4AR"
   },
   "outputs": [],
   "source": [
    "random.seed(0)\n",
    "np.random.seed(0)\n",
    "tf.random.set_seed(0)"
   ]
  },
  {
   "cell_type": "code",
   "execution_count": 3,
   "metadata": {
    "colab": {
     "base_uri": "https://localhost:8080/"
    },
    "id": "B3y96jmseHYe",
    "outputId": "a7e322e5-a6b9-432d-be30-cea53da3d991"
   },
   "outputs": [
    {
     "name": "stdout",
     "output_type": "stream",
     "text": [
      "Cloning into 'explainable_ai'...\n",
      "remote: Enumerating objects: 33, done.\u001b[K\n",
      "remote: Counting objects: 100% (33/33), done.\u001b[K\n",
      "remote: Compressing objects: 100% (27/27), done.\u001b[K\n",
      "remote: Total 33 (delta 2), reused 33 (delta 2), pack-reused 0\u001b[K\n",
      "Unpacking objects: 100% (33/33), done.\n"
     ]
    }
   ],
   "source": [
    "!rm -rf explainable_ai\n",
    "!git clone https://github.com/kartikparnami/explainable_ai.git\n",
    "from explainable_ai.integrated_gradients.ig_text import IntegratedGradientsText"
   ]
  },
  {
   "cell_type": "markdown",
   "metadata": {
    "id": "XG-rv9NEw9tt"
   },
   "source": [
    "### Construct model and utilities"
   ]
  },
  {
   "cell_type": "code",
   "execution_count": 4,
   "metadata": {
    "id": "jt4Vy4zsAynj"
   },
   "outputs": [],
   "source": [
    "BATCH_SIZE          = 256\n",
    "EMBEDDING_DIMS      = 50\n",
    "EPOCHS              = 5\n",
    "NUM_FILTERS         = 250\n",
    "HIDDEN_DIMS         = 250\n",
    "INTERNAL_BATCH_SIZE = 100\n",
    "KERNEL_SIZE         = 3\n",
    "MAX_FEATURES        = 10000\n",
    "MAX_LEN             = 100\n",
    "NB_SAMPLES          = 32\n",
    "N_STEPS             = 100"
   ]
  },
  {
   "cell_type": "code",
   "execution_count": 5,
   "metadata": {
    "id": "oAdDTPcCezX6"
   },
   "outputs": [],
   "source": [
    "def decode_sentence(x, reverse_index):\n",
    "    # the `-3` offset is due to the special tokens used by keras\n",
    "    # see https://stackoverflow.com/questions/42821330/restore-original-text-from-keras-s-imdb-dataset\n",
    "    return \" \".join([reverse_index.get(i - 3, 'UNK') for i in x])\n",
    "\n",
    "(x_train, y_train), (x_test, y_test) = imdb.load_data(num_words=MAX_FEATURES)\n",
    "\n",
    "# test_labels = y_test.copy()\n",
    "# train_labels = y_train.copy()\n",
    "y_train, y_test = to_categorical(y_train), to_categorical(y_test)\n",
    "x_train, x_test = sequence.pad_sequences(x_train, maxlen=MAX_LEN), sequence.pad_sequences(x_test, maxlen=MAX_LEN)\n",
    "index = imdb.get_word_index()\n",
    "reverse_index = {value: key for (key, value) in index.items()}"
   ]
  },
  {
   "cell_type": "code",
   "execution_count": 6,
   "metadata": {
    "colab": {
     "base_uri": "https://localhost:8080/"
    },
    "id": "mF7BfwEHgC1T",
    "outputId": "67854aa2-c8bb-4e1e-8f08-df838a89e5f7"
   },
   "outputs": [
    {
     "name": "stdout",
     "output_type": "stream",
     "text": [
      "Epoch 1/5\n",
      "98/98 [==============================] - 2s 18ms/step - loss: 0.5874 - accuracy: 0.6687 - val_loss: 0.4170 - val_accuracy: 0.8213\n",
      "Epoch 2/5\n",
      "98/98 [==============================] - 2s 16ms/step - loss: 0.3174 - accuracy: 0.8649 - val_loss: 0.3524 - val_accuracy: 0.8513\n",
      "Epoch 3/5\n",
      "98/98 [==============================] - 2s 16ms/step - loss: 0.2102 - accuracy: 0.9200 - val_loss: 0.3347 - val_accuracy: 0.8522\n",
      "Epoch 4/5\n",
      "98/98 [==============================] - 2s 17ms/step - loss: 0.1369 - accuracy: 0.9522 - val_loss: 0.3525 - val_accuracy: 0.8442\n",
      "Epoch 5/5\n",
      "98/98 [==============================] - 2s 16ms/step - loss: 0.0789 - accuracy: 0.9748 - val_loss: 0.3854 - val_accuracy: 0.8410\n"
     ]
    },
    {
     "data": {
      "text/plain": [
       "<tensorflow.python.keras.callbacks.History at 0x7f3366e85e48>"
      ]
     },
     "execution_count": 6,
     "metadata": {
      "tags": []
     },
     "output_type": "execute_result"
    }
   ],
   "source": [
    "inputs = Input(shape=(MAX_LEN,), dtype='float32')\n",
    "embedded_sequences = Embedding(MAX_FEATURES, EMBEDDING_DIMS)(inputs)\n",
    "out = Conv1D(NUM_FILTERS,\n",
    "             KERNEL_SIZE,\n",
    "             padding='valid',\n",
    "             activation='relu',\n",
    "             strides=1)(embedded_sequences)\n",
    "out = Dropout(0.4)(out)\n",
    "out = GlobalMaxPooling1D()(out)\n",
    "out = Dense(HIDDEN_DIMS,\n",
    "            activation='relu')(out)\n",
    "out = Dropout(0.4)(out)\n",
    "outputs = Dense(2, activation='softmax')(out)\n",
    "\n",
    "model = Model(inputs=inputs, outputs=outputs)\n",
    "model.compile(loss='categorical_crossentropy',\n",
    "              optimizer='adam',\n",
    "              metrics=['accuracy'])\n",
    "model.fit(x_train, y_train,\n",
    "          batch_size=BATCH_SIZE,\n",
    "          epochs=EPOCHS,\n",
    "          validation_data=(x_test, y_test))"
   ]
  },
  {
   "cell_type": "markdown",
   "metadata": {
    "id": "o1s0uherxPmJ"
   },
   "source": [
    "### Integrated gradients text explanation and visualization"
   ]
  },
  {
   "cell_type": "code",
   "execution_count": 7,
   "metadata": {
    "id": "cmqA7HyqVnIv"
   },
   "outputs": [],
   "source": [
    "ig_explainer = IntegratedGradientsText(model,\n",
    "                                       layer=model.layers[1],\n",
    "                                       n_steps=N_STEPS,\n",
    "                                       internal_batch_size=INTERNAL_BATCH_SIZE)"
   ]
  },
  {
   "cell_type": "markdown",
   "metadata": {
    "id": "maUna98LxpNN"
   },
   "source": [
    "#### Real positive reviews example"
   ]
  },
  {
   "cell_type": "code",
   "execution_count": 8,
   "metadata": {
    "colab": {
     "base_uri": "https://localhost:8080/",
     "height": 86
    },
    "id": "RR6XrrrLVrn1",
    "outputId": "a96bca44-de3a-45e7-e965-427b640dd0e0"
   },
   "outputs": [
    {
     "name": "stdout",
     "output_type": "stream",
     "text": [
      "Predicted label =  1: Positive review; Real label = 1: Positive review\n"
     ]
    },
    {
     "data": {
      "text/html": [
       "<mark style=background-color:#f8f4f6>a </mark><mark style=background-color:#c7e89f>powerful </mark><mark style=background-color:#f8f5f6>study </mark><mark style=background-color:#f7f7f7>of </mark><mark style=background-color:#f3f6ed>loneliness </mark><mark style=background-color:#f9eff4>sexual </mark><mark style=background-color:#f9eff4>UNK </mark><mark style=background-color:#f1f6e8>and </mark><mark style=background-color:#f6f7f5>desperation </mark><mark style=background-color:#ecf6de>be </mark><mark style=background-color:#b5df82>patient </mark><mark style=background-color:#f8f5f6>UNK </mark><mark style=background-color:#f5f7f3>up </mark><mark style=background-color:#f3f7ef>the </mark><mark style=background-color:#cbe9a4>atmosphere </mark><mark style=background-color:#f3f7ef>and </mark><mark style=background-color:#f8f2f5>pay </mark><mark style=background-color:#f5f7f3>attention </mark><mark style=background-color:#f7f7f6>to </mark><mark style=background-color:#ecf6de>the </mark><mark style=background-color:#b7e085>wonderfully </mark><mark style=background-color:#f7f6f7>written </mark><mark style=background-color:#f3bcdd>script </mark><mark style=background-color:#f5f7f3>br </mark><mark style=background-color:#f8f4f6>br </mark><mark style=background-color:#f3f6ed>i </mark><mark style=background-color:#ebf6dc>praise </mark><mark style=background-color:#faeaf2>robert </mark><mark style=background-color:#f2f6ec>altman </mark><mark style=background-color:#f7f7f6>this </mark><mark style=background-color:#f5f7f3>is </mark><mark style=background-color:#f7f7f7>one </mark><mark style=background-color:#f7f6f7>of </mark><mark style=background-color:#f4f7f0>his </mark><mark style=background-color:#f8f3f6>many </mark><mark style=background-color:#f9f1f5>films </mark><mark style=background-color:#f0f6e7>that </mark><mark style=background-color:#b9e187>deals </mark><mark style=background-color:#f3f7ef>with </mark><mark style=background-color:#93c959>unconventional </mark><mark style=background-color:#276419>fascinating </mark><mark style=background-color:#fbe9f2>subject </mark><mark style=background-color:#e9f5d6>matter </mark><mark style=background-color:#f7f7f6>this </mark><mark style=background-color:#f6f7f5>film </mark><mark style=background-color:#f7f7f7>is </mark><mark style=background-color:#f7f7f7>disturbing </mark><mark style=background-color:#f4f7f0>but </mark><mark style=background-color:#eff6e4>it's </mark><mark style=background-color:#fbe6f1>sincere </mark><mark style=background-color:#f5f7f3>and </mark><mark style=background-color:#edf6e1>it's </mark><mark style=background-color:#f1f6e8>sure </mark><mark style=background-color:#f7f7f6>to </mark><mark style=background-color:#f9eff4>UNK </mark><mark style=background-color:#f8f3f6>a </mark><mark style=background-color:#b7e085>strong </mark><mark style=background-color:#b7e085>emotional </mark><mark style=background-color:#f8d0e7>response </mark><mark style=background-color:#f7f7f7>from </mark><mark style=background-color:#edf6e1>the </mark><mark style=background-color:#eff6e4>viewer </mark><mark style=background-color:#f8f3f6>if </mark><mark style=background-color:#e9f5d6>you </mark><mark style=background-color:#f8f3f6>want </mark><mark style=background-color:#f6f7f5>to </mark><mark style=background-color:#f2f6ec>see </mark><mark style=background-color:#f6f7f5>an </mark><mark style=background-color:#9ccf64>unusual </mark><mark style=background-color:#f3f6ed>film </mark><mark style=background-color:#f1f6ea>some </mark><mark style=background-color:#fbe8f2>might </mark><mark style=background-color:#f9eff4>even </mark><mark style=background-color:#f3f6ed>say </mark><mark style=background-color:#f3bcdd>bizarre </mark><mark style=background-color:#f6f7f5>this </mark><mark style=background-color:#f6f7f5>is </mark><mark style=background-color:#ecf6de>worth </mark><mark style=background-color:#f5f7f3>the </mark><mark style=background-color:#f3f6ed>time </mark><mark style=background-color:#f6f7f5>br </mark><mark style=background-color:#f5f7f2>br </mark><mark style=background-color:#fbd8eb>unfortunately </mark><mark style=background-color:#eef6e2>it's </mark><mark style=background-color:#f7f7f6>very </mark><mark style=background-color:#f7f6f7>difficult </mark><mark style=background-color:#f5f7f2>to </mark><mark style=background-color:#f6f7f5>find </mark><mark style=background-color:#f5f7f3>in </mark><mark style=background-color:#fbe6f1>video </mark><mark style=background-color:#fddeee>stores </mark><mark style=background-color:#b7e085>you </mark><mark style=background-color:#e1f3c7>may </mark><mark style=background-color:#f3f6ed>have </mark><mark style=background-color:#f0f6e7>to </mark><mark style=background-color:#d4edb3>buy </mark><mark style=background-color:#f2f6ec>it </mark><mark style=background-color:#f9f1f5>off </mark><mark style=background-color:#f3f7ef>the </mark><mark style=background-color:#f1f6ea>internet </mark>"
      ],
      "text/plain": [
       "<IPython.core.display.HTML object>"
      ]
     },
     "execution_count": 8,
     "metadata": {
      "tags": []
     },
     "output_type": "execute_result"
    }
   ],
   "source": [
    "######################\n",
    "# Correct Prediction #\n",
    "######################\n",
    "\n",
    "x_test_sample, y_test_sample = x_test[:NB_SAMPLES], y_test[:NB_SAMPLES]\n",
    "predictions = model(x_test_sample).numpy().argmax(axis=1)\n",
    "attrs = ig_explainer.explain_instance(x_test_sample,\n",
    "                                      baselines=None,\n",
    "                                      target=predictions)\n",
    "\n",
    "idx_to_visualize = 1\n",
    "pred_dict = {1: 'Positive review', 0: 'Negative review'}\n",
    "print('Predicted label =  {}: {}; Real label = {}: {}'.format(predictions[idx_to_visualize],\n",
    "                                                              pred_dict[predictions[idx_to_visualize]],\n",
    "                                                              0 if y_test_sample[idx_to_visualize][0] > y_test_sample[idx_to_visualize][1] else 1,\n",
    "                                                              pred_dict[0 if y_test_sample[idx_to_visualize][0] > y_test_sample[idx_to_visualize][1] else 1]))\n",
    "words = decode_sentence(x_test_sample[idx_to_visualize], reverse_index).split()\n",
    "ig_explainer.visualize(attrs[idx_to_visualize], words)"
   ]
  },
  {
   "cell_type": "markdown",
   "metadata": {
    "id": "xox36PEJ8HsF"
   },
   "source": [
    "The most important features that contribute to the positive prediction as identified by the Integrated Gradients technique"
   ]
  },
  {
   "cell_type": "code",
   "execution_count": 9,
   "metadata": {
    "colab": {
     "base_uri": "https://localhost:8080/",
     "height": 86
    },
    "id": "KBsqUAMY1aw5",
    "outputId": "7503b786-41c0-438a-dfeb-47488501103a"
   },
   "outputs": [
    {
     "name": "stdout",
     "output_type": "stream",
     "text": [
      "Predicted label =  0: Negative review; Real label = 1: Positive review\n"
     ]
    },
    {
     "data": {
      "text/html": [
       "<mark style=background-color:#f7f7f7>and </mark><mark style=background-color:#f6f7f5>is </mark><mark style=background-color:#fce4f0>now </mark><mark style=background-color:#edf6df>being </mark><mark style=background-color:#f3f7ef>UNK </mark><mark style=background-color:#f8f5f6>as </mark><mark style=background-color:#f6f7f5>a </mark><mark style=background-color:#faedf3>great </mark><mark style=background-color:#fddeee>new </mark><mark style=background-color:#276419>author </mark><mark style=background-color:#eef6e2>even </mark><mark style=background-color:#e99cc8>appearing </mark><mark style=background-color:#f1f6ea>on </mark><mark style=background-color:#faecf3>the </mark><mark style=background-color:#86c049>oprah </mark><mark style=background-color:#f3f7ef>show </mark><mark style=background-color:#f5f7f3>to </mark><mark style=background-color:#f7f7f7>in </mark><mark style=background-color:#f2f6ec>UNK </mark><mark style=background-color:#f9f0f5>he </mark><mark style=background-color:#f8f2f5>should </mark><mark style=background-color:#f8f3f6>be </mark><mark style=background-color:#f7f7f6>enjoying </mark><mark style=background-color:#d8efb9>thus </mark><mark style=background-color:#f3f6ed>UNK </mark><mark style=background-color:#f3f7ef>gets </mark><mark style=background-color:#f9f0f5>the </mark><mark style=background-color:#ebf6db>idea </mark><mark style=background-color:#f7f7f7>of </mark><mark style=background-color:#f4f7f0>UNK </mark><mark style=background-color:#faebf3>murders </mark><mark style=background-color:#fce5f1>to </mark><mark style=background-color:#2e6d1b>rid </mark><mark style=background-color:#edf6df>themselves </mark><mark style=background-color:#f9eff4>of </mark><mark style=background-color:#fde2f0>these </mark><mark style=background-color:#f5f7f2>UNK </mark><mark style=background-color:#f2f6ec>factors </mark><mark style=background-color:#f7f7f7>br </mark><mark style=background-color:#f8f5f6>br </mark><mark style=background-color:#f4f7f0>of </mark><mark style=background-color:#f8f4f6>course </mark><mark style=background-color:#faedf3>everything </mark><mark style=background-color:#f7f6f7>and </mark><mark style=background-color:#e9f5d8>anything </mark><mark style=background-color:#f8f3f6>can </mark><mark style=background-color:#f7cbe4>happen </mark><mark style=background-color:#fad4e9>when </mark><mark style=background-color:#f1f6ea>writer </mark><mark style=background-color:#e590bf>carl </mark><mark style=background-color:#f2f6ec>UNK </mark><mark style=background-color:#e795c3>lets </mark><mark style=background-color:#fce5f1>his </mark><mark style=background-color:#f8cee6>imagination </mark><mark style=background-color:#f1f6e8>UNK </mark><mark style=background-color:#f5f7f3>with </mark><mark style=background-color:#f1f6ea>UNK </mark><mark style=background-color:#fbe8f2>ideas </mark><mark style=background-color:#faecf3>for </mark><mark style=background-color:#f1f6ea>how </mark><mark style=background-color:#f9f1f5>the </mark><mark style=background-color:#eef6e2>plot </mark><mark style=background-color:#fce5f1>develops </mark><mark style=background-color:#f9f1f5>and </mark><mark style=background-color:#fbe6f1>it's </mark><mark style=background-color:#c4e699>amusing </mark><mark style=background-color:#f9eff4>all </mark><mark style=background-color:#faedf3>the </mark><mark style=background-color:#f5f7f3>way </mark><mark style=background-color:#edf6df>through </mark><mark style=background-color:#f6f7f5>providing </mark><mark style=background-color:#f4c1df>plenty </mark><mark style=background-color:#f8f4f6>of </mark><mark style=background-color:#edf6df>laughs </mark><mark style=background-color:#f9f0f5>and </mark><mark style=background-color:#eff6e4>chuckles </mark><mark style=background-color:#fbe6f1>along </mark><mark style=background-color:#faedf3>the </mark><mark style=background-color:#f7f7f6>way </mark><mark style=background-color:#f7f6f7>as </mark><mark style=background-color:#fce5f1>well </mark><mark style=background-color:#f7f7f7>as </mark><mark style=background-color:#f5f7f2>a </mark><mark style=background-color:#faebf3>good </mark><mark style=background-color:#f8f3f6>deal </mark><mark style=background-color:#f7f6f7>of </mark><mark style=background-color:#f8f3f6>suspense </mark><mark style=background-color:#f7f7f7>br </mark><mark style=background-color:#f7f7f7>br </mark><mark style=background-color:#f7f7f7>for </mark><mark style=background-color:#f3f7ef>UNK </mark><mark style=background-color:#f6f7f5>of </mark><mark style=background-color:#f8f4f6>black </mark><mark style=background-color:#f9f0f5>comedy </mark><mark style=background-color:#f8f5f6>this </mark><mark style=background-color:#f8f5f6>one </mark><mark style=background-color:#f2f6ec>is </mark><mark style=background-color:#e2f3ca>guaranteed </mark><mark style=background-color:#faebf3>to </mark><mark style=background-color:#f3f7ef>please </mark>"
      ],
      "text/plain": [
       "<IPython.core.display.HTML object>"
      ]
     },
     "execution_count": 9,
     "metadata": {
      "tags": []
     },
     "output_type": "execute_result"
    }
   ],
   "source": [
    "########################\n",
    "# Incorrect Prediction #\n",
    "########################\n",
    "\n",
    "idx_to_visualize = 10\n",
    "pred_dict = {1: 'Positive review', 0: 'Negative review'}\n",
    "print('Predicted label =  {}: {}; Real label = {}: {}'.format(predictions[idx_to_visualize],\n",
    "                                                              pred_dict[predictions[idx_to_visualize]],\n",
    "                                                              0 if y_test_sample[idx_to_visualize][0] > y_test_sample[idx_to_visualize][1] else 1,\n",
    "                                                              pred_dict[0 if y_test_sample[idx_to_visualize][0] > y_test_sample[idx_to_visualize][1] else 1]))\n",
    "words = decode_sentence(x_test_sample[idx_to_visualize], reverse_index).split()\n",
    "ig_explainer.visualize(attrs[idx_to_visualize], words)"
   ]
  },
  {
   "cell_type": "markdown",
   "metadata": {
    "id": "gL8T69Px1bGR"
   },
   "source": [
    "The most important features that contribute to the negative prediction even though the test label is positive, as identified by the Integrated Gradients technique"
   ]
  },
  {
   "cell_type": "markdown",
   "metadata": {
    "id": "233d-i9vxvsn"
   },
   "source": [
    "#### Real negative reviews example"
   ]
  },
  {
   "cell_type": "code",
   "execution_count": 10,
   "metadata": {
    "colab": {
     "base_uri": "https://localhost:8080/",
     "height": 86
    },
    "id": "gcr2XDHPxEq0",
    "outputId": "5952680b-ad47-4148-93e7-719396cb672f"
   },
   "outputs": [
    {
     "name": "stdout",
     "output_type": "stream",
     "text": [
      "Predicted label =  0: Negative review; Real label = 0: Negative review\n"
     ]
    },
    {
     "data": {
      "text/html": [
       "<mark style=background-color:#f9eef4>the </mark><mark style=background-color:#edf6df>mother </mark><mark style=background-color:#f8f3f6>in </mark><mark style=background-color:#f7f6f7>this </mark><mark style=background-color:#ebf6dc>movie </mark><mark style=background-color:#fbe9f2>is </mark><mark style=background-color:#7fbc41>reckless </mark><mark style=background-color:#f8f2f5>with </mark><mark style=background-color:#fce5f1>her </mark><mark style=background-color:#c6e79c>children </mark><mark style=background-color:#f8f3f6>to </mark><mark style=background-color:#fbe7f2>the </mark><mark style=background-color:#8fc654>point </mark><mark style=background-color:#f6f7f5>of </mark><mark style=background-color:#f0b2d7>neglect </mark><mark style=background-color:#f4c1df>i </mark><mark style=background-color:#fcdbed>wish </mark><mark style=background-color:#f8d0e7>i </mark><mark style=background-color:#acd977>wasn't </mark><mark style=background-color:#f9eef4>so </mark><mark style=background-color:#40831e>angry </mark><mark style=background-color:#f7f7f7>about </mark><mark style=background-color:#f9eef4>her </mark><mark style=background-color:#f8f3f6>and </mark><mark style=background-color:#f9f0f5>her </mark><mark style=background-color:#fbe8f2>actions </mark><mark style=background-color:#faeaf2>because </mark><mark style=background-color:#fde2f0>i </mark><mark style=background-color:#f5f7f3>would </mark><mark style=background-color:#fbe9f2>have </mark><mark style=background-color:#b5df82>otherwise </mark><mark style=background-color:#cb3289>enjoyed </mark><mark style=background-color:#fad4e9>the </mark><mark style=background-color:#f8f3f6>flick </mark><mark style=background-color:#fbe9f2>what </mark><mark style=background-color:#f4f7f0>a </mark><mark style=background-color:#f8cee6>number </mark><mark style=background-color:#f6c9e3>she </mark><mark style=background-color:#f8f3f6>was </mark><mark style=background-color:#f9d3e8>take </mark><mark style=background-color:#faedf3>my </mark><mark style=background-color:#276419>advise </mark><mark style=background-color:#f8cee6>and </mark><mark style=background-color:#f6f7f5>fast </mark><mark style=background-color:#eff6e5>forward </mark><mark style=background-color:#d2ecb0>through </mark><mark style=background-color:#f6c9e3>everything </mark><mark style=background-color:#d75ea1>you </mark><mark style=background-color:#f7cbe4>see </mark><mark style=background-color:#f9f1f5>her </mark><mark style=background-color:#fce4f0>do </mark><mark style=background-color:#f4c1df>until </mark><mark style=background-color:#f7cbe4>the </mark><mark style=background-color:#fbe8f2>end </mark><mark style=background-color:#f8d0e7>also </mark><mark style=background-color:#f8f3f6>is </mark><mark style=background-color:#f9eff4>anyone </mark><mark style=background-color:#d4edb3>else </mark><mark style=background-color:#f9f0f5>getting </mark><mark style=background-color:#3d7f1e>sick </mark><mark style=background-color:#f9eff4>of </mark><mark style=background-color:#f9f0f5>watching </mark><mark style=background-color:#f7f7f7>movies </mark><mark style=background-color:#fbe9f2>that </mark><mark style=background-color:#f5f7f2>are </mark><mark style=background-color:#fce5f1>filmed </mark><mark style=background-color:#fde0ef>so </mark><mark style=background-color:#f1b7da>dark </mark><mark style=background-color:#fbe6f1>anymore </mark><mark style=background-color:#fce5f1>one </mark><mark style=background-color:#f9eff4>can </mark><mark style=background-color:#64a52f>hardly </mark><mark style=background-color:#f2badc>see </mark><mark style=background-color:#fcdded>what </mark><mark style=background-color:#eef6e2>is </mark><mark style=background-color:#acd977>being </mark><mark style=background-color:#edf6e1>filmed </mark><mark style=background-color:#faedf3>as </mark><mark style=background-color:#f8f2f5>an </mark><mark style=background-color:#f4f7f0>audience </mark><mark style=background-color:#fad4e9>we </mark><mark style=background-color:#edf6df>are </mark><mark style=background-color:#edf6e1>UNK </mark><mark style=background-color:#f1f6ea>involved </mark><mark style=background-color:#f5f7f2>with </mark><mark style=background-color:#f8d0e7>the </mark><mark style=background-color:#fbe7f2>actions </mark><mark style=background-color:#f7f6f7>on </mark><mark style=background-color:#fce5f1>the </mark><mark style=background-color:#eef6e2>screen </mark><mark style=background-color:#fbe6f1>so </mark><mark style=background-color:#f9f1f5>then </mark><mark style=background-color:#e1f3c7>why </mark><mark style=background-color:#fbe7f2>the </mark><mark style=background-color:#f0f6e7>hell </mark><mark style=background-color:#b2dd7f>can't </mark><mark style=background-color:#f5c2e0>we </mark><mark style=background-color:#f9d3e8>have </mark><mark style=background-color:#fad4e9>night </mark><mark style=background-color:#f9eef4>vision </mark>"
      ],
      "text/plain": [
       "<IPython.core.display.HTML object>"
      ]
     },
     "execution_count": 10,
     "metadata": {
      "tags": []
     },
     "output_type": "execute_result"
    }
   ],
   "source": [
    "######################\n",
    "# Correct Prediction #\n",
    "######################\n",
    "\n",
    "idx_to_visualize = 3\n",
    "pred_dict = {1: 'Positive review', 0: 'Negative review'}\n",
    "print('Predicted label =  {}: {}; Real label = {}: {}'.format(predictions[idx_to_visualize],\n",
    "                                                              pred_dict[predictions[idx_to_visualize]],\n",
    "                                                              0 if y_test_sample[idx_to_visualize][0] > y_test_sample[idx_to_visualize][1] else 1,\n",
    "                                                              pred_dict[0 if y_test_sample[idx_to_visualize][0] > y_test_sample[idx_to_visualize][1] else 1]))\n",
    "words = decode_sentence(x_test_sample[idx_to_visualize], reverse_index).split()\n",
    "ig_explainer.visualize(attrs[idx_to_visualize], words)"
   ]
  },
  {
   "cell_type": "markdown",
   "metadata": {
    "id": "MhHTImGu8LFI"
   },
   "source": [
    "The most important features that contribute to the negative prediction as identified by the Integrated Gradients technique"
   ]
  },
  {
   "cell_type": "code",
   "execution_count": 11,
   "metadata": {
    "colab": {
     "base_uri": "https://localhost:8080/",
     "height": 86
    },
    "id": "H6cjt9iH3Hht",
    "outputId": "22e564c9-5873-480b-84b9-742bfd2683d6"
   },
   "outputs": [
    {
     "name": "stdout",
     "output_type": "stream",
     "text": [
      "Predicted label =  1: Positive review; Real label = 0: Negative review\n"
     ]
    },
    {
     "data": {
      "text/html": [
       "<mark style=background-color:#f3f7ef>have </mark><mark style=background-color:#fbe9f2>long </mark><mark style=background-color:#8fc654>since </mark><mark style=background-color:#e7f5d2>become </mark><mark style=background-color:#e7f5d2>camp </mark><mark style=background-color:#f5f7f2>this </mark><mark style=background-color:#f7f7f7>one </mark><mark style=background-color:#f4f7f0>is </mark><mark style=background-color:#ecf6de>filled </mark><mark style=background-color:#f4f7f0>with </mark><mark style=background-color:#faebf3>dubbed </mark><mark style=background-color:#f2badc>songs </mark><mark style=background-color:#faecf3>UNK </mark><mark style=background-color:#f8f2f5>UNK </mark><mark style=background-color:#f3f7ef>and </mark><mark style=background-color:#ecf6de>slapstick </mark><mark style=background-color:#e9f5d6>it's </mark><mark style=background-color:#f3f7ef>a </mark><mark style=background-color:#e6f5d0>truly </mark><mark style=background-color:#fad4e9>crop </mark><mark style=background-color:#ebf6db>of </mark><mark style=background-color:#d4edb3>corn </mark><mark style=background-color:#f0f6e7>and </mark><mark style=background-color:#f7f7f7>pretty </mark><mark style=background-color:#f9eef4>near </mark><mark style=background-color:#f8f4f6>UNK </mark><mark style=background-color:#93c959>today </mark><mark style=background-color:#eff6e5>it </mark><mark style=background-color:#f9f0f5>was </mark><mark style=background-color:#93c959>nominated </mark><mark style=background-color:#f2f6ec>for </mark><mark style=background-color:#f7f7f6>its </mark><mark style=background-color:#69aa33>imaginative </mark><mark style=background-color:#eff6e5>special </mark><mark style=background-color:#f8cee6>effects </mark><mark style=background-color:#b9e187>which </mark><mark style=background-color:#f5f7f2>are </mark><mark style=background-color:#f8f4f6>almost </mark><mark style=background-color:#faecf3>UNK </mark><mark style=background-color:#f7f7f7>in </mark><mark style=background-color:#f9f1f5>this </mark><mark style=background-color:#d6eeb6>day </mark><mark style=background-color:#f3f6ed>and </mark><mark style=background-color:#ecf6de>age </mark><mark style=background-color:#faecf3>UNK </mark><mark style=background-color:#c2e596>mainly </mark><mark style=background-color:#f9f1f5>of </mark><mark style=background-color:#e8f5d5>trick </mark><mark style=background-color:#ddf1c1>photography </mark><mark style=background-color:#e6f5d0>the </mark><mark style=background-color:#fde1ef>only </mark><mark style=background-color:#3f811e>outstanding </mark><mark style=background-color:#8e0152>positive </mark><mark style=background-color:#f2badc>feature </mark><mark style=background-color:#83bf46>which </mark><mark style=background-color:#e388ba>survives </mark><mark style=background-color:#f1f6e8>is </mark><mark style=background-color:#f7f7f6>its </mark><mark style=background-color:#529624>beautiful </mark><mark style=background-color:#eff6e5>color </mark><mark style=background-color:#ebf6dc>and </mark><mark style=background-color:#67a832>clarity </mark><mark style=background-color:#eca6cf>sad </mark><mark style=background-color:#f5f7f2>to </mark><mark style=background-color:#f7f7f6>say </mark><mark style=background-color:#f5f7f2>of </mark><mark style=background-color:#eff6e5>the </mark><mark style=background-color:#f9eef4>many </mark><mark style=background-color:#f7f7f7>films </mark><mark style=background-color:#f8f5f6>made </mark><mark style=background-color:#f5f7f3>in </mark><mark style=background-color:#faeaf2>this </mark><mark style=background-color:#cdeaa7>genre </mark><mark style=background-color:#f3f6ed>few </mark><mark style=background-color:#f6f7f5>of </mark><mark style=background-color:#fce3f0>them </mark><mark style=background-color:#f8f5f6>come </mark><mark style=background-color:#f3f6ed>up </mark><mark style=background-color:#f5f7f3>to </mark><mark style=background-color:#cbe9a4>alexander </mark><mark style=background-color:#f9f0f5>UNK </mark><mark style=background-color:#fbd9ec>original </mark><mark style=background-color:#7fbc41>thief </mark><mark style=background-color:#f0f6e7>of </mark><mark style=background-color:#faedf3>UNK </mark><mark style=background-color:#f7f7f7>almost </mark><mark style=background-color:#f9f1f5>any </mark><mark style=background-color:#eaf5d9>other </mark><mark style=background-color:#f9eef4>UNK </mark><mark style=background-color:#f1b7da>nights </mark><mark style=background-color:#f3f6ed>film </mark><mark style=background-color:#f5f7f2>is </mark><mark style=background-color:#86c049>superior </mark><mark style=background-color:#f6f7f5>to </mark><mark style=background-color:#f8f5f6>this </mark><mark style=background-color:#f5f7f3>one </mark><mark style=background-color:#f8f2f5>though </mark><mark style=background-color:#eef6e2>it's </mark><mark style=background-color:#f2f6ec>a </mark><mark style=background-color:#fbd8eb>loser </mark>"
      ],
      "text/plain": [
       "<IPython.core.display.HTML object>"
      ]
     },
     "execution_count": 11,
     "metadata": {
      "tags": []
     },
     "output_type": "execute_result"
    }
   ],
   "source": [
    "########################\n",
    "# Incorrect Prediction #\n",
    "########################\n",
    "\n",
    "idx_to_visualize = 8\n",
    "pred_dict = {1: 'Positive review', 0: 'Negative review'}\n",
    "print('Predicted label =  {}: {}; Real label = {}: {}'.format(predictions[idx_to_visualize],\n",
    "                                                              pred_dict[predictions[idx_to_visualize]],\n",
    "                                                              0 if y_test_sample[idx_to_visualize][0] > y_test_sample[idx_to_visualize][1] else 1,\n",
    "                                                              pred_dict[0 if y_test_sample[idx_to_visualize][0] > y_test_sample[idx_to_visualize][1] else 1]))\n",
    "words = decode_sentence(x_test_sample[idx_to_visualize], reverse_index).split()\n",
    "ig_explainer.visualize(attrs[idx_to_visualize], words)"
   ]
  },
  {
   "cell_type": "markdown",
   "metadata": {
    "id": "X2ObjCq93H0e"
   },
   "source": [
    "The most important features that contribute to the positive prediction even though the test label is negative, as identified by the Integrated Gradients technique"
   ]
  }
 ],
 "metadata": {
  "accelerator": "GPU",
  "colab": {
   "collapsed_sections": [],
   "name": "ExplainableAI-IG-Text.ipynb",
   "provenance": []
  },
  "kernelspec": {
   "display_name": "Python 3",
   "language": "python",
   "name": "python3"
  },
  "language_info": {
   "codemirror_mode": {
    "name": "ipython",
    "version": 3
   },
   "file_extension": ".py",
   "mimetype": "text/x-python",
   "name": "python",
   "nbconvert_exporter": "python",
   "pygments_lexer": "ipython3",
   "version": "3.7.5"
  }
 },
 "nbformat": 4,
 "nbformat_minor": 1
}
